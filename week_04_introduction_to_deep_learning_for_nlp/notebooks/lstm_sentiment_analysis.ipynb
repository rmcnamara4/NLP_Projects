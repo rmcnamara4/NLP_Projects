{
  "nbformat": 4,
  "nbformat_minor": 0,
  "metadata": {
    "colab": {
      "provenance": [],
      "gpuType": "T4"
    },
    "kernelspec": {
      "name": "python3",
      "display_name": "Python 3"
    },
    "language_info": {
      "name": "python"
    },
    "accelerator": "GPU",
    "widgets": {
      "application/vnd.jupyter.widget-state+json": {
        "753fc8cc0aec45dfa3e78adfd31ffab1": {
          "model_module": "@jupyter-widgets/controls",
          "model_name": "HBoxModel",
          "model_module_version": "1.5.0",
          "state": {
            "_dom_classes": [],
            "_model_module": "@jupyter-widgets/controls",
            "_model_module_version": "1.5.0",
            "_model_name": "HBoxModel",
            "_view_count": null,
            "_view_module": "@jupyter-widgets/controls",
            "_view_module_version": "1.5.0",
            "_view_name": "HBoxView",
            "box_style": "",
            "children": [
              "IPY_MODEL_141af433376d4b93b2f08b6ca38e64d6",
              "IPY_MODEL_5bd32f265ebd4e11b0de99265e6e08d3",
              "IPY_MODEL_06ac2591d175483e966107cfecdba3e5"
            ],
            "layout": "IPY_MODEL_42606297ff1a4fe09443631c10a43bab"
          }
        },
        "141af433376d4b93b2f08b6ca38e64d6": {
          "model_module": "@jupyter-widgets/controls",
          "model_name": "HTMLModel",
          "model_module_version": "1.5.0",
          "state": {
            "_dom_classes": [],
            "_model_module": "@jupyter-widgets/controls",
            "_model_module_version": "1.5.0",
            "_model_name": "HTMLModel",
            "_view_count": null,
            "_view_module": "@jupyter-widgets/controls",
            "_view_module_version": "1.5.0",
            "_view_name": "HTMLView",
            "description": "",
            "description_tooltip": null,
            "layout": "IPY_MODEL_59565c7a8d724e42a16511a95b162062",
            "placeholder": "​",
            "style": "IPY_MODEL_259ede0b67344865b02d21ffa4c156fb",
            "value": "Pandas Apply: 100%"
          }
        },
        "5bd32f265ebd4e11b0de99265e6e08d3": {
          "model_module": "@jupyter-widgets/controls",
          "model_name": "FloatProgressModel",
          "model_module_version": "1.5.0",
          "state": {
            "_dom_classes": [],
            "_model_module": "@jupyter-widgets/controls",
            "_model_module_version": "1.5.0",
            "_model_name": "FloatProgressModel",
            "_view_count": null,
            "_view_module": "@jupyter-widgets/controls",
            "_view_module_version": "1.5.0",
            "_view_name": "ProgressView",
            "bar_style": "success",
            "description": "",
            "description_tooltip": null,
            "layout": "IPY_MODEL_bea64f97bbf84b9eb03af9576c6e684d",
            "max": 559998,
            "min": 0,
            "orientation": "horizontal",
            "style": "IPY_MODEL_05964d5cd43d43758cc4d5d61dc4d631",
            "value": 559998
          }
        },
        "06ac2591d175483e966107cfecdba3e5": {
          "model_module": "@jupyter-widgets/controls",
          "model_name": "HTMLModel",
          "model_module_version": "1.5.0",
          "state": {
            "_dom_classes": [],
            "_model_module": "@jupyter-widgets/controls",
            "_model_module_version": "1.5.0",
            "_model_name": "HTMLModel",
            "_view_count": null,
            "_view_module": "@jupyter-widgets/controls",
            "_view_module_version": "1.5.0",
            "_view_name": "HTMLView",
            "description": "",
            "description_tooltip": null,
            "layout": "IPY_MODEL_2f334ee211214c2190da0e33c6dfeb62",
            "placeholder": "​",
            "style": "IPY_MODEL_d4a513c0be424aa691353730501f765c",
            "value": " 559998/559998 [00:01&lt;00:00, 725320.35it/s]"
          }
        },
        "42606297ff1a4fe09443631c10a43bab": {
          "model_module": "@jupyter-widgets/base",
          "model_name": "LayoutModel",
          "model_module_version": "1.2.0",
          "state": {
            "_model_module": "@jupyter-widgets/base",
            "_model_module_version": "1.2.0",
            "_model_name": "LayoutModel",
            "_view_count": null,
            "_view_module": "@jupyter-widgets/base",
            "_view_module_version": "1.2.0",
            "_view_name": "LayoutView",
            "align_content": null,
            "align_items": null,
            "align_self": null,
            "border": null,
            "bottom": null,
            "display": null,
            "flex": null,
            "flex_flow": null,
            "grid_area": null,
            "grid_auto_columns": null,
            "grid_auto_flow": null,
            "grid_auto_rows": null,
            "grid_column": null,
            "grid_gap": null,
            "grid_row": null,
            "grid_template_areas": null,
            "grid_template_columns": null,
            "grid_template_rows": null,
            "height": null,
            "justify_content": null,
            "justify_items": null,
            "left": null,
            "margin": null,
            "max_height": null,
            "max_width": null,
            "min_height": null,
            "min_width": null,
            "object_fit": null,
            "object_position": null,
            "order": null,
            "overflow": null,
            "overflow_x": null,
            "overflow_y": null,
            "padding": null,
            "right": null,
            "top": null,
            "visibility": null,
            "width": null
          }
        },
        "59565c7a8d724e42a16511a95b162062": {
          "model_module": "@jupyter-widgets/base",
          "model_name": "LayoutModel",
          "model_module_version": "1.2.0",
          "state": {
            "_model_module": "@jupyter-widgets/base",
            "_model_module_version": "1.2.0",
            "_model_name": "LayoutModel",
            "_view_count": null,
            "_view_module": "@jupyter-widgets/base",
            "_view_module_version": "1.2.0",
            "_view_name": "LayoutView",
            "align_content": null,
            "align_items": null,
            "align_self": null,
            "border": null,
            "bottom": null,
            "display": null,
            "flex": null,
            "flex_flow": null,
            "grid_area": null,
            "grid_auto_columns": null,
            "grid_auto_flow": null,
            "grid_auto_rows": null,
            "grid_column": null,
            "grid_gap": null,
            "grid_row": null,
            "grid_template_areas": null,
            "grid_template_columns": null,
            "grid_template_rows": null,
            "height": null,
            "justify_content": null,
            "justify_items": null,
            "left": null,
            "margin": null,
            "max_height": null,
            "max_width": null,
            "min_height": null,
            "min_width": null,
            "object_fit": null,
            "object_position": null,
            "order": null,
            "overflow": null,
            "overflow_x": null,
            "overflow_y": null,
            "padding": null,
            "right": null,
            "top": null,
            "visibility": null,
            "width": null
          }
        },
        "259ede0b67344865b02d21ffa4c156fb": {
          "model_module": "@jupyter-widgets/controls",
          "model_name": "DescriptionStyleModel",
          "model_module_version": "1.5.0",
          "state": {
            "_model_module": "@jupyter-widgets/controls",
            "_model_module_version": "1.5.0",
            "_model_name": "DescriptionStyleModel",
            "_view_count": null,
            "_view_module": "@jupyter-widgets/base",
            "_view_module_version": "1.2.0",
            "_view_name": "StyleView",
            "description_width": ""
          }
        },
        "bea64f97bbf84b9eb03af9576c6e684d": {
          "model_module": "@jupyter-widgets/base",
          "model_name": "LayoutModel",
          "model_module_version": "1.2.0",
          "state": {
            "_model_module": "@jupyter-widgets/base",
            "_model_module_version": "1.2.0",
            "_model_name": "LayoutModel",
            "_view_count": null,
            "_view_module": "@jupyter-widgets/base",
            "_view_module_version": "1.2.0",
            "_view_name": "LayoutView",
            "align_content": null,
            "align_items": null,
            "align_self": null,
            "border": null,
            "bottom": null,
            "display": null,
            "flex": null,
            "flex_flow": null,
            "grid_area": null,
            "grid_auto_columns": null,
            "grid_auto_flow": null,
            "grid_auto_rows": null,
            "grid_column": null,
            "grid_gap": null,
            "grid_row": null,
            "grid_template_areas": null,
            "grid_template_columns": null,
            "grid_template_rows": null,
            "height": null,
            "justify_content": null,
            "justify_items": null,
            "left": null,
            "margin": null,
            "max_height": null,
            "max_width": null,
            "min_height": null,
            "min_width": null,
            "object_fit": null,
            "object_position": null,
            "order": null,
            "overflow": null,
            "overflow_x": null,
            "overflow_y": null,
            "padding": null,
            "right": null,
            "top": null,
            "visibility": null,
            "width": null
          }
        },
        "05964d5cd43d43758cc4d5d61dc4d631": {
          "model_module": "@jupyter-widgets/controls",
          "model_name": "ProgressStyleModel",
          "model_module_version": "1.5.0",
          "state": {
            "_model_module": "@jupyter-widgets/controls",
            "_model_module_version": "1.5.0",
            "_model_name": "ProgressStyleModel",
            "_view_count": null,
            "_view_module": "@jupyter-widgets/base",
            "_view_module_version": "1.2.0",
            "_view_name": "StyleView",
            "bar_color": null,
            "description_width": ""
          }
        },
        "2f334ee211214c2190da0e33c6dfeb62": {
          "model_module": "@jupyter-widgets/base",
          "model_name": "LayoutModel",
          "model_module_version": "1.2.0",
          "state": {
            "_model_module": "@jupyter-widgets/base",
            "_model_module_version": "1.2.0",
            "_model_name": "LayoutModel",
            "_view_count": null,
            "_view_module": "@jupyter-widgets/base",
            "_view_module_version": "1.2.0",
            "_view_name": "LayoutView",
            "align_content": null,
            "align_items": null,
            "align_self": null,
            "border": null,
            "bottom": null,
            "display": null,
            "flex": null,
            "flex_flow": null,
            "grid_area": null,
            "grid_auto_columns": null,
            "grid_auto_flow": null,
            "grid_auto_rows": null,
            "grid_column": null,
            "grid_gap": null,
            "grid_row": null,
            "grid_template_areas": null,
            "grid_template_columns": null,
            "grid_template_rows": null,
            "height": null,
            "justify_content": null,
            "justify_items": null,
            "left": null,
            "margin": null,
            "max_height": null,
            "max_width": null,
            "min_height": null,
            "min_width": null,
            "object_fit": null,
            "object_position": null,
            "order": null,
            "overflow": null,
            "overflow_x": null,
            "overflow_y": null,
            "padding": null,
            "right": null,
            "top": null,
            "visibility": null,
            "width": null
          }
        },
        "d4a513c0be424aa691353730501f765c": {
          "model_module": "@jupyter-widgets/controls",
          "model_name": "DescriptionStyleModel",
          "model_module_version": "1.5.0",
          "state": {
            "_model_module": "@jupyter-widgets/controls",
            "_model_module_version": "1.5.0",
            "_model_name": "DescriptionStyleModel",
            "_view_count": null,
            "_view_module": "@jupyter-widgets/base",
            "_view_module_version": "1.2.0",
            "_view_name": "StyleView",
            "description_width": ""
          }
        },
        "7d760f84084a4d29aab23e50e267b41b": {
          "model_module": "@jupyter-widgets/controls",
          "model_name": "HBoxModel",
          "model_module_version": "1.5.0",
          "state": {
            "_dom_classes": [],
            "_model_module": "@jupyter-widgets/controls",
            "_model_module_version": "1.5.0",
            "_model_name": "HBoxModel",
            "_view_count": null,
            "_view_module": "@jupyter-widgets/controls",
            "_view_module_version": "1.5.0",
            "_view_name": "HBoxView",
            "box_style": "",
            "children": [
              "IPY_MODEL_a7e37bb313694a488231dc3da1503e5c",
              "IPY_MODEL_3871c4d7b9db4578821a742104782b6e",
              "IPY_MODEL_b3c0e401e74c4f36ba11a41027e5e990"
            ],
            "layout": "IPY_MODEL_0e4c0ab5301f4024a508ab5839b0e0e8"
          }
        },
        "a7e37bb313694a488231dc3da1503e5c": {
          "model_module": "@jupyter-widgets/controls",
          "model_name": "HTMLModel",
          "model_module_version": "1.5.0",
          "state": {
            "_dom_classes": [],
            "_model_module": "@jupyter-widgets/controls",
            "_model_module_version": "1.5.0",
            "_model_name": "HTMLModel",
            "_view_count": null,
            "_view_module": "@jupyter-widgets/controls",
            "_view_module_version": "1.5.0",
            "_view_name": "HTMLView",
            "description": "",
            "description_tooltip": null,
            "layout": "IPY_MODEL_fc47646801a246f69070645267a0f29d",
            "placeholder": "​",
            "style": "IPY_MODEL_a9b8662828d14397847b9ade07b86a14",
            "value": "Pandas Apply: 100%"
          }
        },
        "3871c4d7b9db4578821a742104782b6e": {
          "model_module": "@jupyter-widgets/controls",
          "model_name": "FloatProgressModel",
          "model_module_version": "1.5.0",
          "state": {
            "_dom_classes": [],
            "_model_module": "@jupyter-widgets/controls",
            "_model_module_version": "1.5.0",
            "_model_name": "FloatProgressModel",
            "_view_count": null,
            "_view_module": "@jupyter-widgets/controls",
            "_view_module_version": "1.5.0",
            "_view_name": "ProgressView",
            "bar_style": "success",
            "description": "",
            "description_tooltip": null,
            "layout": "IPY_MODEL_5d25f48cd39a4321a0ca01326ddf98fa",
            "max": 140000,
            "min": 0,
            "orientation": "horizontal",
            "style": "IPY_MODEL_86ba8853b856463980186a5cf1079c87",
            "value": 140000
          }
        },
        "b3c0e401e74c4f36ba11a41027e5e990": {
          "model_module": "@jupyter-widgets/controls",
          "model_name": "HTMLModel",
          "model_module_version": "1.5.0",
          "state": {
            "_dom_classes": [],
            "_model_module": "@jupyter-widgets/controls",
            "_model_module_version": "1.5.0",
            "_model_name": "HTMLModel",
            "_view_count": null,
            "_view_module": "@jupyter-widgets/controls",
            "_view_module_version": "1.5.0",
            "_view_name": "HTMLView",
            "description": "",
            "description_tooltip": null,
            "layout": "IPY_MODEL_a2897b3b58f449f2a5f419db706c58cd",
            "placeholder": "​",
            "style": "IPY_MODEL_a5475dee66e44d5abf921a5696d78240",
            "value": " 140000/140000 [00:00&lt;00:00, 569532.46it/s]"
          }
        },
        "0e4c0ab5301f4024a508ab5839b0e0e8": {
          "model_module": "@jupyter-widgets/base",
          "model_name": "LayoutModel",
          "model_module_version": "1.2.0",
          "state": {
            "_model_module": "@jupyter-widgets/base",
            "_model_module_version": "1.2.0",
            "_model_name": "LayoutModel",
            "_view_count": null,
            "_view_module": "@jupyter-widgets/base",
            "_view_module_version": "1.2.0",
            "_view_name": "LayoutView",
            "align_content": null,
            "align_items": null,
            "align_self": null,
            "border": null,
            "bottom": null,
            "display": null,
            "flex": null,
            "flex_flow": null,
            "grid_area": null,
            "grid_auto_columns": null,
            "grid_auto_flow": null,
            "grid_auto_rows": null,
            "grid_column": null,
            "grid_gap": null,
            "grid_row": null,
            "grid_template_areas": null,
            "grid_template_columns": null,
            "grid_template_rows": null,
            "height": null,
            "justify_content": null,
            "justify_items": null,
            "left": null,
            "margin": null,
            "max_height": null,
            "max_width": null,
            "min_height": null,
            "min_width": null,
            "object_fit": null,
            "object_position": null,
            "order": null,
            "overflow": null,
            "overflow_x": null,
            "overflow_y": null,
            "padding": null,
            "right": null,
            "top": null,
            "visibility": null,
            "width": null
          }
        },
        "fc47646801a246f69070645267a0f29d": {
          "model_module": "@jupyter-widgets/base",
          "model_name": "LayoutModel",
          "model_module_version": "1.2.0",
          "state": {
            "_model_module": "@jupyter-widgets/base",
            "_model_module_version": "1.2.0",
            "_model_name": "LayoutModel",
            "_view_count": null,
            "_view_module": "@jupyter-widgets/base",
            "_view_module_version": "1.2.0",
            "_view_name": "LayoutView",
            "align_content": null,
            "align_items": null,
            "align_self": null,
            "border": null,
            "bottom": null,
            "display": null,
            "flex": null,
            "flex_flow": null,
            "grid_area": null,
            "grid_auto_columns": null,
            "grid_auto_flow": null,
            "grid_auto_rows": null,
            "grid_column": null,
            "grid_gap": null,
            "grid_row": null,
            "grid_template_areas": null,
            "grid_template_columns": null,
            "grid_template_rows": null,
            "height": null,
            "justify_content": null,
            "justify_items": null,
            "left": null,
            "margin": null,
            "max_height": null,
            "max_width": null,
            "min_height": null,
            "min_width": null,
            "object_fit": null,
            "object_position": null,
            "order": null,
            "overflow": null,
            "overflow_x": null,
            "overflow_y": null,
            "padding": null,
            "right": null,
            "top": null,
            "visibility": null,
            "width": null
          }
        },
        "a9b8662828d14397847b9ade07b86a14": {
          "model_module": "@jupyter-widgets/controls",
          "model_name": "DescriptionStyleModel",
          "model_module_version": "1.5.0",
          "state": {
            "_model_module": "@jupyter-widgets/controls",
            "_model_module_version": "1.5.0",
            "_model_name": "DescriptionStyleModel",
            "_view_count": null,
            "_view_module": "@jupyter-widgets/base",
            "_view_module_version": "1.2.0",
            "_view_name": "StyleView",
            "description_width": ""
          }
        },
        "5d25f48cd39a4321a0ca01326ddf98fa": {
          "model_module": "@jupyter-widgets/base",
          "model_name": "LayoutModel",
          "model_module_version": "1.2.0",
          "state": {
            "_model_module": "@jupyter-widgets/base",
            "_model_module_version": "1.2.0",
            "_model_name": "LayoutModel",
            "_view_count": null,
            "_view_module": "@jupyter-widgets/base",
            "_view_module_version": "1.2.0",
            "_view_name": "LayoutView",
            "align_content": null,
            "align_items": null,
            "align_self": null,
            "border": null,
            "bottom": null,
            "display": null,
            "flex": null,
            "flex_flow": null,
            "grid_area": null,
            "grid_auto_columns": null,
            "grid_auto_flow": null,
            "grid_auto_rows": null,
            "grid_column": null,
            "grid_gap": null,
            "grid_row": null,
            "grid_template_areas": null,
            "grid_template_columns": null,
            "grid_template_rows": null,
            "height": null,
            "justify_content": null,
            "justify_items": null,
            "left": null,
            "margin": null,
            "max_height": null,
            "max_width": null,
            "min_height": null,
            "min_width": null,
            "object_fit": null,
            "object_position": null,
            "order": null,
            "overflow": null,
            "overflow_x": null,
            "overflow_y": null,
            "padding": null,
            "right": null,
            "top": null,
            "visibility": null,
            "width": null
          }
        },
        "86ba8853b856463980186a5cf1079c87": {
          "model_module": "@jupyter-widgets/controls",
          "model_name": "ProgressStyleModel",
          "model_module_version": "1.5.0",
          "state": {
            "_model_module": "@jupyter-widgets/controls",
            "_model_module_version": "1.5.0",
            "_model_name": "ProgressStyleModel",
            "_view_count": null,
            "_view_module": "@jupyter-widgets/base",
            "_view_module_version": "1.2.0",
            "_view_name": "StyleView",
            "bar_color": null,
            "description_width": ""
          }
        },
        "a2897b3b58f449f2a5f419db706c58cd": {
          "model_module": "@jupyter-widgets/base",
          "model_name": "LayoutModel",
          "model_module_version": "1.2.0",
          "state": {
            "_model_module": "@jupyter-widgets/base",
            "_model_module_version": "1.2.0",
            "_model_name": "LayoutModel",
            "_view_count": null,
            "_view_module": "@jupyter-widgets/base",
            "_view_module_version": "1.2.0",
            "_view_name": "LayoutView",
            "align_content": null,
            "align_items": null,
            "align_self": null,
            "border": null,
            "bottom": null,
            "display": null,
            "flex": null,
            "flex_flow": null,
            "grid_area": null,
            "grid_auto_columns": null,
            "grid_auto_flow": null,
            "grid_auto_rows": null,
            "grid_column": null,
            "grid_gap": null,
            "grid_row": null,
            "grid_template_areas": null,
            "grid_template_columns": null,
            "grid_template_rows": null,
            "height": null,
            "justify_content": null,
            "justify_items": null,
            "left": null,
            "margin": null,
            "max_height": null,
            "max_width": null,
            "min_height": null,
            "min_width": null,
            "object_fit": null,
            "object_position": null,
            "order": null,
            "overflow": null,
            "overflow_x": null,
            "overflow_y": null,
            "padding": null,
            "right": null,
            "top": null,
            "visibility": null,
            "width": null
          }
        },
        "a5475dee66e44d5abf921a5696d78240": {
          "model_module": "@jupyter-widgets/controls",
          "model_name": "DescriptionStyleModel",
          "model_module_version": "1.5.0",
          "state": {
            "_model_module": "@jupyter-widgets/controls",
            "_model_module_version": "1.5.0",
            "_model_name": "DescriptionStyleModel",
            "_view_count": null,
            "_view_module": "@jupyter-widgets/base",
            "_view_module_version": "1.2.0",
            "_view_name": "StyleView",
            "description_width": ""
          }
        },
        "a04fa8cda749453c9f96b6b03b3168e9": {
          "model_module": "@jupyter-widgets/controls",
          "model_name": "HBoxModel",
          "model_module_version": "1.5.0",
          "state": {
            "_dom_classes": [],
            "_model_module": "@jupyter-widgets/controls",
            "_model_module_version": "1.5.0",
            "_model_name": "HBoxModel",
            "_view_count": null,
            "_view_module": "@jupyter-widgets/controls",
            "_view_module_version": "1.5.0",
            "_view_name": "HBoxView",
            "box_style": "",
            "children": [
              "IPY_MODEL_8e9fc18ef653492ea8d155d9c267acdd",
              "IPY_MODEL_e3cbd5f7cd0d454d90707ab2e513240e",
              "IPY_MODEL_feef36f1fcb64477a51c787d1c8d94e5"
            ],
            "layout": "IPY_MODEL_d8004bb2c0d5499b93c91f40db0d4d22"
          }
        },
        "8e9fc18ef653492ea8d155d9c267acdd": {
          "model_module": "@jupyter-widgets/controls",
          "model_name": "HTMLModel",
          "model_module_version": "1.5.0",
          "state": {
            "_dom_classes": [],
            "_model_module": "@jupyter-widgets/controls",
            "_model_module_version": "1.5.0",
            "_model_name": "HTMLModel",
            "_view_count": null,
            "_view_module": "@jupyter-widgets/controls",
            "_view_module_version": "1.5.0",
            "_view_name": "HTMLView",
            "description": "",
            "description_tooltip": null,
            "layout": "IPY_MODEL_abc1ac7748c943cfa7322004d9962128",
            "placeholder": "​",
            "style": "IPY_MODEL_4dba29f1612b4479b7a138840d7a06c8",
            "value": "Pandas Apply: 100%"
          }
        },
        "e3cbd5f7cd0d454d90707ab2e513240e": {
          "model_module": "@jupyter-widgets/controls",
          "model_name": "FloatProgressModel",
          "model_module_version": "1.5.0",
          "state": {
            "_dom_classes": [],
            "_model_module": "@jupyter-widgets/controls",
            "_model_module_version": "1.5.0",
            "_model_name": "FloatProgressModel",
            "_view_count": null,
            "_view_module": "@jupyter-widgets/controls",
            "_view_module_version": "1.5.0",
            "_view_name": "ProgressView",
            "bar_style": "success",
            "description": "",
            "description_tooltip": null,
            "layout": "IPY_MODEL_779a8ba962594c7f8fc83c11772e261d",
            "max": 400000,
            "min": 0,
            "orientation": "horizontal",
            "style": "IPY_MODEL_d5b7163fa643456c98215703b371d2c9",
            "value": 400000
          }
        },
        "feef36f1fcb64477a51c787d1c8d94e5": {
          "model_module": "@jupyter-widgets/controls",
          "model_name": "HTMLModel",
          "model_module_version": "1.5.0",
          "state": {
            "_dom_classes": [],
            "_model_module": "@jupyter-widgets/controls",
            "_model_module_version": "1.5.0",
            "_model_name": "HTMLModel",
            "_view_count": null,
            "_view_module": "@jupyter-widgets/controls",
            "_view_module_version": "1.5.0",
            "_view_name": "HTMLView",
            "description": "",
            "description_tooltip": null,
            "layout": "IPY_MODEL_ad50dc16891248339cfb5f6723e2d422",
            "placeholder": "​",
            "style": "IPY_MODEL_6b8153d8e4254bd1994e30801bf4c6b1",
            "value": " 400000/400000 [00:00&lt;00:00, 715574.17it/s]"
          }
        },
        "d8004bb2c0d5499b93c91f40db0d4d22": {
          "model_module": "@jupyter-widgets/base",
          "model_name": "LayoutModel",
          "model_module_version": "1.2.0",
          "state": {
            "_model_module": "@jupyter-widgets/base",
            "_model_module_version": "1.2.0",
            "_model_name": "LayoutModel",
            "_view_count": null,
            "_view_module": "@jupyter-widgets/base",
            "_view_module_version": "1.2.0",
            "_view_name": "LayoutView",
            "align_content": null,
            "align_items": null,
            "align_self": null,
            "border": null,
            "bottom": null,
            "display": null,
            "flex": null,
            "flex_flow": null,
            "grid_area": null,
            "grid_auto_columns": null,
            "grid_auto_flow": null,
            "grid_auto_rows": null,
            "grid_column": null,
            "grid_gap": null,
            "grid_row": null,
            "grid_template_areas": null,
            "grid_template_columns": null,
            "grid_template_rows": null,
            "height": null,
            "justify_content": null,
            "justify_items": null,
            "left": null,
            "margin": null,
            "max_height": null,
            "max_width": null,
            "min_height": null,
            "min_width": null,
            "object_fit": null,
            "object_position": null,
            "order": null,
            "overflow": null,
            "overflow_x": null,
            "overflow_y": null,
            "padding": null,
            "right": null,
            "top": null,
            "visibility": null,
            "width": null
          }
        },
        "abc1ac7748c943cfa7322004d9962128": {
          "model_module": "@jupyter-widgets/base",
          "model_name": "LayoutModel",
          "model_module_version": "1.2.0",
          "state": {
            "_model_module": "@jupyter-widgets/base",
            "_model_module_version": "1.2.0",
            "_model_name": "LayoutModel",
            "_view_count": null,
            "_view_module": "@jupyter-widgets/base",
            "_view_module_version": "1.2.0",
            "_view_name": "LayoutView",
            "align_content": null,
            "align_items": null,
            "align_self": null,
            "border": null,
            "bottom": null,
            "display": null,
            "flex": null,
            "flex_flow": null,
            "grid_area": null,
            "grid_auto_columns": null,
            "grid_auto_flow": null,
            "grid_auto_rows": null,
            "grid_column": null,
            "grid_gap": null,
            "grid_row": null,
            "grid_template_areas": null,
            "grid_template_columns": null,
            "grid_template_rows": null,
            "height": null,
            "justify_content": null,
            "justify_items": null,
            "left": null,
            "margin": null,
            "max_height": null,
            "max_width": null,
            "min_height": null,
            "min_width": null,
            "object_fit": null,
            "object_position": null,
            "order": null,
            "overflow": null,
            "overflow_x": null,
            "overflow_y": null,
            "padding": null,
            "right": null,
            "top": null,
            "visibility": null,
            "width": null
          }
        },
        "4dba29f1612b4479b7a138840d7a06c8": {
          "model_module": "@jupyter-widgets/controls",
          "model_name": "DescriptionStyleModel",
          "model_module_version": "1.5.0",
          "state": {
            "_model_module": "@jupyter-widgets/controls",
            "_model_module_version": "1.5.0",
            "_model_name": "DescriptionStyleModel",
            "_view_count": null,
            "_view_module": "@jupyter-widgets/base",
            "_view_module_version": "1.2.0",
            "_view_name": "StyleView",
            "description_width": ""
          }
        },
        "779a8ba962594c7f8fc83c11772e261d": {
          "model_module": "@jupyter-widgets/base",
          "model_name": "LayoutModel",
          "model_module_version": "1.2.0",
          "state": {
            "_model_module": "@jupyter-widgets/base",
            "_model_module_version": "1.2.0",
            "_model_name": "LayoutModel",
            "_view_count": null,
            "_view_module": "@jupyter-widgets/base",
            "_view_module_version": "1.2.0",
            "_view_name": "LayoutView",
            "align_content": null,
            "align_items": null,
            "align_self": null,
            "border": null,
            "bottom": null,
            "display": null,
            "flex": null,
            "flex_flow": null,
            "grid_area": null,
            "grid_auto_columns": null,
            "grid_auto_flow": null,
            "grid_auto_rows": null,
            "grid_column": null,
            "grid_gap": null,
            "grid_row": null,
            "grid_template_areas": null,
            "grid_template_columns": null,
            "grid_template_rows": null,
            "height": null,
            "justify_content": null,
            "justify_items": null,
            "left": null,
            "margin": null,
            "max_height": null,
            "max_width": null,
            "min_height": null,
            "min_width": null,
            "object_fit": null,
            "object_position": null,
            "order": null,
            "overflow": null,
            "overflow_x": null,
            "overflow_y": null,
            "padding": null,
            "right": null,
            "top": null,
            "visibility": null,
            "width": null
          }
        },
        "d5b7163fa643456c98215703b371d2c9": {
          "model_module": "@jupyter-widgets/controls",
          "model_name": "ProgressStyleModel",
          "model_module_version": "1.5.0",
          "state": {
            "_model_module": "@jupyter-widgets/controls",
            "_model_module_version": "1.5.0",
            "_model_name": "ProgressStyleModel",
            "_view_count": null,
            "_view_module": "@jupyter-widgets/base",
            "_view_module_version": "1.2.0",
            "_view_name": "StyleView",
            "bar_color": null,
            "description_width": ""
          }
        },
        "ad50dc16891248339cfb5f6723e2d422": {
          "model_module": "@jupyter-widgets/base",
          "model_name": "LayoutModel",
          "model_module_version": "1.2.0",
          "state": {
            "_model_module": "@jupyter-widgets/base",
            "_model_module_version": "1.2.0",
            "_model_name": "LayoutModel",
            "_view_count": null,
            "_view_module": "@jupyter-widgets/base",
            "_view_module_version": "1.2.0",
            "_view_name": "LayoutView",
            "align_content": null,
            "align_items": null,
            "align_self": null,
            "border": null,
            "bottom": null,
            "display": null,
            "flex": null,
            "flex_flow": null,
            "grid_area": null,
            "grid_auto_columns": null,
            "grid_auto_flow": null,
            "grid_auto_rows": null,
            "grid_column": null,
            "grid_gap": null,
            "grid_row": null,
            "grid_template_areas": null,
            "grid_template_columns": null,
            "grid_template_rows": null,
            "height": null,
            "justify_content": null,
            "justify_items": null,
            "left": null,
            "margin": null,
            "max_height": null,
            "max_width": null,
            "min_height": null,
            "min_width": null,
            "object_fit": null,
            "object_position": null,
            "order": null,
            "overflow": null,
            "overflow_x": null,
            "overflow_y": null,
            "padding": null,
            "right": null,
            "top": null,
            "visibility": null,
            "width": null
          }
        },
        "6b8153d8e4254bd1994e30801bf4c6b1": {
          "model_module": "@jupyter-widgets/controls",
          "model_name": "DescriptionStyleModel",
          "model_module_version": "1.5.0",
          "state": {
            "_model_module": "@jupyter-widgets/controls",
            "_model_module_version": "1.5.0",
            "_model_name": "DescriptionStyleModel",
            "_view_count": null,
            "_view_module": "@jupyter-widgets/base",
            "_view_module_version": "1.2.0",
            "_view_name": "StyleView",
            "description_width": ""
          }
        },
        "9482e3f0c8b74ca6a0ad6b9ab9411078": {
          "model_module": "@jupyter-widgets/controls",
          "model_name": "HBoxModel",
          "model_module_version": "1.5.0",
          "state": {
            "_dom_classes": [],
            "_model_module": "@jupyter-widgets/controls",
            "_model_module_version": "1.5.0",
            "_model_name": "HBoxModel",
            "_view_count": null,
            "_view_module": "@jupyter-widgets/controls",
            "_view_module_version": "1.5.0",
            "_view_name": "HBoxView",
            "box_style": "",
            "children": [
              "IPY_MODEL_1273c349885545428fa482f965d5a077",
              "IPY_MODEL_7e92a5642747498d9fa136e89c120bae",
              "IPY_MODEL_cfbb74d1f13e41e194ba59cf25064788"
            ],
            "layout": "IPY_MODEL_6e07ef2710604367b8cc6392c94a3222"
          }
        },
        "1273c349885545428fa482f965d5a077": {
          "model_module": "@jupyter-widgets/controls",
          "model_name": "HTMLModel",
          "model_module_version": "1.5.0",
          "state": {
            "_dom_classes": [],
            "_model_module": "@jupyter-widgets/controls",
            "_model_module_version": "1.5.0",
            "_model_name": "HTMLModel",
            "_view_count": null,
            "_view_module": "@jupyter-widgets/controls",
            "_view_module_version": "1.5.0",
            "_view_name": "HTMLView",
            "description": "",
            "description_tooltip": null,
            "layout": "IPY_MODEL_4df6ebe77807444986ed4f9aa21baa9a",
            "placeholder": "​",
            "style": "IPY_MODEL_8b4a48da53b5434d8ffff1a6ca52b2d4",
            "value": "Pandas Apply: 100%"
          }
        },
        "7e92a5642747498d9fa136e89c120bae": {
          "model_module": "@jupyter-widgets/controls",
          "model_name": "FloatProgressModel",
          "model_module_version": "1.5.0",
          "state": {
            "_dom_classes": [],
            "_model_module": "@jupyter-widgets/controls",
            "_model_module_version": "1.5.0",
            "_model_name": "FloatProgressModel",
            "_view_count": null,
            "_view_module": "@jupyter-widgets/controls",
            "_view_module_version": "1.5.0",
            "_view_name": "ProgressView",
            "bar_style": "success",
            "description": "",
            "description_tooltip": null,
            "layout": "IPY_MODEL_42b3481652e649588326e99921b60d87",
            "max": 559997,
            "min": 0,
            "orientation": "horizontal",
            "style": "IPY_MODEL_5012a3d43cd64b62b5de8665cfcf1815",
            "value": 559997
          }
        },
        "cfbb74d1f13e41e194ba59cf25064788": {
          "model_module": "@jupyter-widgets/controls",
          "model_name": "HTMLModel",
          "model_module_version": "1.5.0",
          "state": {
            "_dom_classes": [],
            "_model_module": "@jupyter-widgets/controls",
            "_model_module_version": "1.5.0",
            "_model_name": "HTMLModel",
            "_view_count": null,
            "_view_module": "@jupyter-widgets/controls",
            "_view_module_version": "1.5.0",
            "_view_name": "HTMLView",
            "description": "",
            "description_tooltip": null,
            "layout": "IPY_MODEL_e0cfdca898ff496981e4d5da6c30d1d6",
            "placeholder": "​",
            "style": "IPY_MODEL_cf0e28a2812040f08e4c7017b683a48c",
            "value": " 559997/559997 [00:04&lt;00:00, 160678.75it/s]"
          }
        },
        "6e07ef2710604367b8cc6392c94a3222": {
          "model_module": "@jupyter-widgets/base",
          "model_name": "LayoutModel",
          "model_module_version": "1.2.0",
          "state": {
            "_model_module": "@jupyter-widgets/base",
            "_model_module_version": "1.2.0",
            "_model_name": "LayoutModel",
            "_view_count": null,
            "_view_module": "@jupyter-widgets/base",
            "_view_module_version": "1.2.0",
            "_view_name": "LayoutView",
            "align_content": null,
            "align_items": null,
            "align_self": null,
            "border": null,
            "bottom": null,
            "display": null,
            "flex": null,
            "flex_flow": null,
            "grid_area": null,
            "grid_auto_columns": null,
            "grid_auto_flow": null,
            "grid_auto_rows": null,
            "grid_column": null,
            "grid_gap": null,
            "grid_row": null,
            "grid_template_areas": null,
            "grid_template_columns": null,
            "grid_template_rows": null,
            "height": null,
            "justify_content": null,
            "justify_items": null,
            "left": null,
            "margin": null,
            "max_height": null,
            "max_width": null,
            "min_height": null,
            "min_width": null,
            "object_fit": null,
            "object_position": null,
            "order": null,
            "overflow": null,
            "overflow_x": null,
            "overflow_y": null,
            "padding": null,
            "right": null,
            "top": null,
            "visibility": null,
            "width": null
          }
        },
        "4df6ebe77807444986ed4f9aa21baa9a": {
          "model_module": "@jupyter-widgets/base",
          "model_name": "LayoutModel",
          "model_module_version": "1.2.0",
          "state": {
            "_model_module": "@jupyter-widgets/base",
            "_model_module_version": "1.2.0",
            "_model_name": "LayoutModel",
            "_view_count": null,
            "_view_module": "@jupyter-widgets/base",
            "_view_module_version": "1.2.0",
            "_view_name": "LayoutView",
            "align_content": null,
            "align_items": null,
            "align_self": null,
            "border": null,
            "bottom": null,
            "display": null,
            "flex": null,
            "flex_flow": null,
            "grid_area": null,
            "grid_auto_columns": null,
            "grid_auto_flow": null,
            "grid_auto_rows": null,
            "grid_column": null,
            "grid_gap": null,
            "grid_row": null,
            "grid_template_areas": null,
            "grid_template_columns": null,
            "grid_template_rows": null,
            "height": null,
            "justify_content": null,
            "justify_items": null,
            "left": null,
            "margin": null,
            "max_height": null,
            "max_width": null,
            "min_height": null,
            "min_width": null,
            "object_fit": null,
            "object_position": null,
            "order": null,
            "overflow": null,
            "overflow_x": null,
            "overflow_y": null,
            "padding": null,
            "right": null,
            "top": null,
            "visibility": null,
            "width": null
          }
        },
        "8b4a48da53b5434d8ffff1a6ca52b2d4": {
          "model_module": "@jupyter-widgets/controls",
          "model_name": "DescriptionStyleModel",
          "model_module_version": "1.5.0",
          "state": {
            "_model_module": "@jupyter-widgets/controls",
            "_model_module_version": "1.5.0",
            "_model_name": "DescriptionStyleModel",
            "_view_count": null,
            "_view_module": "@jupyter-widgets/base",
            "_view_module_version": "1.2.0",
            "_view_name": "StyleView",
            "description_width": ""
          }
        },
        "42b3481652e649588326e99921b60d87": {
          "model_module": "@jupyter-widgets/base",
          "model_name": "LayoutModel",
          "model_module_version": "1.2.0",
          "state": {
            "_model_module": "@jupyter-widgets/base",
            "_model_module_version": "1.2.0",
            "_model_name": "LayoutModel",
            "_view_count": null,
            "_view_module": "@jupyter-widgets/base",
            "_view_module_version": "1.2.0",
            "_view_name": "LayoutView",
            "align_content": null,
            "align_items": null,
            "align_self": null,
            "border": null,
            "bottom": null,
            "display": null,
            "flex": null,
            "flex_flow": null,
            "grid_area": null,
            "grid_auto_columns": null,
            "grid_auto_flow": null,
            "grid_auto_rows": null,
            "grid_column": null,
            "grid_gap": null,
            "grid_row": null,
            "grid_template_areas": null,
            "grid_template_columns": null,
            "grid_template_rows": null,
            "height": null,
            "justify_content": null,
            "justify_items": null,
            "left": null,
            "margin": null,
            "max_height": null,
            "max_width": null,
            "min_height": null,
            "min_width": null,
            "object_fit": null,
            "object_position": null,
            "order": null,
            "overflow": null,
            "overflow_x": null,
            "overflow_y": null,
            "padding": null,
            "right": null,
            "top": null,
            "visibility": null,
            "width": null
          }
        },
        "5012a3d43cd64b62b5de8665cfcf1815": {
          "model_module": "@jupyter-widgets/controls",
          "model_name": "ProgressStyleModel",
          "model_module_version": "1.5.0",
          "state": {
            "_model_module": "@jupyter-widgets/controls",
            "_model_module_version": "1.5.0",
            "_model_name": "ProgressStyleModel",
            "_view_count": null,
            "_view_module": "@jupyter-widgets/base",
            "_view_module_version": "1.2.0",
            "_view_name": "StyleView",
            "bar_color": null,
            "description_width": ""
          }
        },
        "e0cfdca898ff496981e4d5da6c30d1d6": {
          "model_module": "@jupyter-widgets/base",
          "model_name": "LayoutModel",
          "model_module_version": "1.2.0",
          "state": {
            "_model_module": "@jupyter-widgets/base",
            "_model_module_version": "1.2.0",
            "_model_name": "LayoutModel",
            "_view_count": null,
            "_view_module": "@jupyter-widgets/base",
            "_view_module_version": "1.2.0",
            "_view_name": "LayoutView",
            "align_content": null,
            "align_items": null,
            "align_self": null,
            "border": null,
            "bottom": null,
            "display": null,
            "flex": null,
            "flex_flow": null,
            "grid_area": null,
            "grid_auto_columns": null,
            "grid_auto_flow": null,
            "grid_auto_rows": null,
            "grid_column": null,
            "grid_gap": null,
            "grid_row": null,
            "grid_template_areas": null,
            "grid_template_columns": null,
            "grid_template_rows": null,
            "height": null,
            "justify_content": null,
            "justify_items": null,
            "left": null,
            "margin": null,
            "max_height": null,
            "max_width": null,
            "min_height": null,
            "min_width": null,
            "object_fit": null,
            "object_position": null,
            "order": null,
            "overflow": null,
            "overflow_x": null,
            "overflow_y": null,
            "padding": null,
            "right": null,
            "top": null,
            "visibility": null,
            "width": null
          }
        },
        "cf0e28a2812040f08e4c7017b683a48c": {
          "model_module": "@jupyter-widgets/controls",
          "model_name": "DescriptionStyleModel",
          "model_module_version": "1.5.0",
          "state": {
            "_model_module": "@jupyter-widgets/controls",
            "_model_module_version": "1.5.0",
            "_model_name": "DescriptionStyleModel",
            "_view_count": null,
            "_view_module": "@jupyter-widgets/base",
            "_view_module_version": "1.2.0",
            "_view_name": "StyleView",
            "description_width": ""
          }
        },
        "6ba461f68b364a73a43996b736748f09": {
          "model_module": "@jupyter-widgets/controls",
          "model_name": "HBoxModel",
          "model_module_version": "1.5.0",
          "state": {
            "_dom_classes": [],
            "_model_module": "@jupyter-widgets/controls",
            "_model_module_version": "1.5.0",
            "_model_name": "HBoxModel",
            "_view_count": null,
            "_view_module": "@jupyter-widgets/controls",
            "_view_module_version": "1.5.0",
            "_view_name": "HBoxView",
            "box_style": "",
            "children": [
              "IPY_MODEL_73d0d1d5444d4658a43aeb5e00ecd9a6",
              "IPY_MODEL_12c96b9e40ea4378b6d439a2333fc5f3",
              "IPY_MODEL_054781f05d8e443d820da5f01d5dee2e"
            ],
            "layout": "IPY_MODEL_4739462e66f24abf8b69f6a0c7593e19"
          }
        },
        "73d0d1d5444d4658a43aeb5e00ecd9a6": {
          "model_module": "@jupyter-widgets/controls",
          "model_name": "HTMLModel",
          "model_module_version": "1.5.0",
          "state": {
            "_dom_classes": [],
            "_model_module": "@jupyter-widgets/controls",
            "_model_module_version": "1.5.0",
            "_model_name": "HTMLModel",
            "_view_count": null,
            "_view_module": "@jupyter-widgets/controls",
            "_view_module_version": "1.5.0",
            "_view_name": "HTMLView",
            "description": "",
            "description_tooltip": null,
            "layout": "IPY_MODEL_8545b3d1d0a04b0d8d6a14b90a496cf4",
            "placeholder": "​",
            "style": "IPY_MODEL_55d7fd5c353e45a0af62f43200f3b6d3",
            "value": "Pandas Apply: 100%"
          }
        },
        "12c96b9e40ea4378b6d439a2333fc5f3": {
          "model_module": "@jupyter-widgets/controls",
          "model_name": "FloatProgressModel",
          "model_module_version": "1.5.0",
          "state": {
            "_dom_classes": [],
            "_model_module": "@jupyter-widgets/controls",
            "_model_module_version": "1.5.0",
            "_model_name": "FloatProgressModel",
            "_view_count": null,
            "_view_module": "@jupyter-widgets/controls",
            "_view_module_version": "1.5.0",
            "_view_name": "ProgressView",
            "bar_style": "success",
            "description": "",
            "description_tooltip": null,
            "layout": "IPY_MODEL_1e33e9195456482587c65807b53c9aee",
            "max": 139998,
            "min": 0,
            "orientation": "horizontal",
            "style": "IPY_MODEL_56dfdb3bddd24cada231304c1c66f195",
            "value": 139998
          }
        },
        "054781f05d8e443d820da5f01d5dee2e": {
          "model_module": "@jupyter-widgets/controls",
          "model_name": "HTMLModel",
          "model_module_version": "1.5.0",
          "state": {
            "_dom_classes": [],
            "_model_module": "@jupyter-widgets/controls",
            "_model_module_version": "1.5.0",
            "_model_name": "HTMLModel",
            "_view_count": null,
            "_view_module": "@jupyter-widgets/controls",
            "_view_module_version": "1.5.0",
            "_view_name": "HTMLView",
            "description": "",
            "description_tooltip": null,
            "layout": "IPY_MODEL_9c4598c03c164e3d8582772e7dc8dc5a",
            "placeholder": "​",
            "style": "IPY_MODEL_7be307baf5cf4933a4035abe2d84a98d",
            "value": " 139998/139998 [00:01&lt;00:00, 68021.97it/s]"
          }
        },
        "4739462e66f24abf8b69f6a0c7593e19": {
          "model_module": "@jupyter-widgets/base",
          "model_name": "LayoutModel",
          "model_module_version": "1.2.0",
          "state": {
            "_model_module": "@jupyter-widgets/base",
            "_model_module_version": "1.2.0",
            "_model_name": "LayoutModel",
            "_view_count": null,
            "_view_module": "@jupyter-widgets/base",
            "_view_module_version": "1.2.0",
            "_view_name": "LayoutView",
            "align_content": null,
            "align_items": null,
            "align_self": null,
            "border": null,
            "bottom": null,
            "display": null,
            "flex": null,
            "flex_flow": null,
            "grid_area": null,
            "grid_auto_columns": null,
            "grid_auto_flow": null,
            "grid_auto_rows": null,
            "grid_column": null,
            "grid_gap": null,
            "grid_row": null,
            "grid_template_areas": null,
            "grid_template_columns": null,
            "grid_template_rows": null,
            "height": null,
            "justify_content": null,
            "justify_items": null,
            "left": null,
            "margin": null,
            "max_height": null,
            "max_width": null,
            "min_height": null,
            "min_width": null,
            "object_fit": null,
            "object_position": null,
            "order": null,
            "overflow": null,
            "overflow_x": null,
            "overflow_y": null,
            "padding": null,
            "right": null,
            "top": null,
            "visibility": null,
            "width": null
          }
        },
        "8545b3d1d0a04b0d8d6a14b90a496cf4": {
          "model_module": "@jupyter-widgets/base",
          "model_name": "LayoutModel",
          "model_module_version": "1.2.0",
          "state": {
            "_model_module": "@jupyter-widgets/base",
            "_model_module_version": "1.2.0",
            "_model_name": "LayoutModel",
            "_view_count": null,
            "_view_module": "@jupyter-widgets/base",
            "_view_module_version": "1.2.0",
            "_view_name": "LayoutView",
            "align_content": null,
            "align_items": null,
            "align_self": null,
            "border": null,
            "bottom": null,
            "display": null,
            "flex": null,
            "flex_flow": null,
            "grid_area": null,
            "grid_auto_columns": null,
            "grid_auto_flow": null,
            "grid_auto_rows": null,
            "grid_column": null,
            "grid_gap": null,
            "grid_row": null,
            "grid_template_areas": null,
            "grid_template_columns": null,
            "grid_template_rows": null,
            "height": null,
            "justify_content": null,
            "justify_items": null,
            "left": null,
            "margin": null,
            "max_height": null,
            "max_width": null,
            "min_height": null,
            "min_width": null,
            "object_fit": null,
            "object_position": null,
            "order": null,
            "overflow": null,
            "overflow_x": null,
            "overflow_y": null,
            "padding": null,
            "right": null,
            "top": null,
            "visibility": null,
            "width": null
          }
        },
        "55d7fd5c353e45a0af62f43200f3b6d3": {
          "model_module": "@jupyter-widgets/controls",
          "model_name": "DescriptionStyleModel",
          "model_module_version": "1.5.0",
          "state": {
            "_model_module": "@jupyter-widgets/controls",
            "_model_module_version": "1.5.0",
            "_model_name": "DescriptionStyleModel",
            "_view_count": null,
            "_view_module": "@jupyter-widgets/base",
            "_view_module_version": "1.2.0",
            "_view_name": "StyleView",
            "description_width": ""
          }
        },
        "1e33e9195456482587c65807b53c9aee": {
          "model_module": "@jupyter-widgets/base",
          "model_name": "LayoutModel",
          "model_module_version": "1.2.0",
          "state": {
            "_model_module": "@jupyter-widgets/base",
            "_model_module_version": "1.2.0",
            "_model_name": "LayoutModel",
            "_view_count": null,
            "_view_module": "@jupyter-widgets/base",
            "_view_module_version": "1.2.0",
            "_view_name": "LayoutView",
            "align_content": null,
            "align_items": null,
            "align_self": null,
            "border": null,
            "bottom": null,
            "display": null,
            "flex": null,
            "flex_flow": null,
            "grid_area": null,
            "grid_auto_columns": null,
            "grid_auto_flow": null,
            "grid_auto_rows": null,
            "grid_column": null,
            "grid_gap": null,
            "grid_row": null,
            "grid_template_areas": null,
            "grid_template_columns": null,
            "grid_template_rows": null,
            "height": null,
            "justify_content": null,
            "justify_items": null,
            "left": null,
            "margin": null,
            "max_height": null,
            "max_width": null,
            "min_height": null,
            "min_width": null,
            "object_fit": null,
            "object_position": null,
            "order": null,
            "overflow": null,
            "overflow_x": null,
            "overflow_y": null,
            "padding": null,
            "right": null,
            "top": null,
            "visibility": null,
            "width": null
          }
        },
        "56dfdb3bddd24cada231304c1c66f195": {
          "model_module": "@jupyter-widgets/controls",
          "model_name": "ProgressStyleModel",
          "model_module_version": "1.5.0",
          "state": {
            "_model_module": "@jupyter-widgets/controls",
            "_model_module_version": "1.5.0",
            "_model_name": "ProgressStyleModel",
            "_view_count": null,
            "_view_module": "@jupyter-widgets/base",
            "_view_module_version": "1.2.0",
            "_view_name": "StyleView",
            "bar_color": null,
            "description_width": ""
          }
        },
        "9c4598c03c164e3d8582772e7dc8dc5a": {
          "model_module": "@jupyter-widgets/base",
          "model_name": "LayoutModel",
          "model_module_version": "1.2.0",
          "state": {
            "_model_module": "@jupyter-widgets/base",
            "_model_module_version": "1.2.0",
            "_model_name": "LayoutModel",
            "_view_count": null,
            "_view_module": "@jupyter-widgets/base",
            "_view_module_version": "1.2.0",
            "_view_name": "LayoutView",
            "align_content": null,
            "align_items": null,
            "align_self": null,
            "border": null,
            "bottom": null,
            "display": null,
            "flex": null,
            "flex_flow": null,
            "grid_area": null,
            "grid_auto_columns": null,
            "grid_auto_flow": null,
            "grid_auto_rows": null,
            "grid_column": null,
            "grid_gap": null,
            "grid_row": null,
            "grid_template_areas": null,
            "grid_template_columns": null,
            "grid_template_rows": null,
            "height": null,
            "justify_content": null,
            "justify_items": null,
            "left": null,
            "margin": null,
            "max_height": null,
            "max_width": null,
            "min_height": null,
            "min_width": null,
            "object_fit": null,
            "object_position": null,
            "order": null,
            "overflow": null,
            "overflow_x": null,
            "overflow_y": null,
            "padding": null,
            "right": null,
            "top": null,
            "visibility": null,
            "width": null
          }
        },
        "7be307baf5cf4933a4035abe2d84a98d": {
          "model_module": "@jupyter-widgets/controls",
          "model_name": "DescriptionStyleModel",
          "model_module_version": "1.5.0",
          "state": {
            "_model_module": "@jupyter-widgets/controls",
            "_model_module_version": "1.5.0",
            "_model_name": "DescriptionStyleModel",
            "_view_count": null,
            "_view_module": "@jupyter-widgets/base",
            "_view_module_version": "1.2.0",
            "_view_name": "StyleView",
            "description_width": ""
          }
        },
        "128093a98394499aaf6a4c685aebc41f": {
          "model_module": "@jupyter-widgets/controls",
          "model_name": "HBoxModel",
          "model_module_version": "1.5.0",
          "state": {
            "_dom_classes": [],
            "_model_module": "@jupyter-widgets/controls",
            "_model_module_version": "1.5.0",
            "_model_name": "HBoxModel",
            "_view_count": null,
            "_view_module": "@jupyter-widgets/controls",
            "_view_module_version": "1.5.0",
            "_view_name": "HBoxView",
            "box_style": "",
            "children": [
              "IPY_MODEL_a67a71d1390741d5b3d70fcda822c032",
              "IPY_MODEL_916eb6ea629c4bf3a15c239004351b75",
              "IPY_MODEL_28ba7cb76e5e448782122fc0dff2df37"
            ],
            "layout": "IPY_MODEL_d3c0b5750d6c4317b0cbd8e7c381c697"
          }
        },
        "a67a71d1390741d5b3d70fcda822c032": {
          "model_module": "@jupyter-widgets/controls",
          "model_name": "HTMLModel",
          "model_module_version": "1.5.0",
          "state": {
            "_dom_classes": [],
            "_model_module": "@jupyter-widgets/controls",
            "_model_module_version": "1.5.0",
            "_model_name": "HTMLModel",
            "_view_count": null,
            "_view_module": "@jupyter-widgets/controls",
            "_view_module_version": "1.5.0",
            "_view_name": "HTMLView",
            "description": "",
            "description_tooltip": null,
            "layout": "IPY_MODEL_bd6c3b0c82a746068bc3c063ddebe004",
            "placeholder": "​",
            "style": "IPY_MODEL_9b845ab3e7624d6dba5238691170da54",
            "value": "Pandas Apply: 100%"
          }
        },
        "916eb6ea629c4bf3a15c239004351b75": {
          "model_module": "@jupyter-widgets/controls",
          "model_name": "FloatProgressModel",
          "model_module_version": "1.5.0",
          "state": {
            "_dom_classes": [],
            "_model_module": "@jupyter-widgets/controls",
            "_model_module_version": "1.5.0",
            "_model_name": "FloatProgressModel",
            "_view_count": null,
            "_view_module": "@jupyter-widgets/controls",
            "_view_module_version": "1.5.0",
            "_view_name": "ProgressView",
            "bar_style": "success",
            "description": "",
            "description_tooltip": null,
            "layout": "IPY_MODEL_0813af894abe4327bb9699d4495cfc29",
            "max": 399999,
            "min": 0,
            "orientation": "horizontal",
            "style": "IPY_MODEL_a5b0b09813d549b39252f48fa0d023a2",
            "value": 399999
          }
        },
        "28ba7cb76e5e448782122fc0dff2df37": {
          "model_module": "@jupyter-widgets/controls",
          "model_name": "HTMLModel",
          "model_module_version": "1.5.0",
          "state": {
            "_dom_classes": [],
            "_model_module": "@jupyter-widgets/controls",
            "_model_module_version": "1.5.0",
            "_model_name": "HTMLModel",
            "_view_count": null,
            "_view_module": "@jupyter-widgets/controls",
            "_view_module_version": "1.5.0",
            "_view_name": "HTMLView",
            "description": "",
            "description_tooltip": null,
            "layout": "IPY_MODEL_719ffc0ef2eb40c8b0cb8e1e3ebf5b33",
            "placeholder": "​",
            "style": "IPY_MODEL_610430898fe44c62b6e544915aa32a60",
            "value": " 399999/399999 [00:03&lt;00:00, 169372.78it/s]"
          }
        },
        "d3c0b5750d6c4317b0cbd8e7c381c697": {
          "model_module": "@jupyter-widgets/base",
          "model_name": "LayoutModel",
          "model_module_version": "1.2.0",
          "state": {
            "_model_module": "@jupyter-widgets/base",
            "_model_module_version": "1.2.0",
            "_model_name": "LayoutModel",
            "_view_count": null,
            "_view_module": "@jupyter-widgets/base",
            "_view_module_version": "1.2.0",
            "_view_name": "LayoutView",
            "align_content": null,
            "align_items": null,
            "align_self": null,
            "border": null,
            "bottom": null,
            "display": null,
            "flex": null,
            "flex_flow": null,
            "grid_area": null,
            "grid_auto_columns": null,
            "grid_auto_flow": null,
            "grid_auto_rows": null,
            "grid_column": null,
            "grid_gap": null,
            "grid_row": null,
            "grid_template_areas": null,
            "grid_template_columns": null,
            "grid_template_rows": null,
            "height": null,
            "justify_content": null,
            "justify_items": null,
            "left": null,
            "margin": null,
            "max_height": null,
            "max_width": null,
            "min_height": null,
            "min_width": null,
            "object_fit": null,
            "object_position": null,
            "order": null,
            "overflow": null,
            "overflow_x": null,
            "overflow_y": null,
            "padding": null,
            "right": null,
            "top": null,
            "visibility": null,
            "width": null
          }
        },
        "bd6c3b0c82a746068bc3c063ddebe004": {
          "model_module": "@jupyter-widgets/base",
          "model_name": "LayoutModel",
          "model_module_version": "1.2.0",
          "state": {
            "_model_module": "@jupyter-widgets/base",
            "_model_module_version": "1.2.0",
            "_model_name": "LayoutModel",
            "_view_count": null,
            "_view_module": "@jupyter-widgets/base",
            "_view_module_version": "1.2.0",
            "_view_name": "LayoutView",
            "align_content": null,
            "align_items": null,
            "align_self": null,
            "border": null,
            "bottom": null,
            "display": null,
            "flex": null,
            "flex_flow": null,
            "grid_area": null,
            "grid_auto_columns": null,
            "grid_auto_flow": null,
            "grid_auto_rows": null,
            "grid_column": null,
            "grid_gap": null,
            "grid_row": null,
            "grid_template_areas": null,
            "grid_template_columns": null,
            "grid_template_rows": null,
            "height": null,
            "justify_content": null,
            "justify_items": null,
            "left": null,
            "margin": null,
            "max_height": null,
            "max_width": null,
            "min_height": null,
            "min_width": null,
            "object_fit": null,
            "object_position": null,
            "order": null,
            "overflow": null,
            "overflow_x": null,
            "overflow_y": null,
            "padding": null,
            "right": null,
            "top": null,
            "visibility": null,
            "width": null
          }
        },
        "9b845ab3e7624d6dba5238691170da54": {
          "model_module": "@jupyter-widgets/controls",
          "model_name": "DescriptionStyleModel",
          "model_module_version": "1.5.0",
          "state": {
            "_model_module": "@jupyter-widgets/controls",
            "_model_module_version": "1.5.0",
            "_model_name": "DescriptionStyleModel",
            "_view_count": null,
            "_view_module": "@jupyter-widgets/base",
            "_view_module_version": "1.2.0",
            "_view_name": "StyleView",
            "description_width": ""
          }
        },
        "0813af894abe4327bb9699d4495cfc29": {
          "model_module": "@jupyter-widgets/base",
          "model_name": "LayoutModel",
          "model_module_version": "1.2.0",
          "state": {
            "_model_module": "@jupyter-widgets/base",
            "_model_module_version": "1.2.0",
            "_model_name": "LayoutModel",
            "_view_count": null,
            "_view_module": "@jupyter-widgets/base",
            "_view_module_version": "1.2.0",
            "_view_name": "LayoutView",
            "align_content": null,
            "align_items": null,
            "align_self": null,
            "border": null,
            "bottom": null,
            "display": null,
            "flex": null,
            "flex_flow": null,
            "grid_area": null,
            "grid_auto_columns": null,
            "grid_auto_flow": null,
            "grid_auto_rows": null,
            "grid_column": null,
            "grid_gap": null,
            "grid_row": null,
            "grid_template_areas": null,
            "grid_template_columns": null,
            "grid_template_rows": null,
            "height": null,
            "justify_content": null,
            "justify_items": null,
            "left": null,
            "margin": null,
            "max_height": null,
            "max_width": null,
            "min_height": null,
            "min_width": null,
            "object_fit": null,
            "object_position": null,
            "order": null,
            "overflow": null,
            "overflow_x": null,
            "overflow_y": null,
            "padding": null,
            "right": null,
            "top": null,
            "visibility": null,
            "width": null
          }
        },
        "a5b0b09813d549b39252f48fa0d023a2": {
          "model_module": "@jupyter-widgets/controls",
          "model_name": "ProgressStyleModel",
          "model_module_version": "1.5.0",
          "state": {
            "_model_module": "@jupyter-widgets/controls",
            "_model_module_version": "1.5.0",
            "_model_name": "ProgressStyleModel",
            "_view_count": null,
            "_view_module": "@jupyter-widgets/base",
            "_view_module_version": "1.2.0",
            "_view_name": "StyleView",
            "bar_color": null,
            "description_width": ""
          }
        },
        "719ffc0ef2eb40c8b0cb8e1e3ebf5b33": {
          "model_module": "@jupyter-widgets/base",
          "model_name": "LayoutModel",
          "model_module_version": "1.2.0",
          "state": {
            "_model_module": "@jupyter-widgets/base",
            "_model_module_version": "1.2.0",
            "_model_name": "LayoutModel",
            "_view_count": null,
            "_view_module": "@jupyter-widgets/base",
            "_view_module_version": "1.2.0",
            "_view_name": "LayoutView",
            "align_content": null,
            "align_items": null,
            "align_self": null,
            "border": null,
            "bottom": null,
            "display": null,
            "flex": null,
            "flex_flow": null,
            "grid_area": null,
            "grid_auto_columns": null,
            "grid_auto_flow": null,
            "grid_auto_rows": null,
            "grid_column": null,
            "grid_gap": null,
            "grid_row": null,
            "grid_template_areas": null,
            "grid_template_columns": null,
            "grid_template_rows": null,
            "height": null,
            "justify_content": null,
            "justify_items": null,
            "left": null,
            "margin": null,
            "max_height": null,
            "max_width": null,
            "min_height": null,
            "min_width": null,
            "object_fit": null,
            "object_position": null,
            "order": null,
            "overflow": null,
            "overflow_x": null,
            "overflow_y": null,
            "padding": null,
            "right": null,
            "top": null,
            "visibility": null,
            "width": null
          }
        },
        "610430898fe44c62b6e544915aa32a60": {
          "model_module": "@jupyter-widgets/controls",
          "model_name": "DescriptionStyleModel",
          "model_module_version": "1.5.0",
          "state": {
            "_model_module": "@jupyter-widgets/controls",
            "_model_module_version": "1.5.0",
            "_model_name": "DescriptionStyleModel",
            "_view_count": null,
            "_view_module": "@jupyter-widgets/base",
            "_view_module_version": "1.2.0",
            "_view_name": "StyleView",
            "description_width": ""
          }
        }
      }
    }
  },
  "cells": [
    {
      "cell_type": "markdown",
      "source": [
        "# LSTM Sentiment Analysis"
      ],
      "metadata": {
        "id": "SVSebfp5BSPy"
      }
    },
    {
      "cell_type": "markdown",
      "source": [
        "> **Note**: This notebook is compatible with both Google Colab and local Jupyter environments. Colab-specific sections are clearly marked."
      ],
      "metadata": {
        "id": "lPEzO_4YrGDl"
      }
    },
    {
      "cell_type": "markdown",
      "source": [
        "In this notebook, we build and evaluate two deep learning models for binary sentiment classification on Amazon product reviews:\n",
        "\n",
        "- **Base Model**: A standard LSTM classifier using the final hidden state.\n",
        "- **Attention Model**: An LSTM enhanced with an attention mechanism to weight and aggregate important tokens dynamically.\n",
        "\n",
        "The workflow includes:\n",
        "- Vocabulary construction and padding\n",
        "- Custom PyTorch datasets and batching with masking\n",
        "- Training with early stopping and metric tracking\n",
        "- Evaluation using accuracy, precision, recall, specificity, F1, AUROC, and AUPRC\n",
        "\n",
        "We compare both models side by side to assess the impact of adding attention in capturing sentiment from noisy, real-world text data.\n",
        "\n",
        "This is part of my week 4 exporation of **Deep Learning for NLP**."
      ],
      "metadata": {
        "id": "hM1wgv4yrAez"
      }
    },
    {
      "cell_type": "code",
      "source": [
        "!pip install swifter torchtext"
      ],
      "metadata": {
        "id": "hC967ECTB8qH"
      },
      "execution_count": null,
      "outputs": []
    },
    {
      "cell_type": "code",
      "source": [
        "import sys\n",
        "import os\n",
        "if 'google.colab' in sys.modules:\n",
        "    from google.colab import drive\n",
        "    drive.mount('/content/drive')\n",
        "\n",
        "    project_path = '/content/drive/MyDrive/NLP_Projects/Week_4/dl-sequence-models'\n",
        "    if os.path.exists(project_path):\n",
        "        os.chdir(project_path)\n",
        "        print(f\"Changed working directory to: {project_path}\")\n",
        "    else:\n",
        "        raise FileNotFoundError(f\"Project path not found: {project_path}\")\n",
        "else:\n",
        "    print(\"Not running in Colab — skipping Drive mount.\")"
      ],
      "metadata": {
        "colab": {
          "base_uri": "https://localhost:8080/"
        },
        "id": "3qaCgWHYB75B",
        "outputId": "9d73978f-e5c5-4c37-b254-ae3bdbe9ad81"
      },
      "execution_count": 2,
      "outputs": [
        {
          "output_type": "stream",
          "name": "stdout",
          "text": [
            "Mounted at /content/drive\n",
            "Changed working directory to: /content/drive/MyDrive/NLP_Projects/Week_4/dl-sequence-models\n"
          ]
        }
      ]
    },
    {
      "cell_type": "markdown",
      "source": [
        "## Load Libraries"
      ],
      "metadata": {
        "id": "purXeg91BU5O"
      }
    },
    {
      "cell_type": "code",
      "execution_count": 31,
      "metadata": {
        "id": "GhBtqbHwA9Gf"
      },
      "outputs": [],
      "source": [
        "# load required libraries\n",
        "import torch\n",
        "import torch.nn as nn\n",
        "import torch.nn.functional as F\n",
        "\n",
        "import pandas as pd\n",
        "import numpy as np\n",
        "\n",
        "import matplotlib.pyplot as plt\n",
        "import seaborn as sns\n",
        "\n",
        "import swifter\n",
        "\n",
        "from collections import Counter\n",
        "\n",
        "from torch.utils.data import Dataset\n",
        "from torch.utils.data import DataLoader\n",
        "from torch.nn.utils.rnn import pad_sequence\n",
        "\n",
        "from sklearn.metrics import roc_auc_score, average_precision_score, accuracy_score, precision_score, recall_score, f1_score, roc_curve, auc, precision_recall_curve, ConfusionMatrixDisplay, confusion_matrix"
      ]
    },
    {
      "cell_type": "markdown",
      "source": [
        "## Load and Clean Data\n",
        "\n",
        "This section loads the preprocessed Amazon reviews dataset split into training, validation, and test sets. This is the same dataset that we used in Week 1 for traditional ML sentiment classification. We perform the following cleaning steps:\n",
        "\n",
        "- **Removes empty or null reviews** from each dataset.\n",
        "- **Filters out very short reviews** (≤ 10 characters), which are unlikely to provide meaningful sentiment signals.\n",
        "\n",
        "These steps help ensure the models are trained and evaluated on meaningful and complete text samples."
      ],
      "metadata": {
        "id": "MaeIQbWBBxzI"
      }
    },
    {
      "cell_type": "code",
      "source": [
        "X_train = pd.read_csv('../../data/amazon_sentiment/X_train_nltk.csv')\n",
        "X_val = pd.read_csv('../../data/amazon_sentiment/X_val_nltk.csv')\n",
        "X_test = pd.read_csv('../../data/amazon_sentiment/X_test_nltk.csv')\n",
        "\n",
        "y_train = pd.read_csv('../../data/amazon_sentiment/y_train.csv').squeeze()\n",
        "y_val = pd.read_csv('../../data/amazon_sentiment/y_val.csv').squeeze()\n",
        "y_test = pd.read_csv('../../data/amazon_sentiment/y_test.csv').squeeze()"
      ],
      "metadata": {
        "id": "QF7LatlIBV59"
      },
      "execution_count": 4,
      "outputs": []
    },
    {
      "cell_type": "code",
      "source": [
        "inds = X_train['review'].isna()\n",
        "X_train = X_train[~inds]\n",
        "y_train = y_train[~inds]\n",
        "\n",
        "inds = X_val['review'].isna()\n",
        "X_val = X_val[~inds]\n",
        "y_val = y_val[~inds]\n",
        "\n",
        "inds = X_test['review'].isna()\n",
        "X_test = X_test[~inds]\n",
        "y_test = y_test[~inds]"
      ],
      "metadata": {
        "id": "zKfvsz0yDz6m"
      },
      "execution_count": 5,
      "outputs": []
    },
    {
      "cell_type": "code",
      "source": [
        "inds = X_train['review'].swifter.apply(len).values > 10\n",
        "X_train = X_train[inds]\n",
        "y_train = y_train[inds]\n",
        "\n",
        "inds = X_val['review'].swifter.apply(len).values > 10\n",
        "X_val = X_val[inds]\n",
        "y_val = y_val[inds]\n",
        "\n",
        "inds = X_test['review'].swifter.apply(len).values > 10\n",
        "X_test = X_test[inds]\n",
        "y_test = y_test[inds]"
      ],
      "metadata": {
        "colab": {
          "base_uri": "https://localhost:8080/",
          "height": 113,
          "referenced_widgets": [
            "753fc8cc0aec45dfa3e78adfd31ffab1",
            "141af433376d4b93b2f08b6ca38e64d6",
            "5bd32f265ebd4e11b0de99265e6e08d3",
            "06ac2591d175483e966107cfecdba3e5",
            "42606297ff1a4fe09443631c10a43bab",
            "59565c7a8d724e42a16511a95b162062",
            "259ede0b67344865b02d21ffa4c156fb",
            "bea64f97bbf84b9eb03af9576c6e684d",
            "05964d5cd43d43758cc4d5d61dc4d631",
            "2f334ee211214c2190da0e33c6dfeb62",
            "d4a513c0be424aa691353730501f765c",
            "7d760f84084a4d29aab23e50e267b41b",
            "a7e37bb313694a488231dc3da1503e5c",
            "3871c4d7b9db4578821a742104782b6e",
            "b3c0e401e74c4f36ba11a41027e5e990",
            "0e4c0ab5301f4024a508ab5839b0e0e8",
            "fc47646801a246f69070645267a0f29d",
            "a9b8662828d14397847b9ade07b86a14",
            "5d25f48cd39a4321a0ca01326ddf98fa",
            "86ba8853b856463980186a5cf1079c87",
            "a2897b3b58f449f2a5f419db706c58cd",
            "a5475dee66e44d5abf921a5696d78240",
            "a04fa8cda749453c9f96b6b03b3168e9",
            "8e9fc18ef653492ea8d155d9c267acdd",
            "e3cbd5f7cd0d454d90707ab2e513240e",
            "feef36f1fcb64477a51c787d1c8d94e5",
            "d8004bb2c0d5499b93c91f40db0d4d22",
            "abc1ac7748c943cfa7322004d9962128",
            "4dba29f1612b4479b7a138840d7a06c8",
            "779a8ba962594c7f8fc83c11772e261d",
            "d5b7163fa643456c98215703b371d2c9",
            "ad50dc16891248339cfb5f6723e2d422",
            "6b8153d8e4254bd1994e30801bf4c6b1"
          ]
        },
        "id": "oKRF4HMAK7lJ",
        "outputId": "6db28206-5c01-4c4d-fb75-b9f162078e3d"
      },
      "execution_count": 6,
      "outputs": [
        {
          "output_type": "display_data",
          "data": {
            "text/plain": [
              "Pandas Apply:   0%|          | 0/559998 [00:00<?, ?it/s]"
            ],
            "application/vnd.jupyter.widget-view+json": {
              "version_major": 2,
              "version_minor": 0,
              "model_id": "753fc8cc0aec45dfa3e78adfd31ffab1"
            }
          },
          "metadata": {}
        },
        {
          "output_type": "display_data",
          "data": {
            "text/plain": [
              "Pandas Apply:   0%|          | 0/140000 [00:00<?, ?it/s]"
            ],
            "application/vnd.jupyter.widget-view+json": {
              "version_major": 2,
              "version_minor": 0,
              "model_id": "7d760f84084a4d29aab23e50e267b41b"
            }
          },
          "metadata": {}
        },
        {
          "output_type": "display_data",
          "data": {
            "text/plain": [
              "Pandas Apply:   0%|          | 0/400000 [00:00<?, ?it/s]"
            ],
            "application/vnd.jupyter.widget-view+json": {
              "version_major": 2,
              "version_minor": 0,
              "model_id": "a04fa8cda749453c9f96b6b03b3168e9"
            }
          },
          "metadata": {}
        }
      ]
    },
    {
      "cell_type": "markdown",
      "source": [
        "## Tokenize Reviews\n",
        "\n",
        "The cleaned reviews are tokenized by simply splitting each review string on whitespace. This results in a list of tokens (words) for each review in the training, validation, and test sets. These tokenized inputs will be used to train and evaluate classical NLP models."
      ],
      "metadata": {
        "id": "pwRWxJLfDoGi"
      }
    },
    {
      "cell_type": "code",
      "source": [
        "X_train_tokens = X_train['review'].swifter.apply(lambda x: x.split()).tolist()\n",
        "X_val_tokens = X_val['review'].swifter.apply(lambda x: x.split()).tolist()\n",
        "X_test_tokens = X_test['review'].swifter.apply(lambda x: x.split()).tolist()"
      ],
      "metadata": {
        "colab": {
          "base_uri": "https://localhost:8080/",
          "height": 113,
          "referenced_widgets": [
            "9482e3f0c8b74ca6a0ad6b9ab9411078",
            "1273c349885545428fa482f965d5a077",
            "7e92a5642747498d9fa136e89c120bae",
            "cfbb74d1f13e41e194ba59cf25064788",
            "6e07ef2710604367b8cc6392c94a3222",
            "4df6ebe77807444986ed4f9aa21baa9a",
            "8b4a48da53b5434d8ffff1a6ca52b2d4",
            "42b3481652e649588326e99921b60d87",
            "5012a3d43cd64b62b5de8665cfcf1815",
            "e0cfdca898ff496981e4d5da6c30d1d6",
            "cf0e28a2812040f08e4c7017b683a48c",
            "6ba461f68b364a73a43996b736748f09",
            "73d0d1d5444d4658a43aeb5e00ecd9a6",
            "12c96b9e40ea4378b6d439a2333fc5f3",
            "054781f05d8e443d820da5f01d5dee2e",
            "4739462e66f24abf8b69f6a0c7593e19",
            "8545b3d1d0a04b0d8d6a14b90a496cf4",
            "55d7fd5c353e45a0af62f43200f3b6d3",
            "1e33e9195456482587c65807b53c9aee",
            "56dfdb3bddd24cada231304c1c66f195",
            "9c4598c03c164e3d8582772e7dc8dc5a",
            "7be307baf5cf4933a4035abe2d84a98d",
            "128093a98394499aaf6a4c685aebc41f",
            "a67a71d1390741d5b3d70fcda822c032",
            "916eb6ea629c4bf3a15c239004351b75",
            "28ba7cb76e5e448782122fc0dff2df37",
            "d3c0b5750d6c4317b0cbd8e7c381c697",
            "bd6c3b0c82a746068bc3c063ddebe004",
            "9b845ab3e7624d6dba5238691170da54",
            "0813af894abe4327bb9699d4495cfc29",
            "a5b0b09813d549b39252f48fa0d023a2",
            "719ffc0ef2eb40c8b0cb8e1e3ebf5b33",
            "610430898fe44c62b6e544915aa32a60"
          ]
        },
        "id": "TZgCY0RCCR3t",
        "outputId": "6871e184-c143-4d6a-e922-75237cee032a"
      },
      "execution_count": 7,
      "outputs": [
        {
          "output_type": "display_data",
          "data": {
            "text/plain": [
              "Pandas Apply:   0%|          | 0/559997 [00:00<?, ?it/s]"
            ],
            "application/vnd.jupyter.widget-view+json": {
              "version_major": 2,
              "version_minor": 0,
              "model_id": "9482e3f0c8b74ca6a0ad6b9ab9411078"
            }
          },
          "metadata": {}
        },
        {
          "output_type": "display_data",
          "data": {
            "text/plain": [
              "Pandas Apply:   0%|          | 0/139998 [00:00<?, ?it/s]"
            ],
            "application/vnd.jupyter.widget-view+json": {
              "version_major": 2,
              "version_minor": 0,
              "model_id": "6ba461f68b364a73a43996b736748f09"
            }
          },
          "metadata": {}
        },
        {
          "output_type": "display_data",
          "data": {
            "text/plain": [
              "Pandas Apply:   0%|          | 0/399999 [00:00<?, ?it/s]"
            ],
            "application/vnd.jupyter.widget-view+json": {
              "version_major": 2,
              "version_minor": 0,
              "model_id": "128093a98394499aaf6a4c685aebc41f"
            }
          },
          "metadata": {}
        }
      ]
    },
    {
      "cell_type": "markdown",
      "source": [
        "## Vocabulary Construction\n",
        "\n",
        "This section focuses on building the vocabulary from the tokenized training data. The vocabulary will be used to map words to integer indices for input to machine learning models."
      ],
      "metadata": {
        "id": "05JtROjLECpA"
      }
    },
    {
      "cell_type": "code",
      "source": [
        "counter = Counter()\n",
        "for text in X_train_tokens:\n",
        "  counter.update(text)"
      ],
      "metadata": {
        "id": "zYsXaiUECn-G"
      },
      "execution_count": 8,
      "outputs": []
    },
    {
      "cell_type": "markdown",
      "source": [
        "### Token Frequency Distribution\n",
        "\n",
        "We compute basic statistics on token occurrences, including the total number of tokens, vocabulary size, and descriptive statistics (mean, median, min, max, and standard deviation).  \n",
        "A histogram is then plotted to visualize the distribution of token frequencies, focusing on tokens that appear fewer than 4,000 times to highlight the long-tailed nature of the distribution."
      ],
      "metadata": {
        "id": "dluxBKmUFs_V"
      }
    },
    {
      "cell_type": "code",
      "source": [
        "counts = np.array(list(counter.values()))\n",
        "\n",
        "print('Total Number of Tokens:', counts.sum())\n",
        "print('Vocab Size:', len(counts))\n",
        "print('Average Occurrence of Tokens:', counts.mean())\n",
        "print('Median Occurrence of Tokens:', np.median(counts))\n",
        "print('Max Occurrence:', counts.max())\n",
        "print('Min Occurrence:', counts.min())\n",
        "print('Occurrence Std:', counts.std())"
      ],
      "metadata": {
        "colab": {
          "base_uri": "https://localhost:8080/"
        },
        "id": "JaoDG8eHGGzd",
        "outputId": "7884b9a0-b917-4bbb-c95a-34858bf48b8f"
      },
      "execution_count": 9,
      "outputs": [
        {
          "output_type": "stream",
          "name": "stdout",
          "text": [
            "Total Number of Tokens: 21178397\n",
            "Vocab Size: 568595\n",
            "Average Occurrence of Tokens: 37.24689277957069\n",
            "Median Occurrence of Tokens: 1.0\n",
            "Max Occurrence: 559651\n",
            "Min Occurrence: 1\n",
            "Occurrence Std: 1206.9640111243364\n"
          ]
        }
      ]
    },
    {
      "cell_type": "code",
      "source": [
        "counts = np.array(list(counter.values()))\n",
        "\n",
        "plt.figure(figsize = (8, 6))\n",
        "sns.histplot(counts, binwidth = 100, edgecolor = 'black', color = 'blue')\n",
        "plt.xlabel('Token Count')\n",
        "plt.ylabel('Frequency')\n",
        "plt.xlim(0, 4000)\n",
        "plt.show()"
      ],
      "metadata": {
        "colab": {
          "base_uri": "https://localhost:8080/",
          "height": 542
        },
        "id": "b-QeXgReFv89",
        "outputId": "276cc989-1faa-4e8c-895c-2e2f36341c6a"
      },
      "execution_count": 10,
      "outputs": [
        {
          "output_type": "display_data",
          "data": {
            "text/plain": [
              "<Figure size 800x600 with 1 Axes>"
            ],
            "image/png": "[encoded data removed]"
          },
          "metadata": {}
        }
      ]
    },
    {
      "cell_type": "markdown",
      "source": [
        "### Vocabulary Filtering and Token Index Mapping\n",
        "\n",
        "After examining the overall token frequency distribution, we apply a cutoff to filter out infrequent tokens—specifically those that appear fewer than 5 times in the training data. This threshold helps reduce noise from rare or misspelled tokens and results in a more compact and robust vocabulary.\n",
        "\n",
        "We then re-calculate summary statistics (e.g., mean, median, standard deviation) on the filtered vocabulary to assess how token frequency is distributed among the remaining words. The top 10 most frequent tokens are also displayed to give a qualitative sense of the vocabulary composition.\n",
        "\n",
        "To prepare the vocabulary for model training, we construct a final token list starting with two special tokens:\n",
        "- `<PAD>` for padding sequences to equal lengths\n",
        "- `<UNK>` to handle out-of-vocabulary words\n",
        "\n",
        "The remaining tokens from the filtered vocabulary are added in descending order of frequency. Finally, we create:\n",
        "- `stoi` (string-to-index) mapping: for converting words to numerical IDs\n",
        "- `itos` (index-to-string) mapping: for decoding numerical predictions back to tokens"
      ],
      "metadata": {
        "id": "or8UIwq5HpVu"
      }
    },
    {
      "cell_type": "code",
      "source": [
        "vocab_filtered = {k:v for k, v in counter.items() if v >= 5}"
      ],
      "metadata": {
        "id": "nQe01F4eEON0"
      },
      "execution_count": 11,
      "outputs": []
    },
    {
      "cell_type": "code",
      "source": [
        "counts_filtered = np.array(list(vocab_filtered.values()))\n",
        "\n",
        "print('Total Number of Tokens:', counts_filtered.sum())\n",
        "print('Vocab Size:', len(counts_filtered))\n",
        "print('Average Occurrence of Tokens:', counts_filtered.mean())\n",
        "print('Median Occurrence of Tokens:', np.median(counts_filtered))\n",
        "print('Max Occurrence:', counts_filtered.max())\n",
        "print('Min Occurrence:', counts_filtered.min())\n",
        "print('Occurrence Std:', counts_filtered.std())"
      ],
      "metadata": {
        "colab": {
          "base_uri": "https://localhost:8080/"
        },
        "id": "URE7hyUCHt0h",
        "outputId": "e0ba5072-12f8-4676-8f25-50c9ef499697"
      },
      "execution_count": 12,
      "outputs": [
        {
          "output_type": "stream",
          "name": "stdout",
          "text": [
            "Total Number of Tokens: 20534163\n",
            "Vocab Size: 74502\n",
            "Average Occurrence of Tokens: 275.61894982685027\n",
            "Median Occurrence of Tokens: 14.0\n",
            "Max Occurrence: 559651\n",
            "Min Occurrence: 5\n",
            "Occurrence Std: 3324.534991972998\n"
          ]
        }
      ]
    },
    {
      "cell_type": "code",
      "source": [
        "vocab_filtered_lst = sorted(vocab_filtered.items(), key = lambda x: x[1], reverse = True)\n",
        "\n",
        "for item in vocab_filtered_lst[:10]:\n",
        "  print(f'{item[0]}: {item[1]}')"
      ],
      "metadata": {
        "colab": {
          "base_uri": "https://localhost:8080/"
        },
        "id": "c07K89ZaIAGa",
        "outputId": "ed026c2f-ec77-4d99-b357-ef11ad953e00"
      },
      "execution_count": 13,
      "outputs": [
        {
          "output_type": "stream",
          "name": "stdout",
          "text": [
            "num: 559651\n",
            "book: 314883\n",
            "like: 155687\n",
            "good: 127762\n",
            "would: 127652\n",
            "great: 121779\n",
            "time: 118840\n",
            "get: 114122\n",
            "read: 98928\n",
            "movie: 96006\n"
          ]
        }
      ]
    },
    {
      "cell_type": "code",
      "source": [
        "final_vocab = ['<PAD>', '<UNK>'] + list(vocab_filtered.keys())"
      ],
      "metadata": {
        "id": "wMue10fsEvG5"
      },
      "execution_count": 14,
      "outputs": []
    },
    {
      "cell_type": "code",
      "source": [
        "stoi = {word:i for i, word in enumerate(final_vocab)}\n",
        "itos = {i:word for word, i in stoi.items()}"
      ],
      "metadata": {
        "id": "KRcpNP3lIv95"
      },
      "execution_count": 15,
      "outputs": []
    },
    {
      "cell_type": "markdown",
      "source": [
        "## Evaluation Utilities"
      ],
      "metadata": {
        "id": "2mi8IPKgiN_C"
      }
    },
    {
      "cell_type": "code",
      "source": [
        "def calculate_metrics(y_true, y_pred_proba, y_pred, set = 'train'):\n",
        "  \"\"\"\n",
        "  Calculates common classification evaluation metrics.\n",
        "\n",
        "  Args:\n",
        "      y_true (array-like): Ground truth binary labels (0 or 1).\n",
        "      y_pred_proba (array-like): Predicted probabilities for the positive class.\n",
        "      y_pred (array-like): Predicted binary class labels.\n",
        "      set (str, optional): Identifier for the dataset split (e.g., 'train', 'val', 'test').\n",
        "                            Used to prefix the returned metric keys. Default is 'train'.\n",
        "\n",
        "  Returns:\n",
        "      dict: A dictionary containing the following metrics with keys prefixed by `set`:\n",
        "          - accuracy: Proportion of correct predictions.\n",
        "          - precision: Proportion of positive predictions that are correct.\n",
        "          - recall: Proportion of actual positives correctly predicted.\n",
        "          - specificity: Proportion of actual negatives correctly predicted.\n",
        "          - f1: Harmonic mean of precision and recall.\n",
        "          - auroc: Area under the ROC curve.\n",
        "          - auprc: Area under the Precision-Recall curve.\n",
        "  \"\"\"\n",
        "  accuracy = accuracy_score(y_true, y_pred)\n",
        "  precision = precision_score(y_true, y_pred)\n",
        "  recall = recall_score(y_true, y_pred)\n",
        "  specificity = recall_score(y_true, y_pred, pos_label = 0)\n",
        "  f1 = f1_score(y_true, y_pred)\n",
        "  auroc = roc_auc_score(y_true, y_pred_proba)\n",
        "  auprc = average_precision_score(y_true, y_pred_proba)\n",
        "\n",
        "  metrics = {\n",
        "      f'{set}_accuracy': accuracy,\n",
        "      f'{set}_precision': precision,\n",
        "      f'{set}_recall': recall,\n",
        "      f'{set}_specificity': specificity,\n",
        "      f'{set}_f1': f1,\n",
        "      f'{set}_auroc': auroc,\n",
        "      f'{set}_auprc': auprc\n",
        "  }\n",
        "\n",
        "  return metrics"
      ],
      "metadata": {
        "id": "pE-5QCIAiOdP"
      },
      "execution_count": 46,
      "outputs": []
    },
    {
      "cell_type": "code",
      "source": [
        "def plot_roc_curve(y_true, y_pred_proba, path, set = 'Train'):\n",
        "    \"\"\"\n",
        "    Plots the ROC curve and computes the AUC.\n",
        "\n",
        "    Args:\n",
        "        y_true (array-like): True binary labels (0 or 1).\n",
        "        y_pred_proba (array-like): Predicted probabilities for the positive class.\n",
        "        title (str): Title of the plot.\n",
        "\n",
        "    Returns: None\n",
        "    \"\"\"\n",
        "    fpr, tpr, _ = roc_curve(y_true, y_pred_proba)\n",
        "    roc_auc = auc(fpr, tpr)\n",
        "\n",
        "    plt.figure(figsize = (6, 5))\n",
        "    plt.plot(fpr, tpr, label=f'AUC = {roc_auc:.4f}')\n",
        "    plt.plot([0, 1], [0, 1], linestyle = '--', color = 'gray')\n",
        "    plt.xlabel('False Positive Rate')\n",
        "    plt.ylabel('True Positive Rate')\n",
        "    plt.title(f'{set} ROC Curve')\n",
        "    plt.legend(loc = 'lower right')\n",
        "    plt.tight_layout()\n",
        "    plt.savefig(path)\n",
        "    plt.show()"
      ],
      "metadata": {
        "id": "DKOjZHlniPaI"
      },
      "execution_count": 47,
      "outputs": []
    },
    {
      "cell_type": "code",
      "source": [
        "def plot_pr_curve(y_true, y_pred_proba, path, set = 'Train'):\n",
        "    \"\"\"\n",
        "    Plots the Precision-Recall curve and computes the average precision.\n",
        "\n",
        "    Args:\n",
        "        y_true (array-like): True binary labels (0 or 1).\n",
        "        y_pred_proba (array-like): Predicted probabilities for the positive class.\n",
        "        title (str): Title of the plot.\n",
        "\n",
        "    Returns: None\n",
        "    \"\"\"\n",
        "    precision, recall, _ = precision_recall_curve(y_true, y_pred_proba)\n",
        "    ap_score = average_precision_score(y_true, y_pred_proba)\n",
        "\n",
        "    plt.figure(figsize = (6, 5))\n",
        "    plt.plot(recall, precision, label = f'AUPRC = {ap_score:.4f}')\n",
        "    plt.xlabel('Recall')\n",
        "    plt.ylabel('Precision')\n",
        "    plt.title(f'{set} Recall-Precision Curve')\n",
        "    plt.legend(loc = 'lower left')\n",
        "    plt.tight_layout()\n",
        "    plt.savefig(path)\n",
        "    plt.show()"
      ],
      "metadata": {
        "id": "7eEcDC4QiWyT"
      },
      "execution_count": 48,
      "outputs": []
    },
    {
      "cell_type": "code",
      "source": [
        "def create_confusion_matrix(y_true, y_pred, path, set = 'Train'):\n",
        "  \"\"\"\n",
        "  Generates and saves a confusion matrix plot for classification predictions.\n",
        "\n",
        "  Args:\n",
        "      y_true (array-like): Ground truth binary or multiclass labels.\n",
        "      y_pred (array-like): Predicted class labels.\n",
        "      path (str): File path to save the confusion matrix plot.\n",
        "      set (str, optional): Label for the dataset split (e.g., 'Train', 'Val', 'Test').\n",
        "                            Used in the plot title. Default is 'Train'.\n",
        "\n",
        "  Returns:\n",
        "      None. Saves the confusion matrix plot to the specified path.\n",
        "  \"\"\"\n",
        "  ConfusionMatrixDisplay.from_predictions(y_true, y_pred)\n",
        "  plt.title(f'{set} Confusion Matrix')\n",
        "  plt.savefig(path)\n",
        "  plt.show()"
      ],
      "metadata": {
        "id": "D8ryl6w1iYeV"
      },
      "execution_count": 49,
      "outputs": []
    },
    {
      "cell_type": "code",
      "source": [
        "def plot_loss(train_losses, val_losses, path, title = 'Loss over Epochs'):\n",
        "    \"\"\"\n",
        "    Plots training and validation loss over epochs.\n",
        "\n",
        "    Args:\n",
        "        train_losses (list of float): Training loss for each epoch.\n",
        "        val_losses (list of float): Validation loss for each epoch.\n",
        "        title (str, optional): Title of the plot. Defaults to 'Loss over Epochs'.\n",
        "        save_path (str, optional): If provided, saves the plot to this path. Otherwise shows the plot.\n",
        "    \"\"\"\n",
        "    plt.figure(figsize = (8, 6))\n",
        "    plt.plot(train_losses, label = 'Train Loss', marker = 'o')\n",
        "    plt.plot(val_losses, label = 'Val Loss', marker = 'o')\n",
        "    plt.xlabel('Epoch')\n",
        "    plt.ylabel('Loss')\n",
        "    plt.title(title)\n",
        "    plt.xticks(ticks = range(0, len(train_losses)), labels = range(1, len(train_losses) + 1))\n",
        "    plt.legend()\n",
        "    plt.grid(True)\n",
        "    plt.tight_layout()\n",
        "    plt.savefig(path)\n",
        "    plt.show()"
      ],
      "metadata": {
        "id": "dtigj0yQnOA3"
      },
      "execution_count": 53,
      "outputs": []
    },
    {
      "cell_type": "markdown",
      "source": [
        "## Custom Dataset and Collate Function for PyTorch\n",
        "\n",
        "To train a sentiment classification model using PyTorch, we define a `CustomDataset` class that wraps the tokenized text data and their corresponding labels. This class:\n",
        "\n",
        "- Converts tokens to indices using the `stoi` (string-to-index) vocabulary.\n",
        "- Substitutes out-of-vocabulary tokens with the `<UNK>` token.\n",
        "- Returns a tuple of token ID tensors and label values.\n",
        "\n",
        "We also implement a `collate_fn` to handle batches of variable-length sequences. This function:\n",
        "\n",
        "- Pads sequences in the batch to the length of the longest one using the `<PAD>` token ID.\n",
        "- Returns:\n",
        "  - `padded_texts`: A batch of padded token ID sequences.\n",
        "  - `labels`: A batch of corresponding labels.\n",
        "  - `lengths`: The original (unpadded) lengths of the sequences for potential use in models like RNNs.\n",
        "\n",
        "This setup ensures that batches are uniform in shape and ready for training deep learning models."
      ],
      "metadata": {
        "id": "TffSUA1tJH2D"
      }
    },
    {
      "cell_type": "code",
      "source": [
        "class CustomDataset(Dataset):\n",
        "  \"\"\"\n",
        "  A PyTorch Dataset for handling tokenized text data and corresponding labels.\n",
        "\n",
        "  This dataset:\n",
        "  - Converts tokens in each sequence to their corresponding integer indices using a provided vocabulary.\n",
        "  - Substitutes out-of-vocabulary tokens with the <UNK> index.\n",
        "  - Returns input-target pairs suitable for training classification models.\n",
        "\n",
        "  Args:\n",
        "      X (List[List[str]]): A list of tokenized text sequences.\n",
        "      y (List[int] or List[float]): A list of labels corresponding to each sequence.\n",
        "      stoi (Dict[str, int]): A dictionary mapping tokens to integer indices.\n",
        "\n",
        "  Returns:\n",
        "      Tuple[torch.Tensor, int or float]: A tuple containing the tensor of token indices for a sequence\n",
        "                                          and its associated label.\n",
        "  \"\"\"\n",
        "  def __init__(self, X, y, stoi):\n",
        "    self.X = X\n",
        "    self.y = y\n",
        "    self.stoi = stoi\n",
        "\n",
        "  def __len__(self):\n",
        "    \"\"\"Returns the number of samples in the dataset.\"\"\"\n",
        "    return len(self.y)\n",
        "\n",
        "  def __getitem__(self, idx):\n",
        "    \"\"\"\n",
        "    Retrieves the tokenized and indexed representation of the sample at position `idx`.\n",
        "\n",
        "    Args:\n",
        "        idx (int): Index of the sample to retrieve.\n",
        "\n",
        "    Returns:\n",
        "        Tuple[torch.Tensor, int or float]: A tensor of token indices and the corresponding label.\n",
        "    \"\"\"\n",
        "    text = self.X[idx]\n",
        "    ids = torch.tensor([self.stoi.get(t, self.stoi['<UNK>']) for t in text])\n",
        "    labels = self.y[idx]\n",
        "\n",
        "    return ids, labels"
      ],
      "metadata": {
        "id": "ZlKVswR1JAUK"
      },
      "execution_count": 20,
      "outputs": []
    },
    {
      "cell_type": "code",
      "source": [
        "def collate_fn(batch):\n",
        "    \"\"\"\n",
        "    Custom collate function for DataLoader to handle variable-length text sequences.\n",
        "\n",
        "    This function:\n",
        "    - Pads sequences in the batch to the same length using the <PAD> token index.\n",
        "    - Converts labels to a float tensor.\n",
        "    - Computes the original lengths of each sequence before padding.\n",
        "\n",
        "    Args:\n",
        "        batch (List[Tuple[torch.Tensor, int or float]]): A list of (sequence_tensor, label) tuples.\n",
        "\n",
        "    Returns:\n",
        "        Tuple[torch.Tensor, torch.Tensor, torch.Tensor]:\n",
        "            - padded_texts: Tensor of shape (batch_size, max_seq_len) with padded sequences.\n",
        "            - labels: Tensor of shape (batch_size,) containing float labels.\n",
        "            - lengths: Tensor of shape (batch_size,) with original sequence lengths.\n",
        "    \"\"\"\n",
        "    texts, labels = zip(*batch)\n",
        "    lengths = torch.tensor([len(seq) for seq in texts])\n",
        "    padded_texts = pad_sequence(texts, batch_first = True, padding_value = stoi['<PAD>'])\n",
        "    return padded_texts, torch.tensor(labels, dtype = torch.float), lengths"
      ],
      "metadata": {
        "id": "E8xktdekM4pZ"
      },
      "execution_count": 21,
      "outputs": []
    },
    {
      "cell_type": "markdown",
      "source": [
        "## LSTM Classifier Architecture\n",
        "\n",
        "The `LSTMClassifier` is a PyTorch neural network designed for sequence classification. It includes the following components:\n",
        "\n",
        "- **Embedding Layer**: Maps input token IDs to dense vectors. The padding token is ignored using `padding_idx`.\n",
        "- **LSTM Layer**: A unidirectional LSTM processes the sequence of embeddings. Packing is used to handle variable-length sequences efficiently.\n",
        "- **Fully Connected Layer**: The final hidden state from the LSTM is passed through a linear layer to produce classification logits."
      ],
      "metadata": {
        "id": "3uRhm9F-Og0x"
      }
    },
    {
      "cell_type": "code",
      "source": [
        "class LSTMClassifier(nn.Module):\n",
        "  \"\"\"\n",
        "  A PyTorch neural network for sequence classification using an LSTM.\n",
        "\n",
        "  This model consists of:\n",
        "  - An embedding layer to convert token indices into dense vectors.\n",
        "  - An LSTM layer to process the sequence of embeddings.\n",
        "  - A fully connected layer to produce final output logits from the last hidden state.\n",
        "\n",
        "  Args:\n",
        "      vocab_size (int): Size of the vocabulary.\n",
        "      embed_dim (int): Dimensionality of the embedding vectors.\n",
        "      hidden_dim (int): Number of hidden units in the LSTM.\n",
        "      output_dim (int): Dimensionality of the output (e.g., 1 for binary classification).\n",
        "  \"\"\"\n",
        "  def __init__(self, vocab_size, embed_dim, hidden_dim, output_dim):\n",
        "    super(LSTMClassifier, self).__init__()\n",
        "    self.embedding = nn.Embedding(vocab_size, embed_dim, padding_idx = stoi['<PAD>'])\n",
        "    self.lstm = nn.LSTM(embed_dim, hidden_dim, batch_first = True)\n",
        "    self.fc = nn.Linear(hidden_dim, output_dim)\n",
        "\n",
        "  def forward(self, x, lengths):\n",
        "    \"\"\"\n",
        "    Forward pass of the model.\n",
        "\n",
        "    Args:\n",
        "        x (Tensor): Tensor of token indices with shape (batch_size, seq_len).\n",
        "        lengths (Tensor): Lengths of each sequence in the batch for packing.\n",
        "\n",
        "    Returns:\n",
        "        Tensor: Output logits from the final fully connected layer with shape (batch_size, output_dim).\n",
        "    \"\"\"\n",
        "    embedded = self.embedding(x)\n",
        "    packed = nn.utils.rnn.pack_padded_sequence(embedded, lengths.cpu(), batch_first = True, enforce_sorted = False)\n",
        "    out, (hidden, cell) = self.lstm(packed)\n",
        "    return self.fc(hidden[-1])"
      ],
      "metadata": {
        "id": "B2-r-azSOoG5"
      },
      "execution_count": 22,
      "outputs": []
    },
    {
      "cell_type": "markdown",
      "source": [
        "## Training and Evaluation Functions\n",
        "\n",
        "These functions handle the training loop and validation process for the LSTM classifier.\n",
        "\n",
        "### `train()`\n",
        "This function performs a full training pass over the dataset using a given model, data loader, loss function, and optimizer.\n",
        "\n",
        "- **Args:**\n",
        "  - `model`: The LSTM model to be trained.\n",
        "  - `loader`: DataLoader for the training set.\n",
        "  - `criterion`: Loss function (e.g., `nn.BCEWithLogitsLoss()`).\n",
        "  - `optimizer`: Optimization algorithm (e.g., Adam).\n",
        "  - `device`: Device to run the model on (`'cpu'` or `'cuda'`).\n",
        "  - `print_every`: How often to print batch loss during training (default: 200).\n",
        "\n",
        "- **Returns:**\n",
        "  - Average training loss over all batches\n",
        "  - AUROC on the training set\n",
        "  - AUPRC on the training set\n",
        "\n",
        "### `evaluate()`\n",
        "This function evaluates the model on a validation or test set.\n",
        "\n",
        "- **Args:**\n",
        "  - `model`: The trained model to evaluate.\n",
        "  - `loader`: DataLoader for the validation or test set.\n",
        "\n",
        "- **Returns:**\n",
        "  - Average loss\n",
        "  - AUROC\n",
        "  - AUPRC"
      ],
      "metadata": {
        "id": "emFstoA5SKAU"
      }
    },
    {
      "cell_type": "code",
      "source": [
        "def train(model, loader, criterion, optimizer, device, print_every = 200):\n",
        "  \"\"\"\n",
        "  Trains the given model for one epoch.\n",
        "\n",
        "  Args:\n",
        "      model (torch.nn.Module): The PyTorch model to train.\n",
        "      loader (DataLoader): DataLoader providing batches of (input_ids, labels, lengths).\n",
        "      criterion (torch.nn.Module): Loss function (e.g., nn.BCEWithLogitsLoss()).\n",
        "      optimizer (torch.optim.Optimizer): Optimizer used to update model weights.\n",
        "      device (torch.device): Device to run the model on (e.g., 'cpu' or 'cuda').\n",
        "      print_every (int, optional): How often to print batch loss during training. Default is 200.\n",
        "\n",
        "  Returns:\n",
        "      tuple:\n",
        "          - float: Average training loss over all batches.\n",
        "          - float: AUROC score on the training set.\n",
        "          - float: AUPRC score on the training set.\n",
        "  \"\"\"\n",
        "  model.train()\n",
        "  total_loss = 0.0\n",
        "\n",
        "  pred_proba = []\n",
        "  true_labels = []\n",
        "  for i, (ids, labels, lengths) in enumerate(loader):\n",
        "    ids = ids.to(device)\n",
        "    labels = labels.to(device)\n",
        "    lengths = lengths.to(device)\n",
        "\n",
        "    optimizer.zero_grad()\n",
        "    outputs = model(ids, lengths)\n",
        "\n",
        "    loss = criterion(outputs.squeeze(), labels)\n",
        "    loss.backward()\n",
        "    optimizer.step()\n",
        "\n",
        "    total_loss += loss.item()\n",
        "\n",
        "    if (i + 1) % print_every == 0:\n",
        "      print(f'Batch {i + 1} Average Loss: {loss.item():.4f}')\n",
        "\n",
        "    pred_proba.append(outputs.squeeze())\n",
        "    true_labels.append(labels)\n",
        "\n",
        "  pred_proba = torch.cat(pred_proba, dim = 0).detach().cpu().numpy()\n",
        "  true_labels = torch.cat(true_labels, dim = 0).detach().cpu().numpy()\n",
        "\n",
        "  auroc = roc_auc_score(true_labels, pred_proba)\n",
        "  auprc = average_precision_score(true_labels, pred_proba)\n",
        "\n",
        "  return total_loss / len(loader), auroc.item(), auprc.item()"
      ],
      "metadata": {
        "id": "3yNG_9vxR9Z-"
      },
      "execution_count": 23,
      "outputs": []
    },
    {
      "cell_type": "code",
      "source": [
        "def evaluate(model, criterion, loader, device):\n",
        "  \"\"\"\n",
        "  Evaluates the model on a given dataset.\n",
        "\n",
        "  Args:\n",
        "      model (torch.nn.Module): The trained PyTorch model to evaluate.\n",
        "      criterion (torch.nn.Module): Loss function (e.g., nn.BCEWithLogitsLoss()).\n",
        "      loader (DataLoader): DataLoader providing batches of (input_ids, labels, lengths).\n",
        "\n",
        "  Returns:\n",
        "      tuple:\n",
        "          - np.ndarray: Predicted probabilites for the positive class.\n",
        "          - np.ndarray: Ground truth binary labels.\n",
        "          - float: Average evaluation loss across all batches.\n",
        "          - float: AUROC score on the evaluation dataset.\n",
        "          - float: AUPRC score on the evaluation dataset.\n",
        "  \"\"\"\n",
        "  model.eval()\n",
        "  total_loss = 0.0\n",
        "\n",
        "  pred_proba = []\n",
        "  true_labels = []\n",
        "  with torch.no_grad():\n",
        "    for i, (ids, labels, lengths) in enumerate(loader):\n",
        "      ids = ids.to(device)\n",
        "      labels = labels.to(device)\n",
        "      lengths = lengths.to(device)\n",
        "\n",
        "      outputs = model(ids, lengths)\n",
        "      loss = criterion(outputs.squeeze(), labels)\n",
        "\n",
        "      total_loss += loss.item()\n",
        "\n",
        "      pred_proba.append(outputs.squeeze())\n",
        "      true_labels.append(labels)\n",
        "\n",
        "    pred_proba = torch.cat(pred_proba, dim = 0).detach().cpu().numpy()\n",
        "    true_labels = torch.cat(true_labels, dim = 0).detach().cpu().numpy()\n",
        "\n",
        "    auroc = roc_auc_score(true_labels, pred_proba)\n",
        "    auprc = average_precision_score(true_labels, pred_proba)\n",
        "\n",
        "  return pred_proba, true_labels, total_loss / len(loader), auroc.item(), auprc.item()\n"
      ],
      "metadata": {
        "id": "qsYAjYPIQDi0"
      },
      "execution_count": 27,
      "outputs": []
    },
    {
      "cell_type": "markdown",
      "source": [
        "## Model Training with Early Stopping\n",
        "\n",
        "This section defines the training loop for the `LSTMClassifier`, including early stopping based on validation AUROC.\n",
        "\n",
        "- The model is trained using the `BCEWithLogitsLoss` loss function and the Adam optimizer.\n",
        "- Training and validation losses, AUROC, and AUPRC are tracked across epochs.\n",
        "- Early stopping halts training if the validation AUROC does not improve for `patience` consecutive epochs."
      ],
      "metadata": {
        "id": "Ts2iog0FITLQ"
      }
    },
    {
      "cell_type": "code",
      "source": [
        "device = torch.device('cuda' if torch.cuda.is_available() else 'cpu')\n",
        "\n",
        "model = LSTMClassifier(len(stoi), 100, 128, 1).to(device)\n",
        "\n",
        "criterion = nn.BCEWithLogitsLoss()\n",
        "optimizer = torch.optim.Adam(model.parameters(), lr = 0.001)\n",
        "\n",
        "train_dataset = CustomDataset(X_train_tokens, y_train.values, stoi)\n",
        "train_loader = DataLoader(train_dataset, batch_size = 128, shuffle = True, collate_fn = collate_fn)\n",
        "\n",
        "val_dataset = CustomDataset(X_val_tokens, y_val.values, stoi)\n",
        "val_loader = DataLoader(val_dataset, batch_size = 128, shuffle = False, collate_fn = collate_fn)\n",
        "\n",
        "test_dataset = CustomDataset(X_test_tokens, y_test.values, stoi)\n",
        "test_loader = DataLoader(test_dataset, batch_size = 128, shuffle = False, collate_fn = collate_fn)"
      ],
      "metadata": {
        "id": "4Cg1bUCfSjHe"
      },
      "execution_count": 25,
      "outputs": []
    },
    {
      "cell_type": "code",
      "source": [
        "patience = 2\n",
        "best_val_auc = 0.0\n",
        "counter = 0\n",
        "\n",
        "train_losses, train_aurocs, train_auprcs = [], [], []\n",
        "val_losses, val_aurocs, val_auprcs = [], [], []\n",
        "for i in range(10):\n",
        "  print(f'Epoch {i + 1}')\n",
        "  print('=================================')\n",
        "  train_avg_loss, train_auroc, train_auprc = train(model, train_loader, criterion, optimizer, device)\n",
        "  _, _, val_avg_loss, val_auroc, val_auprc = evaluate(model, criterion, val_loader, device)\n",
        "\n",
        "  train_losses.append(train_avg_loss)\n",
        "  train_aurocs.append(train_auroc)\n",
        "  train_auprcs.append(train_auprc)\n",
        "\n",
        "  val_losses.append(val_avg_loss)\n",
        "  val_aurocs.append(val_auroc)\n",
        "  val_auprcs.append(val_auprc)\n",
        "  print('=================================')\n",
        "\n",
        "  if val_auroc > best_val_auc:\n",
        "      best_val_auc = val_auroc\n",
        "      best_model_state = model.state_dict()\n",
        "      counter = 0\n",
        "  else:\n",
        "      counter += 1\n",
        "      if counter >= patience:\n",
        "          print(f\"Early stopping triggered at epoch {i + 1}\")\n",
        "          break\n",
        "\n",
        "  print(f'Train Loss: {train_avg_loss:.4f}, Train AUROC: {train_auroc:.4f}, Train AUPRC: {train_auprc:.4f}')\n",
        "  print(f'Val Loss: {val_avg_loss:.4f}, Val AUROC: {val_auroc:.4f}, Val AUPRC: {val_auprc:4f}')\n",
        "  print()"
      ],
      "metadata": {
        "colab": {
          "base_uri": "https://localhost:8080/"
        },
        "id": "OVP6m2AlSw7N",
        "outputId": "3ccfcb42-10fb-4df0-c3b2-0111a4918632"
      },
      "execution_count": 22,
      "outputs": [
        {
          "output_type": "stream",
          "name": "stdout",
          "text": [
            "Epoch 1\n",
            "=================================\n",
            "Batch 200 Average Loss: 0.4862\n",
            "Batch 400 Average Loss: 0.4518\n",
            "Batch 600 Average Loss: 0.3668\n",
            "Batch 800 Average Loss: 0.3260\n",
            "Batch 1000 Average Loss: 0.3198\n",
            "Batch 1200 Average Loss: 0.3873\n",
            "Batch 1400 Average Loss: 0.4176\n",
            "Batch 1600 Average Loss: 0.3004\n",
            "Batch 1800 Average Loss: 0.3482\n",
            "Batch 2000 Average Loss: 0.2808\n",
            "Batch 2200 Average Loss: 0.4022\n",
            "Batch 2400 Average Loss: 0.3622\n",
            "Batch 2600 Average Loss: 0.2544\n",
            "Batch 2800 Average Loss: 0.3613\n",
            "Batch 3000 Average Loss: 0.2490\n",
            "Batch 3200 Average Loss: 0.2487\n",
            "Batch 3400 Average Loss: 0.3123\n",
            "Batch 3600 Average Loss: 0.2996\n",
            "Batch 3800 Average Loss: 0.3341\n",
            "Batch 4000 Average Loss: 0.3559\n",
            "Batch 4200 Average Loss: 0.4116\n",
            "=================================\n",
            "Train Loss: 0.3514, Train AUROC: 0.9238, Train AUPRC: 0.9222\n",
            "Val Loss: 0.3031, Val AUROC: 0.9443, Val AUPRC: 0.943248\n",
            "\n",
            "Epoch 2\n",
            "=================================\n",
            "Batch 200 Average Loss: 0.2806\n",
            "Batch 400 Average Loss: 0.3248\n",
            "Batch 600 Average Loss: 0.2045\n",
            "Batch 800 Average Loss: 0.3017\n",
            "Batch 1000 Average Loss: 0.2434\n",
            "Batch 1200 Average Loss: 0.2719\n",
            "Batch 1400 Average Loss: 0.2833\n",
            "Batch 1600 Average Loss: 0.2555\n",
            "Batch 1800 Average Loss: 0.4174\n",
            "Batch 2000 Average Loss: 0.3268\n",
            "Batch 2200 Average Loss: 0.3355\n",
            "Batch 2400 Average Loss: 0.2612\n",
            "Batch 2600 Average Loss: 0.2289\n",
            "Batch 2800 Average Loss: 0.3413\n",
            "Batch 3000 Average Loss: 0.2475\n",
            "Batch 3200 Average Loss: 0.2596\n",
            "Batch 3400 Average Loss: 0.2630\n",
            "Batch 3600 Average Loss: 0.3051\n",
            "Batch 3800 Average Loss: 0.2450\n",
            "Batch 4000 Average Loss: 0.2749\n",
            "Batch 4200 Average Loss: 0.3078\n",
            "=================================\n",
            "Train Loss: 0.2682, Train AUROC: 0.9560, Train AUPRC: 0.9550\n",
            "Val Loss: 0.2871, Val AUROC: 0.9509, Val AUPRC: 0.949360\n",
            "\n",
            "Epoch 3\n",
            "=================================\n",
            "Batch 200 Average Loss: 0.2158\n",
            "Batch 400 Average Loss: 0.2196\n",
            "Batch 600 Average Loss: 0.1867\n",
            "Batch 800 Average Loss: 0.2280\n",
            "Batch 1000 Average Loss: 0.1610\n",
            "Batch 1200 Average Loss: 0.2407\n",
            "Batch 1400 Average Loss: 0.2650\n",
            "Batch 1600 Average Loss: 0.3166\n",
            "Batch 1800 Average Loss: 0.1471\n",
            "Batch 2000 Average Loss: 0.3129\n",
            "Batch 2200 Average Loss: 0.2008\n",
            "Batch 2400 Average Loss: 0.1996\n",
            "Batch 2600 Average Loss: 0.2287\n",
            "Batch 2800 Average Loss: 0.1828\n",
            "Batch 3000 Average Loss: 0.2752\n",
            "Batch 3200 Average Loss: 0.1535\n",
            "Batch 3400 Average Loss: 0.2308\n",
            "Batch 3600 Average Loss: 0.2412\n",
            "Batch 3800 Average Loss: 0.2463\n",
            "Batch 4000 Average Loss: 0.2253\n",
            "Batch 4200 Average Loss: 0.2029\n",
            "=================================\n",
            "Train Loss: 0.2278, Train AUROC: 0.9682, Train AUPRC: 0.9673\n",
            "Val Loss: 0.2900, Val AUROC: 0.9523, Val AUPRC: 0.950605\n",
            "\n",
            "Epoch 4\n",
            "=================================\n",
            "Batch 200 Average Loss: 0.1613\n",
            "Batch 400 Average Loss: 0.1688\n",
            "Batch 600 Average Loss: 0.1859\n",
            "Batch 800 Average Loss: 0.1699\n",
            "Batch 1000 Average Loss: 0.2324\n",
            "Batch 1200 Average Loss: 0.1565\n",
            "Batch 1400 Average Loss: 0.1527\n",
            "Batch 1600 Average Loss: 0.1532\n",
            "Batch 1800 Average Loss: 0.1280\n",
            "Batch 2000 Average Loss: 0.1289\n",
            "Batch 2200 Average Loss: 0.1949\n",
            "Batch 2400 Average Loss: 0.1752\n",
            "Batch 2600 Average Loss: 0.1708\n",
            "Batch 2800 Average Loss: 0.2234\n",
            "Batch 3000 Average Loss: 0.2208\n",
            "Batch 3200 Average Loss: 0.1606\n",
            "Batch 3400 Average Loss: 0.1117\n",
            "Batch 3600 Average Loss: 0.1693\n",
            "Batch 3800 Average Loss: 0.2227\n",
            "Batch 4000 Average Loss: 0.1322\n",
            "Batch 4200 Average Loss: 0.1806\n",
            "=================================\n",
            "Train Loss: 0.1911, Train AUROC: 0.9774, Train AUPRC: 0.9766\n",
            "Val Loss: 0.3024, Val AUROC: 0.9505, Val AUPRC: 0.948031\n",
            "\n",
            "Epoch 5\n",
            "=================================\n",
            "Batch 200 Average Loss: 0.2352\n",
            "Batch 400 Average Loss: 0.1551\n",
            "Batch 600 Average Loss: 0.1517\n",
            "Batch 800 Average Loss: 0.1359\n",
            "Batch 1000 Average Loss: 0.1165\n",
            "Batch 1200 Average Loss: 0.1924\n",
            "Batch 1400 Average Loss: 0.0869\n",
            "Batch 1600 Average Loss: 0.0956\n",
            "Batch 1800 Average Loss: 0.2413\n",
            "Batch 2000 Average Loss: 0.1828\n",
            "Batch 2200 Average Loss: 0.1512\n",
            "Batch 2400 Average Loss: 0.1649\n",
            "Batch 2600 Average Loss: 0.1514\n",
            "Batch 2800 Average Loss: 0.1817\n",
            "Batch 3000 Average Loss: 0.1286\n",
            "Batch 3200 Average Loss: 0.1568\n",
            "Batch 3400 Average Loss: 0.2028\n",
            "Batch 3600 Average Loss: 0.2269\n",
            "Batch 3800 Average Loss: 0.1773\n",
            "Batch 4000 Average Loss: 0.1604\n",
            "Batch 4200 Average Loss: 0.1422\n",
            "=================================\n",
            "Early stopping triggered at epoch 5\n"
          ]
        }
      ]
    },
    {
      "cell_type": "markdown",
      "source": [
        "## Saving the Model and Training Metrics\n",
        "\n",
        "After training, the best model state and training metrics are saved for future analysis or fine-tuning. These files are saved to the `./results/base_model/` directory."
      ],
      "metadata": {
        "id": "BTz5WQFvIcuz"
      }
    },
    {
      "cell_type": "code",
      "source": [
        "torch.save(best_model_state, './results/base_model/initial_model.pth')\n",
        "\n",
        "torch.save(train_losses, './results/base_model/train_losses.pth')\n",
        "torch.save(train_aurocs, './results/base_model/train_aurocs.pth')\n",
        "torch.save(train_auprcs, './results/base_model/train_auprcs.pth')\n",
        "\n",
        "torch.save(val_losses, './results/base_model/val_losses.pth')\n",
        "torch.save(val_aurocs, './results/base_model/val_aurocs.pth')\n",
        "torch.save(val_auprcs, './results/base_model/val_auprcs.pth')"
      ],
      "metadata": {
        "id": "lPSDzunXTmw2"
      },
      "execution_count": 23,
      "outputs": []
    },
    {
      "cell_type": "markdown",
      "source": [
        "## Evaluate Base Model"
      ],
      "metadata": {
        "id": "cFBXb0U0iyim"
      }
    },
    {
      "cell_type": "markdown",
      "source": [
        "### Loss Over Epochs"
      ],
      "metadata": {
        "id": "Lj5vnPbEn6zV"
      }
    },
    {
      "cell_type": "markdown",
      "source": [
        "There is some slight overfitting that occurs towards the end of the training process. This is why we implement early stopping and save the best model state."
      ],
      "metadata": {
        "id": "lo2tU9_GoX9u"
      }
    },
    {
      "cell_type": "code",
      "source": [
        "train_losses = torch.load('./results/base_model/train_losses.pth')\n",
        "val_losses = torch.load('./results/base_model/val_losses.pth')\n",
        "\n",
        "plot_loss(train_losses, val_losses, './results/base_model/loss_over_epochs.png')"
      ],
      "metadata": {
        "colab": {
          "base_uri": "https://localhost:8080/",
          "height": 607
        },
        "id": "1kX6L1hcn8Pd",
        "outputId": "19bcbcff-5976-41ef-bb16-ee15093ebe9f"
      },
      "execution_count": 54,
      "outputs": [
        {
          "output_type": "display_data",
          "data": {
            "text/plain": [
              "<Figure size 800x600 with 1 Axes>"
            ],
            "image/png": "[encoded data removed]"
          },
          "metadata": {}
        }
      ]
    },
    {
      "cell_type": "markdown",
      "source": [
        "### Performance Metrics"
      ],
      "metadata": {
        "id": "ofc1aTvZoe2E"
      }
    },
    {
      "cell_type": "code",
      "source": [
        "model = LSTMClassifier(len(stoi), 100, 128, 1).to(device)\n",
        "model.load_state_dict(torch.load('./results/base_model/initial_model.pth'))\n",
        "\n",
        "model.eval()\n",
        "with torch.no_grad():\n",
        "  test_pred_proba, test_labels, test_avg_loss, _, _ = evaluate(model, criterion, test_loader, device)"
      ],
      "metadata": {
        "id": "N3Q6ctrFi1XS"
      },
      "execution_count": 73,
      "outputs": []
    },
    {
      "cell_type": "code",
      "source": [
        "test_pred = (test_pred_proba >= 0).astype(int)\n",
        "\n",
        "base_metrics = calculate_metrics(test_labels, test_pred_proba, test_pred, set = 'test')\n",
        "\n",
        "print('Accuracy:', base_metrics['test_accuracy'])\n",
        "print('Precision:', base_metrics['test_precision'])\n",
        "print('Recall:', base_metrics['test_recall'])\n",
        "print('Specificty:', base_metrics['test_specificity'])\n",
        "print('F1 Score:', base_metrics['test_f1'])\n",
        "print('AUROC:', base_metrics['test_auroc'])\n",
        "print('AUPRC:', base_metrics['test_auprc'])"
      ],
      "metadata": {
        "colab": {
          "base_uri": "https://localhost:8080/"
        },
        "id": "BY0brQKCkzpl",
        "outputId": "5da5ee0b-9224-456f-f044-68ac2881b890"
      },
      "execution_count": 74,
      "outputs": [
        {
          "output_type": "stream",
          "name": "stdout",
          "text": [
            "Accuracy: 0.8802297005742514\n",
            "Precision: 0.8780073169761801\n",
            "Recall: 0.88317\n",
            "Specificty: 0.8772893864469322\n",
            "F1 Score: 0.8805810915907233\n",
            "AUROC: 0.9485579753023765\n",
            "AUPRC: 0.945931270714558\n"
          ]
        }
      ]
    },
    {
      "cell_type": "code",
      "source": [
        "plot_roc_curve(test_labels, test_pred_proba, './results/base_model/roc_curve.png', set = 'Test')\n",
        "plot_pr_curve(test_labels, test_pred_proba, './results/base_model/pr_curve.png', set = 'Test')"
      ],
      "metadata": {
        "colab": {
          "base_uri": "https://localhost:8080/",
          "height": 997
        },
        "id": "nZ4KZmegmNzj",
        "outputId": "d575e247-0ab6-4532-bd53-7a8cefab5732"
      },
      "execution_count": 44,
      "outputs": [
        {
          "output_type": "display_data",
          "data": {
            "text/plain": [
              "<Figure size 600x500 with 1 Axes>"
            ],
            "image/png": "[encoded data removed]"
          },
          "metadata": {}
        },
        {
          "output_type": "display_data",
          "data": {
            "text/plain": [
              "<Figure size 600x500 with 1 Axes>"
            ],
            "image/png": "[encoded data removed]"
          },
          "metadata": {}
        }
      ]
    },
    {
      "cell_type": "code",
      "source": [
        "create_confusion_matrix(test_labels, test_pred, path = './results/base_model/confusion_matrix.png', set = 'Test')"
      ],
      "metadata": {
        "colab": {
          "base_uri": "https://localhost:8080/",
          "height": 472
        },
        "id": "aSE6zbRQmXPM",
        "outputId": "2150237d-e4ce-4af6-961b-c4d4765b51b8"
      },
      "execution_count": 45,
      "outputs": [
        {
          "output_type": "display_data",
          "data": {
            "text/plain": [
              "<Figure size 640x480 with 2 Axes>"
            ],
            "image/png": "[encoded data removed]"
          },
          "metadata": {}
        }
      ]
    },
    {
      "cell_type": "markdown",
      "source": [
        "## Attention Mechanism and Masking\n",
        "\n",
        "This section introduces a custom attention mechanism for sequence modeling and a helper function to handle variable-length input sequences during attention computation.\n",
        "\n",
        "This combination allows robust handling of padded sequences when using attention."
      ],
      "metadata": {
        "id": "OgvhBl9zaWkd"
      }
    },
    {
      "cell_type": "markdown",
      "source": [
        "### Attention Module\n",
        "\n",
        "The `Attention` class implements a simple attention mechanism that learns importance weights for each token in the LSTM output sequence. It computes a context vector as a weighted sum of LSTM outputs.\n",
        "\n",
        "- **Inputs**:\n",
        "  - `lstm_outputs`: Tensor of shape `(batch_size, seq_len, hidden_dim)` representing the output from the LSTM for each token.\n",
        "  - `mask` (optional): A binary mask of shape `(batch_size, seq_len)` used to ignore padded positions when computing attention weights.\n",
        "- **Outputs**:\n",
        "  - `context`: A tensor of shape `(batch_size, hidden_dim)` representing the aggregated context vector.\n",
        "  - `weights`: The attention weights over the sequence, useful for interpretability or visualization."
      ],
      "metadata": {
        "id": "1hx5-0t1I70R"
      }
    },
    {
      "cell_type": "code",
      "source": [
        "class Attention(nn.Module):\n",
        "  \"\"\"\n",
        "  Applies an attention mechanism over LSTM outputs to produce a context vector.\n",
        "\n",
        "  This module computes attention scores for each timestep in the LSTM output,\n",
        "  applies a softmax to get weights, and uses these weights to calculate a weighted\n",
        "  sum of the LSTM outputs.\n",
        "\n",
        "  Args:\n",
        "      hidden_dim (int): Dimensionality of the LSTM hidden state.\n",
        "  \"\"\"\n",
        "  def __init__(self, hidden_dim):\n",
        "    super(Attention, self).__init__()\n",
        "    self.attn = nn.Linear(hidden_dim, 1)\n",
        "\n",
        "  def forward(self, lstm_outputs, mask = None):\n",
        "    \"\"\"\n",
        "    Compute the attention-weighted context vector from LSTM outputs.\n",
        "\n",
        "    Args:\n",
        "        lstm_outputs (Tensor): Tensor of shape (batch_size, seq_len, hidden_dim)\n",
        "                                representing outputs from the LSTM.\n",
        "        mask (Tensor, optional): Boolean mask of shape (batch_size, seq_len) indicating\n",
        "                                  valid (non-padded) tokens.\n",
        "\n",
        "    Returns:\n",
        "        context (Tensor): Weighted sum of LSTM outputs. Shape (batch_size, hidden_dim).\n",
        "        weights (Tensor): Attention weights for each token. Shape (batch_size, seq_len).\n",
        "    \"\"\"\n",
        "    scores = self.attn(lstm_outputs).squeeze(-1)\n",
        "\n",
        "    if mask is not None:\n",
        "      scores = scores.masked_fill(~mask, float('-inf'))\n",
        "\n",
        "    weights = F.softmax(scores, dim = 1)\n",
        "    context = torch.bmm(weights.unsqueeze(1), lstm_outputs)\n",
        "\n",
        "    return context.squeeze(1), weights"
      ],
      "metadata": {
        "id": "o28pxQ7sahZG"
      },
      "execution_count": 56,
      "outputs": []
    },
    {
      "cell_type": "markdown",
      "source": [
        "### Sequence Masking Utility\n",
        "\n",
        "The `create_mask` function generates a binary mask for variable-length sequences to be used in attention. This ensures attention is only applied to real (non-padding) tokens.\n",
        "\n",
        "- **Inputs**:\n",
        "  - `lengths`: A tensor containing the length of each sequence in the batch.\n",
        "  - `max_len` (optional): Maximum length to pad/truncate to. Defaults to the maximum in `lengths`.\n",
        "- **Output**:\n",
        "  - A boolean mask tensor of shape `(batch_size, max_len)`."
      ],
      "metadata": {
        "id": "1gIv3G-6JBU5"
      }
    },
    {
      "cell_type": "code",
      "source": [
        "def create_mask(lengths, max_len=None):\n",
        "    \"\"\"\n",
        "    Creates a boolean mask for padded sequences based on sequence lengths.\n",
        "\n",
        "    This mask is used to identify the valid (non-padded) positions in each sequence,\n",
        "    typically for attention mechanisms or loss calculations.\n",
        "\n",
        "    Args:\n",
        "        lengths (Tensor): A 1D tensor of shape (batch_size,) containing the lengths of each sequence.\n",
        "        max_len (int, optional): The maximum sequence length to pad to. If None, uses the max value from `lengths`.\n",
        "\n",
        "    Returns:\n",
        "        Tensor: A boolean mask of shape (batch_size, max_len) where True indicates a valid token position.\n",
        "    \"\"\"\n",
        "    batch_size = lengths.size(0)\n",
        "    max_len = max_len or lengths.max()\n",
        "    return torch.arange(max_len).expand(batch_size, max_len).to(lengths.device) < lengths.unsqueeze(1)"
      ],
      "metadata": {
        "id": "lnG9TSTEdo8h"
      },
      "execution_count": 57,
      "outputs": []
    },
    {
      "cell_type": "markdown",
      "source": [
        "## LSTM Classifier with Attention\n",
        "\n",
        "This model adds an attention mechanism on top of the LSTM to focus on important parts of the input sequence.\n",
        "\n",
        "- **Embedding Layer**: Maps tokens to dense vectors.\n",
        "- **LSTM Layer**: Encodes the sequence.\n",
        "- **Attention Layer**: Learns weights over LSTM outputs to create a context vector.\n",
        "- **Fully Connected Layer**: Produces the final prediction from the context vector.\n",
        "\n",
        "The attention helps the model emphasize relevant tokens and improves handling of variable-length sequences."
      ],
      "metadata": {
        "id": "fnM0-GasJHqy"
      }
    },
    {
      "cell_type": "code",
      "source": [
        "class LSTMClassifierWithAttention(nn.Module):\n",
        "  \"\"\"\n",
        "  An LSTM-based text classification model with an attention mechanism.\n",
        "\n",
        "  This model embeds input tokens, processes them with an LSTM,\n",
        "  and uses an attention mechanism to weight the LSTM outputs before\n",
        "  making a prediction through a fully connected layer.\n",
        "\n",
        "  Args:\n",
        "      vocab_size (int): Size of the vocabulary.\n",
        "      embed_dim (int): Dimensionality of the embedding vectors.\n",
        "      hidden_dim (int): Number of hidden units in the LSTM.\n",
        "      output_dim (int): Number of output classes (1 for binary classification).\n",
        "  \"\"\"\n",
        "  def __init__(self, vocab_size, embed_dim, hidden_dim, output_dim):\n",
        "    super(LSTMClassifierWithAttention, self).__init__()\n",
        "    self.embedding = nn.Embedding(vocab_size, embed_dim, padding_idx = stoi['<PAD>'])\n",
        "    self.lstm = nn.LSTM(embed_dim, hidden_dim, batch_first = True)\n",
        "    self.attn = Attention(hidden_dim)\n",
        "    self.fc = nn.Linear(hidden_dim, output_dim)\n",
        "\n",
        "  def forward(self, x, lengths):\n",
        "    \"\"\"\n",
        "    Forward pass of the model.\n",
        "\n",
        "    Args:\n",
        "        x (Tensor): Tensor of token indices of shape (batch_size, seq_len).\n",
        "        lengths (Tensor): Lengths of each sequence in the batch (used for packing).\n",
        "\n",
        "    Returns:\n",
        "        Tensor: Output logits of shape (batch_size, output_dim).\n",
        "    \"\"\"\n",
        "    embedded = self.embedding(x)\n",
        "    packed = nn.utils.rnn.pack_padded_sequence(embedded, lengths.cpu(), batch_first = True, enforce_sorted = False)\n",
        "    out, (hidden, cell) = self.lstm(packed)\n",
        "\n",
        "    out, _ = nn.utils.rnn.pad_packed_sequence(out, batch_first = True)\n",
        "    mask = create_mask(lengths)\n",
        "\n",
        "    context, weights = self.attn(out, mask)\n",
        "\n",
        "    return self.fc(context)"
      ],
      "metadata": {
        "id": "PGF_Wm73dmP5"
      },
      "execution_count": 58,
      "outputs": []
    },
    {
      "cell_type": "markdown",
      "source": [
        "## Attention Model Training with Early Stopping\n",
        "\n",
        "This section defines the training loop for the `LSTMClassifierWithAttention`, including early stopping based on validation AUROC.\n",
        "\n",
        "- The model is trained using the `BCEWithLogitsLoss` loss function and the Adam optimizer.\n",
        "- Training and validation losses, AUROC, and AUPRC are tracked across epochs.\n",
        "- Early stopping halts training if the validation AUROC does not improve for `patience` consecutive epochs.\n",
        "\n",
        "The only difference from above is the attention mechanism."
      ],
      "metadata": {
        "id": "NBjLz2mVJMCZ"
      }
    },
    {
      "cell_type": "code",
      "source": [
        "device = torch.device('cuda' if torch.cuda.is_available() else 'cpu')\n",
        "\n",
        "model = LSTMClassifierWithAttention(len(stoi), 100, 128, 1).to(device)\n",
        "\n",
        "criterion = nn.BCEWithLogitsLoss()\n",
        "optimizer = torch.optim.Adam(model.parameters(), lr = 0.001)\n",
        "\n",
        "train_dataset = CustomDataset(X_train_tokens, y_train.values, stoi)\n",
        "train_loader = DataLoader(train_dataset, batch_size = 128, shuffle = True, collate_fn = collate_fn)\n",
        "\n",
        "val_dataset = CustomDataset(X_val_tokens, y_val.values, stoi)\n",
        "val_loader = DataLoader(val_dataset, batch_size = 128, shuffle = False, collate_fn = collate_fn)\n",
        "\n",
        "test_dataset = CustomDataset(X_test_tokens, y_test.values, stoi)\n",
        "test_loader = DataLoader(test_dataset, batch_size = 128, shuffle = False, collate_fn = collate_fn)"
      ],
      "metadata": {
        "id": "OJCKa1EUe41j"
      },
      "execution_count": 59,
      "outputs": []
    },
    {
      "cell_type": "code",
      "source": [
        "patience = 2\n",
        "best_val_auc = 0.0\n",
        "counter = 0\n",
        "\n",
        "train_losses, train_aurocs, train_auprcs = [], [], []\n",
        "val_losses, val_aurocs, val_auprcs = [], [], []\n",
        "for i in range(10):\n",
        "  print(f'Epoch {i + 1}')\n",
        "  print('=================================')\n",
        "  train_avg_loss, train_auroc, train_auprc = train(model, train_loader, criterion, optimizer, device)\n",
        "  _, _, val_avg_loss, val_auroc, val_auprc = evaluate(model, criterion, val_loader, device)\n",
        "\n",
        "  train_losses.append(train_avg_loss)\n",
        "  train_aurocs.append(train_auroc)\n",
        "  train_auprcs.append(train_auprc)\n",
        "\n",
        "  val_losses.append(val_avg_loss)\n",
        "  val_aurocs.append(val_auroc)\n",
        "  val_auprcs.append(val_auprc)\n",
        "  print('=================================')\n",
        "\n",
        "  if val_auroc > best_val_auc:\n",
        "      best_val_auc = val_auroc\n",
        "      best_model_state = model.state_dict()\n",
        "      counter = 0\n",
        "  else:\n",
        "      counter += 1\n",
        "      if counter >= patience:\n",
        "          print(f\"Early stopping triggered at epoch {i + 1}\")\n",
        "          break\n",
        "\n",
        "  print(f'Train Loss: {train_avg_loss:.4f}, Train AUROC: {train_auroc:.4f}, Train AUPRC: {train_auprc:.4f}')\n",
        "  print(f'Val Loss: {val_avg_loss:.4f}, Val AUROC: {val_auroc:.4f}, Val AUPRC: {val_auprc:4f}')\n",
        "  print()"
      ],
      "metadata": {
        "colab": {
          "base_uri": "https://localhost:8080/"
        },
        "id": "UGrALMMbe-k-",
        "outputId": "0e21abc3-8d50-4a8a-863e-0d15e10cfdac"
      },
      "execution_count": 30,
      "outputs": [
        {
          "output_type": "stream",
          "name": "stdout",
          "text": [
            "Epoch 1\n",
            "=================================\n",
            "Batch 200 Average Loss: 0.4838\n",
            "Batch 400 Average Loss: 0.4555\n",
            "Batch 600 Average Loss: 0.4599\n",
            "Batch 800 Average Loss: 0.3186\n",
            "Batch 1000 Average Loss: 0.3407\n",
            "Batch 1200 Average Loss: 0.2516\n",
            "Batch 1400 Average Loss: 0.2732\n",
            "Batch 1600 Average Loss: 0.3400\n",
            "Batch 1800 Average Loss: 0.3768\n",
            "Batch 2000 Average Loss: 0.2802\n",
            "Batch 2200 Average Loss: 0.2610\n",
            "Batch 2400 Average Loss: 0.2847\n",
            "Batch 2600 Average Loss: 0.3476\n",
            "Batch 2800 Average Loss: 0.2614\n",
            "Batch 3000 Average Loss: 0.3197\n",
            "Batch 3200 Average Loss: 0.2619\n",
            "Batch 3400 Average Loss: 0.3370\n",
            "Batch 3600 Average Loss: 0.2846\n",
            "Batch 3800 Average Loss: 0.3041\n",
            "Batch 4000 Average Loss: 0.2767\n",
            "Batch 4200 Average Loss: 0.3568\n",
            "=================================\n",
            "Train Loss: 0.3402, Train AUROC: 0.9288, Train AUPRC: 0.9275\n",
            "Val Loss: 0.2944, Val AUROC: 0.9472, Val AUPRC: 0.945507\n",
            "\n",
            "Epoch 2\n",
            "=================================\n",
            "Batch 200 Average Loss: 0.2437\n",
            "Batch 400 Average Loss: 0.2276\n",
            "Batch 600 Average Loss: 0.2361\n",
            "Batch 800 Average Loss: 0.3062\n",
            "Batch 1000 Average Loss: 0.2296\n",
            "Batch 1200 Average Loss: 0.2472\n",
            "Batch 1400 Average Loss: 0.3098\n",
            "Batch 1600 Average Loss: 0.2565\n",
            "Batch 1800 Average Loss: 0.2614\n",
            "Batch 2000 Average Loss: 0.3268\n",
            "Batch 2200 Average Loss: 0.3180\n",
            "Batch 2400 Average Loss: 0.3537\n",
            "Batch 2600 Average Loss: 0.2698\n",
            "Batch 2800 Average Loss: 0.3459\n",
            "Batch 3000 Average Loss: 0.2164\n",
            "Batch 3200 Average Loss: 0.2661\n",
            "Batch 3400 Average Loss: 0.2218\n",
            "Batch 3600 Average Loss: 0.2449\n",
            "Batch 3800 Average Loss: 0.2589\n",
            "Batch 4000 Average Loss: 0.2610\n",
            "Batch 4200 Average Loss: 0.2968\n",
            "=================================\n",
            "Train Loss: 0.2619, Train AUROC: 0.9581, Train AUPRC: 0.9570\n",
            "Val Loss: 0.2830, Val AUROC: 0.9522, Val AUPRC: 0.950625\n",
            "\n",
            "Epoch 3\n",
            "=================================\n",
            "Batch 200 Average Loss: 0.1959\n",
            "Batch 400 Average Loss: 0.2035\n",
            "Batch 600 Average Loss: 0.1805\n",
            "Batch 800 Average Loss: 0.2204\n",
            "Batch 1000 Average Loss: 0.2129\n",
            "Batch 1200 Average Loss: 0.1911\n",
            "Batch 1400 Average Loss: 0.2094\n",
            "Batch 1600 Average Loss: 0.2552\n",
            "Batch 1800 Average Loss: 0.2897\n",
            "Batch 2000 Average Loss: 0.1958\n",
            "Batch 2200 Average Loss: 0.1681\n",
            "Batch 2400 Average Loss: 0.2623\n",
            "Batch 2600 Average Loss: 0.2107\n",
            "Batch 2800 Average Loss: 0.2372\n",
            "Batch 3000 Average Loss: 0.1202\n",
            "Batch 3200 Average Loss: 0.0870\n",
            "Batch 3400 Average Loss: 0.2432\n",
            "Batch 3600 Average Loss: 0.2992\n",
            "Batch 3800 Average Loss: 0.2722\n",
            "Batch 4000 Average Loss: 0.1338\n",
            "Batch 4200 Average Loss: 0.2087\n",
            "=================================\n",
            "Train Loss: 0.2229, Train AUROC: 0.9696, Train AUPRC: 0.9688\n",
            "Val Loss: 0.2826, Val AUROC: 0.9527, Val AUPRC: 0.951279\n",
            "\n",
            "Epoch 4\n",
            "=================================\n",
            "Batch 200 Average Loss: 0.1582\n",
            "Batch 400 Average Loss: 0.1725\n",
            "Batch 600 Average Loss: 0.2616\n",
            "Batch 800 Average Loss: 0.2181\n",
            "Batch 1000 Average Loss: 0.1162\n",
            "Batch 1200 Average Loss: 0.2134\n",
            "Batch 1400 Average Loss: 0.1282\n",
            "Batch 1600 Average Loss: 0.1774\n",
            "Batch 1800 Average Loss: 0.1625\n",
            "Batch 2000 Average Loss: 0.1460\n",
            "Batch 2200 Average Loss: 0.0896\n",
            "Batch 2400 Average Loss: 0.1769\n",
            "Batch 2600 Average Loss: 0.1824\n",
            "Batch 2800 Average Loss: 0.2139\n",
            "Batch 3000 Average Loss: 0.2164\n",
            "Batch 3200 Average Loss: 0.1830\n",
            "Batch 3400 Average Loss: 0.1653\n",
            "Batch 3600 Average Loss: 0.1920\n",
            "Batch 3800 Average Loss: 0.0838\n",
            "Batch 4000 Average Loss: 0.1592\n",
            "Batch 4200 Average Loss: 0.1760\n",
            "=================================\n",
            "Train Loss: 0.1839, Train AUROC: 0.9791, Train AUPRC: 0.9786\n",
            "Val Loss: 0.3014, Val AUROC: 0.9503, Val AUPRC: 0.948703\n",
            "\n",
            "Epoch 5\n",
            "=================================\n",
            "Batch 200 Average Loss: 0.1043\n",
            "Batch 400 Average Loss: 0.1476\n",
            "Batch 600 Average Loss: 0.1606\n",
            "Batch 800 Average Loss: 0.0570\n",
            "Batch 1000 Average Loss: 0.1580\n",
            "Batch 1200 Average Loss: 0.0813\n",
            "Batch 1400 Average Loss: 0.2077\n",
            "Batch 1600 Average Loss: 0.1101\n",
            "Batch 1800 Average Loss: 0.1200\n",
            "Batch 2000 Average Loss: 0.1524\n",
            "Batch 2200 Average Loss: 0.1899\n",
            "Batch 2400 Average Loss: 0.1587\n",
            "Batch 2600 Average Loss: 0.1082\n",
            "Batch 2800 Average Loss: 0.1004\n",
            "Batch 3000 Average Loss: 0.1186\n",
            "Batch 3200 Average Loss: 0.1285\n",
            "Batch 3400 Average Loss: 0.1826\n",
            "Batch 3600 Average Loss: 0.1394\n",
            "Batch 3800 Average Loss: 0.1285\n",
            "Batch 4000 Average Loss: 0.2100\n",
            "Batch 4200 Average Loss: 0.1502\n",
            "=================================\n",
            "Early stopping triggered at epoch 5\n"
          ]
        }
      ]
    },
    {
      "cell_type": "markdown",
      "source": [
        "## Saving the Attention Model and Training Metrics\n",
        "\n",
        "After training, the best model state and training metrics are saved for future analysis or fine-tuning. These files are saved to the `./results/attention_model/` directory."
      ],
      "metadata": {
        "id": "zkfXpGzBJhgh"
      }
    },
    {
      "cell_type": "code",
      "source": [
        "torch.save(best_model_state, './results/attention_model/initial_model.pth')\n",
        "\n",
        "torch.save(train_losses, './results/attention_model/train_losses.pth')\n",
        "torch.save(train_aurocs, './results/attention_model/train_aurocs.pth')\n",
        "torch.save(train_auprcs, './results/attention_model/train_auprcs.pth')\n",
        "\n",
        "torch.save(val_losses, './results/attention_model/val_losses.pth')\n",
        "torch.save(val_aurocs, './results/attention_model/val_aurocs.pth')\n",
        "torch.save(val_auprcs, './results/attention_model/val_auprcs.pth')"
      ],
      "metadata": {
        "id": "AxteXYPMfGhQ"
      },
      "execution_count": 31,
      "outputs": []
    },
    {
      "cell_type": "markdown",
      "source": [
        "## Evaluate Attention Model"
      ],
      "metadata": {
        "id": "QkAcx6Qoon_e"
      }
    },
    {
      "cell_type": "markdown",
      "source": [
        "### Loss Over Epochs"
      ],
      "metadata": {
        "id": "5xFdXMOAosQZ"
      }
    },
    {
      "cell_type": "markdown",
      "source": [
        "#### Again, we see some slight overfitting towards the end of training, but our early stopping prevents poor generalization."
      ],
      "metadata": {
        "id": "2gtMSxfho3WA"
      }
    },
    {
      "cell_type": "code",
      "source": [
        "train_losses = torch.load('./results/attention_model/train_losses.pth')\n",
        "val_losses = torch.load('./results/attention_model/val_losses.pth')\n",
        "\n",
        "plot_loss(train_losses, val_losses, './results/attention_model/loss_over_epochs.png')"
      ],
      "metadata": {
        "colab": {
          "base_uri": "https://localhost:8080/",
          "height": 607
        },
        "id": "H7x4ynwWB-F1",
        "outputId": "d69baa00-b9c1-438f-97df-89f0aed3a0bd"
      },
      "execution_count": 60,
      "outputs": [
        {
          "output_type": "display_data",
          "data": {
            "text/plain": [
              "<Figure size 800x600 with 1 Axes>"
            ],
            "image/png": "[encoded data removed]"
          },
          "metadata": {}
        }
      ]
    },
    {
      "cell_type": "markdown",
      "source": [
        "#### Performance Metrics"
      ],
      "metadata": {
        "id": "0HGMGggko_VN"
      }
    },
    {
      "cell_type": "code",
      "source": [
        "model = LSTMClassifierWithAttention(len(stoi), 100, 128, 1).to(device)\n",
        "model.load_state_dict(torch.load('./results/attention_model/initial_model.pth'))\n",
        "\n",
        "model.eval()\n",
        "with torch.no_grad():\n",
        "  test_pred_proba, test_labels, test_avg_loss, _, _ = evaluate(model, test_loader)"
      ],
      "metadata": {
        "id": "0kh9umJOo1xk"
      },
      "execution_count": 71,
      "outputs": []
    },
    {
      "cell_type": "code",
      "source": [
        "test_pred = (test_pred_proba >= 0).astype(int)\n",
        "\n",
        "attention_metrics = calculate_metrics(test_labels, test_pred_proba, test_pred, set = 'test')\n",
        "\n",
        "print('Accuracy:', attention_metrics['test_accuracy'])\n",
        "print('Precision:', attention_metrics['test_precision'])\n",
        "print('Recall:', attention_metrics['test_recall'])\n",
        "print('Specificty:', attention_metrics['test_specificity'])\n",
        "print('F1 Score:', attention_metrics['test_f1'])\n",
        "print('AUROC:', attention_metrics['test_auroc'])\n",
        "print('AUPRC:', attention_metrics['test_auprc'])"
      ],
      "metadata": {
        "colab": {
          "base_uri": "https://localhost:8080/"
        },
        "id": "1byvVDYcpRRL",
        "outputId": "9b47acbb-1c9e-4f51-8932-03e556db91d8"
      },
      "execution_count": 72,
      "outputs": [
        {
          "output_type": "stream",
          "name": "stdout",
          "text": [
            "Accuracy: 0.8758546896367241\n",
            "Precision: 0.8768234362311139\n",
            "Recall: 0.87457\n",
            "Specificty: 0.8771393856969285\n",
            "F1 Score: 0.8756952684199196\n",
            "AUROC: 0.9460111973309866\n",
            "AUPRC: 0.9435957680311116\n"
          ]
        }
      ]
    },
    {
      "cell_type": "code",
      "source": [
        "plot_roc_curve(test_labels, test_pred_proba, './results/attention_model/roc_curve.png', set = 'Test')\n",
        "plot_pr_curve(test_labels, test_pred_proba, './results/attention_model/pr_curve.png', set = 'Test')"
      ],
      "metadata": {
        "colab": {
          "base_uri": "https://localhost:8080/",
          "height": 997
        },
        "id": "J-CuZtpgpZzR",
        "outputId": "1ea5e59e-abd2-4968-f950-92a05de09990"
      },
      "execution_count": 65,
      "outputs": [
        {
          "output_type": "display_data",
          "data": {
            "text/plain": [
              "<Figure size 600x500 with 1 Axes>"
            ],
            "image/png": "[encoded data removed]"
          },
          "metadata": {}
        },
        {
          "output_type": "display_data",
          "data": {
            "text/plain": [
              "<Figure size 600x500 with 1 Axes>"
            ],
            "image/png": "[encoded data removed]"
          },
          "metadata": {}
        }
      ]
    },
    {
      "cell_type": "code",
      "source": [
        "create_confusion_matrix(test_labels, test_pred, path = './results/attention_model/confusion_matrix.png', set = 'Test')"
      ],
      "metadata": {
        "colab": {
          "base_uri": "https://localhost:8080/",
          "height": 472
        },
        "id": "hVMOBwTbpfqE",
        "outputId": "6e40cc22-dd3b-4926-fb5c-3ad68d397ca6"
      },
      "execution_count": 66,
      "outputs": [
        {
          "output_type": "display_data",
          "data": {
            "text/plain": [
              "<Figure size 640x480 with 2 Axes>"
            ],
            "image/png": "[encoded data removed]"
          },
          "metadata": {}
        }
      ]
    },
    {
      "cell_type": "code",
      "source": [
        "final_metrics = pd.DataFrame([base_metrics, attention_metrics]).T.reset_index()\n",
        "final_metrics.columns = ['Metric', 'Base Model', 'Attention Model']\n",
        "final_metrics['Metric'] = final_metrics['Metric'].str.replace('test_', '').str.title()"
      ],
      "metadata": {
        "id": "PA5GAMmApj6Z"
      },
      "execution_count": 81,
      "outputs": []
    },
    {
      "cell_type": "code",
      "source": [
        "final_metrics"
      ],
      "metadata": {
        "colab": {
          "base_uri": "https://localhost:8080/",
          "height": 268
        },
        "id": "BVhrRCfvpsg5",
        "outputId": "605be147-cc9e-4f2d-e54c-1678ca24c0de"
      },
      "execution_count": 82,
      "outputs": [
        {
          "output_type": "execute_result",
          "data": {
            "text/plain": [
              "        Metric  Base Model  Attention Model\n",
              "0     Accuracy    0.880230         0.875855\n",
              "1    Precision    0.878007         0.876823\n",
              "2       Recall    0.883170         0.874570\n",
              "3  Specificity    0.877289         0.877139\n",
              "4           F1    0.880581         0.875695\n",
              "5        Auroc    0.948558         0.946011\n",
              "6        Auprc    0.945931         0.943596"
            ],
            "text/html": [
              "\n",
              "  <div id=\"df-f389cebe-3465-41cd-ae3c-50ce21de083f\" class=\"colab-df-container\">\n",
              "    <div>\n",
              "<style scoped>\n",
              "    .dataframe tbody tr th:only-of-type {\n",
              "        vertical-align: middle;\n",
              "    }\n",
              "\n",
              "    .dataframe tbody tr th {\n",
              "        vertical-align: top;\n",
              "    }\n",
              "\n",
              "    .dataframe thead th {\n",
              "        text-align: right;\n",
              "    }\n",
              "</style>\n",
              "<table border=\"1\" class=\"dataframe\">\n",
              "  <thead>\n",
              "    <tr style=\"text-align: right;\">\n",
              "      <th></th>\n",
              "      <th>Metric</th>\n",
              "      <th>Base Model</th>\n",
              "      <th>Attention Model</th>\n",
              "    </tr>\n",
              "  </thead>\n",
              "  <tbody>\n",
              "    <tr>\n",
              "      <th>0</th>\n",
              "      <td>Accuracy</td>\n",
              "      <td>0.880230</td>\n",
              "      <td>0.875855</td>\n",
              "    </tr>\n",
              "    <tr>\n",
              "      <th>1</th>\n",
              "      <td>Precision</td>\n",
              "      <td>0.878007</td>\n",
              "      <td>0.876823</td>\n",
              "    </tr>\n",
              "    <tr>\n",
              "      <th>2</th>\n",
              "      <td>Recall</td>\n",
              "      <td>0.883170</td>\n",
              "      <td>0.874570</td>\n",
              "    </tr>\n",
              "    <tr>\n",
              "      <th>3</th>\n",
              "      <td>Specificity</td>\n",
              "      <td>0.877289</td>\n",
              "      <td>0.877139</td>\n",
              "    </tr>\n",
              "    <tr>\n",
              "      <th>4</th>\n",
              "      <td>F1</td>\n",
              "      <td>0.880581</td>\n",
              "      <td>0.875695</td>\n",
              "    </tr>\n",
              "    <tr>\n",
              "      <th>5</th>\n",
              "      <td>Auroc</td>\n",
              "      <td>0.948558</td>\n",
              "      <td>0.946011</td>\n",
              "    </tr>\n",
              "    <tr>\n",
              "      <th>6</th>\n",
              "      <td>Auprc</td>\n",
              "      <td>0.945931</td>\n",
              "      <td>0.943596</td>\n",
              "    </tr>\n",
              "  </tbody>\n",
              "</table>\n",
              "</div>\n",
              "    <div class=\"colab-df-buttons\">\n",
              "\n",
              "  <div class=\"colab-df-container\">\n",
              "    <button class=\"colab-df-convert\" onclick=\"convertToInteractive('df-f389cebe-3465-41cd-ae3c-50ce21de083f')\"\n",
              "            title=\"Convert this dataframe to an interactive table.\"\n",
              "            style=\"display:none;\">\n",
              "\n",
              "  <svg xmlns=\"http://www.w3.org/2000/svg\" height=\"24px\" viewBox=\"0 -960 960 960\">\n",
              "    <path d=\"M120-120v-720h720v720H120Zm60-500h600v-160H180v160Zm220 220h160v-160H400v160Zm0 220h160v-160H400v160ZM180-400h160v-160H180v160Zm440 0h160v-160H620v160ZM180-180h160v-160H180v160Zm440 0h160v-160H620v160Z\"/>\n",
              "  </svg>\n",
              "    </button>\n",
              "\n",
              "  <style>\n",
              "    .colab-df-container {\n",
              "      display:flex;\n",
              "      gap: 12px;\n",
              "    }\n",
              "\n",
              "    .colab-df-convert {\n",
              "      background-color: #E8F0FE;\n",
              "      border: none;\n",
              "      border-radius: 50%;\n",
              "      cursor: pointer;\n",
              "      display: none;\n",
              "      fill: #1967D2;\n",
              "      height: 32px;\n",
              "      padding: 0 0 0 0;\n",
              "      width: 32px;\n",
              "    }\n",
              "\n",
              "    .colab-df-convert:hover {\n",
              "      background-color: #E2EBFA;\n",
              "      box-shadow: 0px 1px 2px rgba(60, 64, 67, 0.3), 0px 1px 3px 1px rgba(60, 64, 67, 0.15);\n",
              "      fill: #174EA6;\n",
              "    }\n",
              "\n",
              "    .colab-df-buttons div {\n",
              "      margin-bottom: 4px;\n",
              "    }\n",
              "\n",
              "    [theme=dark] .colab-df-convert {\n",
              "      background-color: #3B4455;\n",
              "      fill: #D2E3FC;\n",
              "    }\n",
              "\n",
              "    [theme=dark] .colab-df-convert:hover {\n",
              "      background-color: #434B5C;\n",
              "      box-shadow: 0px 1px 3px 1px rgba(0, 0, 0, 0.15);\n",
              "      filter: drop-shadow(0px 1px 2px rgba(0, 0, 0, 0.3));\n",
              "      fill: #FFFFFF;\n",
              "    }\n",
              "  </style>\n",
              "\n",
              "    <script>\n",
              "      const buttonEl =\n",
              "        document.querySelector('#df-f389cebe-3465-41cd-ae3c-50ce21de083f button.colab-df-convert');\n",
              "      buttonEl.style.display =\n",
              "        google.colab.kernel.accessAllowed ? 'block' : 'none';\n",
              "\n",
              "      async function convertToInteractive(key) {\n",
              "        const element = document.querySelector('#df-f389cebe-3465-41cd-ae3c-50ce21de083f');\n",
              "        const dataTable =\n",
              "          await google.colab.kernel.invokeFunction('convertToInteractive',\n",
              "                                                    [key], {});\n",
              "        if (!dataTable) return;\n",
              "\n",
              "        const docLinkHtml = 'Like what you see? Visit the ' +\n",
              "          '<a target=\"_blank\" href=https://colab.research.google.com/notebooks/data_table.ipynb>data table notebook</a>'\n",
              "          + ' to learn more about interactive tables.';\n",
              "        element.innerHTML = '';\n",
              "        dataTable['output_type'] = 'display_data';\n",
              "        await google.colab.output.renderOutput(dataTable, element);\n",
              "        const docLink = document.createElement('div');\n",
              "        docLink.innerHTML = docLinkHtml;\n",
              "        element.appendChild(docLink);\n",
              "      }\n",
              "    </script>\n",
              "  </div>\n",
              "\n",
              "\n",
              "    <div id=\"df-d985b222-9153-4558-9f94-1992b870fbee\">\n",
              "      <button class=\"colab-df-quickchart\" onclick=\"quickchart('df-d985b222-9153-4558-9f94-1992b870fbee')\"\n",
              "                title=\"Suggest charts\"\n",
              "                style=\"display:none;\">\n",
              "\n",
              "<svg xmlns=\"http://www.w3.org/2000/svg\" height=\"24px\"viewBox=\"0 0 24 24\"\n",
              "     width=\"24px\">\n",
              "    <g>\n",
              "        <path d=\"M19 3H5c-1.1 0-2 .9-2 2v14c0 1.1.9 2 2 2h14c1.1 0 2-.9 2-2V5c0-1.1-.9-2-2-2zM9 17H7v-7h2v7zm4 0h-2V7h2v10zm4 0h-2v-4h2v4z\"/>\n",
              "    </g>\n",
              "</svg>\n",
              "      </button>\n",
              "\n",
              "<style>\n",
              "  .colab-df-quickchart {\n",
              "      --bg-color: #E8F0FE;\n",
              "      --fill-color: #1967D2;\n",
              "      --hover-bg-color: #E2EBFA;\n",
              "      --hover-fill-color: #174EA6;\n",
              "      --disabled-fill-color: #AAA;\n",
              "      --disabled-bg-color: #DDD;\n",
              "  }\n",
              "\n",
              "  [theme=dark] .colab-df-quickchart {\n",
              "      --bg-color: #3B4455;\n",
              "      --fill-color: #D2E3FC;\n",
              "      --hover-bg-color: #434B5C;\n",
              "      --hover-fill-color: #FFFFFF;\n",
              "      --disabled-bg-color: #3B4455;\n",
              "      --disabled-fill-color: #666;\n",
              "  }\n",
              "\n",
              "  .colab-df-quickchart {\n",
              "    background-color: var(--bg-color);\n",
              "    border: none;\n",
              "    border-radius: 50%;\n",
              "    cursor: pointer;\n",
              "    display: none;\n",
              "    fill: var(--fill-color);\n",
              "    height: 32px;\n",
              "    padding: 0;\n",
              "    width: 32px;\n",
              "  }\n",
              "\n",
              "  .colab-df-quickchart:hover {\n",
              "    background-color: var(--hover-bg-color);\n",
              "    box-shadow: 0 1px 2px rgba(60, 64, 67, 0.3), 0 1px 3px 1px rgba(60, 64, 67, 0.15);\n",
              "    fill: var(--button-hover-fill-color);\n",
              "  }\n",
              "\n",
              "  .colab-df-quickchart-complete:disabled,\n",
              "  .colab-df-quickchart-complete:disabled:hover {\n",
              "    background-color: var(--disabled-bg-color);\n",
              "    fill: var(--disabled-fill-color);\n",
              "    box-shadow: none;\n",
              "  }\n",
              "\n",
              "  .colab-df-spinner {\n",
              "    border: 2px solid var(--fill-color);\n",
              "    border-color: transparent;\n",
              "    border-bottom-color: var(--fill-color);\n",
              "    animation:\n",
              "      spin 1s steps(1) infinite;\n",
              "  }\n",
              "\n",
              "  @keyframes spin {\n",
              "    0% {\n",
              "      border-color: transparent;\n",
              "      border-bottom-color: var(--fill-color);\n",
              "      border-left-color: var(--fill-color);\n",
              "    }\n",
              "    20% {\n",
              "      border-color: transparent;\n",
              "      border-left-color: var(--fill-color);\n",
              "      border-top-color: var(--fill-color);\n",
              "    }\n",
              "    30% {\n",
              "      border-color: transparent;\n",
              "      border-left-color: var(--fill-color);\n",
              "      border-top-color: var(--fill-color);\n",
              "      border-right-color: var(--fill-color);\n",
              "    }\n",
              "    40% {\n",
              "      border-color: transparent;\n",
              "      border-right-color: var(--fill-color);\n",
              "      border-top-color: var(--fill-color);\n",
              "    }\n",
              "    60% {\n",
              "      border-color: transparent;\n",
              "      border-right-color: var(--fill-color);\n",
              "    }\n",
              "    80% {\n",
              "      border-color: transparent;\n",
              "      border-right-color: var(--fill-color);\n",
              "      border-bottom-color: var(--fill-color);\n",
              "    }\n",
              "    90% {\n",
              "      border-color: transparent;\n",
              "      border-bottom-color: var(--fill-color);\n",
              "    }\n",
              "  }\n",
              "</style>\n",
              "\n",
              "      <script>\n",
              "        async function quickchart(key) {\n",
              "          const quickchartButtonEl =\n",
              "            document.querySelector('#' + key + ' button');\n",
              "          quickchartButtonEl.disabled = true;  // To prevent multiple clicks.\n",
              "          quickchartButtonEl.classList.add('colab-df-spinner');\n",
              "          try {\n",
              "            const charts = await google.colab.kernel.invokeFunction(\n",
              "                'suggestCharts', [key], {});\n",
              "          } catch (error) {\n",
              "            console.error('Error during call to suggestCharts:', error);\n",
              "          }\n",
              "          quickchartButtonEl.classList.remove('colab-df-spinner');\n",
              "          quickchartButtonEl.classList.add('colab-df-quickchart-complete');\n",
              "        }\n",
              "        (() => {\n",
              "          let quickchartButtonEl =\n",
              "            document.querySelector('#df-d985b222-9153-4558-9f94-1992b870fbee button');\n",
              "          quickchartButtonEl.style.display =\n",
              "            google.colab.kernel.accessAllowed ? 'block' : 'none';\n",
              "        })();\n",
              "      </script>\n",
              "    </div>\n",
              "\n",
              "  <div id=\"id_49ffb15a-801c-486c-9ee5-820b32bb1ab9\">\n",
              "    <style>\n",
              "      .colab-df-generate {\n",
              "        background-color: #E8F0FE;\n",
              "        border: none;\n",
              "        border-radius: 50%;\n",
              "        cursor: pointer;\n",
              "        display: none;\n",
              "        fill: #1967D2;\n",
              "        height: 32px;\n",
              "        padding: 0 0 0 0;\n",
              "        width: 32px;\n",
              "      }\n",
              "\n",
              "      .colab-df-generate:hover {\n",
              "        background-color: #E2EBFA;\n",
              "        box-shadow: 0px 1px 2px rgba(60, 64, 67, 0.3), 0px 1px 3px 1px rgba(60, 64, 67, 0.15);\n",
              "        fill: #174EA6;\n",
              "      }\n",
              "\n",
              "      [theme=dark] .colab-df-generate {\n",
              "        background-color: #3B4455;\n",
              "        fill: #D2E3FC;\n",
              "      }\n",
              "\n",
              "      [theme=dark] .colab-df-generate:hover {\n",
              "        background-color: #434B5C;\n",
              "        box-shadow: 0px 1px 3px 1px rgba(0, 0, 0, 0.15);\n",
              "        filter: drop-shadow(0px 1px 2px rgba(0, 0, 0, 0.3));\n",
              "        fill: #FFFFFF;\n",
              "      }\n",
              "    </style>\n",
              "    <button class=\"colab-df-generate\" onclick=\"generateWithVariable('final_metrics')\"\n",
              "            title=\"Generate code using this dataframe.\"\n",
              "            style=\"display:none;\">\n",
              "\n",
              "  <svg xmlns=\"http://www.w3.org/2000/svg\" height=\"24px\"viewBox=\"0 0 24 24\"\n",
              "       width=\"24px\">\n",
              "    <path d=\"M7,19H8.4L18.45,9,17,7.55,7,17.6ZM5,21V16.75L18.45,3.32a2,2,0,0,1,2.83,0l1.4,1.43a1.91,1.91,0,0,1,.58,1.4,1.91,1.91,0,0,1-.58,1.4L9.25,21ZM18.45,9,17,7.55Zm-12,3A5.31,5.31,0,0,0,4.9,8.1,5.31,5.31,0,0,0,1,6.5,5.31,5.31,0,0,0,4.9,4.9,5.31,5.31,0,0,0,6.5,1,5.31,5.31,0,0,0,8.1,4.9,5.31,5.31,0,0,0,12,6.5,5.46,5.46,0,0,0,6.5,12Z\"/>\n",
              "  </svg>\n",
              "    </button>\n",
              "    <script>\n",
              "      (() => {\n",
              "      const buttonEl =\n",
              "        document.querySelector('#id_49ffb15a-801c-486c-9ee5-820b32bb1ab9 button.colab-df-generate');\n",
              "      buttonEl.style.display =\n",
              "        google.colab.kernel.accessAllowed ? 'block' : 'none';\n",
              "\n",
              "      buttonEl.onclick = () => {\n",
              "        google.colab.notebook.generateWithVariable('final_metrics');\n",
              "      }\n",
              "      })();\n",
              "    </script>\n",
              "  </div>\n",
              "\n",
              "    </div>\n",
              "  </div>\n"
            ],
            "application/vnd.google.colaboratory.intrinsic+json": {
              "type": "dataframe",
              "variable_name": "final_metrics",
              "summary": "{\n  \"name\": \"final_metrics\",\n  \"rows\": 7,\n  \"fields\": [\n    {\n      \"column\": \"Metric\",\n      \"properties\": {\n        \"dtype\": \"string\",\n        \"num_unique_values\": 7,\n        \"samples\": [\n          \"Accuracy\",\n          \"Precision\",\n          \"Auroc\"\n        ],\n        \"semantic_type\": \"\",\n        \"description\": \"\"\n      }\n    },\n    {\n      \"column\": \"Base Model\",\n      \"properties\": {\n        \"dtype\": \"number\",\n        \"std\": 0.03294608173767926,\n        \"min\": 0.8772893864469322,\n        \"max\": 0.9485579753023765,\n        \"num_unique_values\": 7,\n        \"samples\": [\n          0.8802297005742514,\n          0.8780073169761801,\n          0.9485579753023765\n        ],\n        \"semantic_type\": \"\",\n        \"description\": \"\"\n      }\n    },\n    {\n      \"column\": \"Attention Model\",\n      \"properties\": {\n        \"dtype\": \"number\",\n        \"std\": 0.03358208463082928,\n        \"min\": 0.87457,\n        \"max\": 0.9460111973309866,\n        \"num_unique_values\": 7,\n        \"samples\": [\n          0.8758546896367241,\n          0.8768234362311139,\n          0.9460111973309866\n        ],\n        \"semantic_type\": \"\",\n        \"description\": \"\"\n      }\n    }\n  ]\n}"
            }
          },
          "metadata": {},
          "execution_count": 82
        }
      ]
    },
    {
      "cell_type": "code",
      "source": [
        "final_metrics.to_csv('./results/performance_metrics.csv', header = True, index = False)"
      ],
      "metadata": {
        "id": "rSO4rYTPptFL"
      },
      "execution_count": 84,
      "outputs": []
    },
    {
      "cell_type": "markdown",
      "source": [
        "### 📌 Conclusion\n",
        "\n",
        "Both models performed strongly on binary sentiment classification for Amazon reviews. The base LSTM model slightly outperformed the attention-based model across most metrics, including accuracy, recall, and AUROC. While attention helped maintain competitive performance, it did not lead to significant gains—suggesting that for this task, the base LSTM was already effective at capturing relevant context. The slightly worse performance might be due to increased overfitting of the attention model due to its higher complexity."
      ],
      "metadata": {
        "id": "3UZYL_mpqetY"
      }
    },
    {
      "cell_type": "code",
      "source": [],
      "metadata": {
        "id": "hympEpbZqcxm"
      },
      "execution_count": null,
      "outputs": []
    }
  ]
}