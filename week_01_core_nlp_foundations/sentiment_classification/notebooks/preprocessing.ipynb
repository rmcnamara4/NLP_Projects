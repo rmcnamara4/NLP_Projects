{
 "cells": [
  {
   "cell_type": "markdown",
   "metadata": {
    "id": "2I2diSFm0gCM"
   },
   "source": [
    "# Preprocessing for Sentiment Analysis - Amazon Reviews\n",
    "\n"
   ]
  },
  {
   "cell_type": "markdown",
   "metadata": {
    "id": "jVz3sGBbGq-E"
   },
   "source": [
    "> **Note**: This notebook is compatible with both Google Colab and local Jupyter environments. Colab-specific sections are clearly marked."
   ]
  },
  {
   "cell_type": "markdown",
   "metadata": {
    "id": "bb183ayhegTG"
   },
   "source": [
    "This notebook outlines the text preprocessing pipeline used for sentiment analysis on the Amazon Reviews dataset. Preprocessing is a critical step in any NLP task, as it transforms raw text into a standardized format suitable for modeling.\n",
    "\n",
    "Key preprocessing steps include:\n",
    "- Lowercasing all text\n",
    "- Removing HTML tags and special characters\n",
    "- Tokenization using simple whitespace splitting\n",
    "- Optional removal of stopwords and punctuation\n",
    "- Rejoining cleaned tokens for downstream vectorization\n",
    "\n",
    "The cleaned data is saved and used in a separate notebook for TF-IDF vectorization, model training, and evaluation. This modular structure allows for flexible experimentation with different preprocessing strategies."
   ]
  },
  {
   "cell_type": "markdown",
   "metadata": {
    "id": "lWfGowAG0juG"
   },
   "source": [
    "## Import Libraries"
   ]
  },
  {
   "cell_type": "code",
   "execution_count": 1,
   "metadata": {},
   "outputs": [
    {
     "name": "stdout",
     "output_type": "stream",
     "text": [
      "Requirement already satisfied: swifter in /opt/homebrew/Caskroom/miniforge/base/envs/nlp/lib/python3.11/site-packages (1.4.0)\n",
      "Requirement already satisfied: pandas>=1.0.0 in /opt/homebrew/Caskroom/miniforge/base/envs/nlp/lib/python3.11/site-packages (from swifter) (2.2.3)\n",
      "Requirement already satisfied: psutil>=5.6.6 in /opt/homebrew/Caskroom/miniforge/base/envs/nlp/lib/python3.11/site-packages (from swifter) (7.0.0)\n",
      "Requirement already satisfied: dask>=2.10.0 in /opt/homebrew/Caskroom/miniforge/base/envs/nlp/lib/python3.11/site-packages (from dask[dataframe]>=2.10.0->swifter) (2025.4.1)\n",
      "Requirement already satisfied: tqdm>=4.33.0 in /opt/homebrew/Caskroom/miniforge/base/envs/nlp/lib/python3.11/site-packages (from swifter) (4.67.1)\n",
      "Requirement already satisfied: click>=8.1 in /opt/homebrew/Caskroom/miniforge/base/envs/nlp/lib/python3.11/site-packages (from dask>=2.10.0->dask[dataframe]>=2.10.0->swifter) (8.1.8)\n",
      "Requirement already satisfied: cloudpickle>=3.0.0 in /opt/homebrew/Caskroom/miniforge/base/envs/nlp/lib/python3.11/site-packages (from dask>=2.10.0->dask[dataframe]>=2.10.0->swifter) (3.1.1)\n",
      "Requirement already satisfied: fsspec>=2021.09.0 in /opt/homebrew/Caskroom/miniforge/base/envs/nlp/lib/python3.11/site-packages (from dask>=2.10.0->dask[dataframe]>=2.10.0->swifter) (2025.3.0)\n",
      "Requirement already satisfied: packaging>=20.0 in /opt/homebrew/Caskroom/miniforge/base/envs/nlp/lib/python3.11/site-packages (from dask>=2.10.0->dask[dataframe]>=2.10.0->swifter) (24.2)\n",
      "Requirement already satisfied: partd>=1.4.0 in /opt/homebrew/Caskroom/miniforge/base/envs/nlp/lib/python3.11/site-packages (from dask>=2.10.0->dask[dataframe]>=2.10.0->swifter) (1.4.2)\n",
      "Requirement already satisfied: pyyaml>=5.3.1 in /opt/homebrew/Caskroom/miniforge/base/envs/nlp/lib/python3.11/site-packages (from dask>=2.10.0->dask[dataframe]>=2.10.0->swifter) (6.0.2)\n",
      "Requirement already satisfied: toolz>=0.10.0 in /opt/homebrew/Caskroom/miniforge/base/envs/nlp/lib/python3.11/site-packages (from dask>=2.10.0->dask[dataframe]>=2.10.0->swifter) (1.0.0)\n",
      "Requirement already satisfied: importlib_metadata>=4.13.0 in /opt/homebrew/Caskroom/miniforge/base/envs/nlp/lib/python3.11/site-packages (from dask>=2.10.0->dask[dataframe]>=2.10.0->swifter) (7.2.1)\n",
      "Requirement already satisfied: pyarrow>=14.0.1 in /opt/homebrew/Caskroom/miniforge/base/envs/nlp/lib/python3.11/site-packages (from dask[dataframe]>=2.10.0->swifter) (15.0.2)\n",
      "Requirement already satisfied: zipp>=0.5 in /opt/homebrew/Caskroom/miniforge/base/envs/nlp/lib/python3.11/site-packages (from importlib_metadata>=4.13.0->dask>=2.10.0->dask[dataframe]>=2.10.0->swifter) (3.21.0)\n",
      "Requirement already satisfied: numpy>=1.23.2 in /opt/homebrew/Caskroom/miniforge/base/envs/nlp/lib/python3.11/site-packages (from pandas>=1.0.0->swifter) (1.24.4)\n",
      "Requirement already satisfied: python-dateutil>=2.8.2 in /opt/homebrew/Caskroom/miniforge/base/envs/nlp/lib/python3.11/site-packages (from pandas>=1.0.0->swifter) (2.9.0.post0)\n",
      "Requirement already satisfied: pytz>=2020.1 in /opt/homebrew/Caskroom/miniforge/base/envs/nlp/lib/python3.11/site-packages (from pandas>=1.0.0->swifter) (2024.2)\n",
      "Requirement already satisfied: tzdata>=2022.7 in /opt/homebrew/Caskroom/miniforge/base/envs/nlp/lib/python3.11/site-packages (from pandas>=1.0.0->swifter) (2025.2)\n",
      "Requirement already satisfied: locket in /opt/homebrew/Caskroom/miniforge/base/envs/nlp/lib/python3.11/site-packages (from partd>=1.4.0->dask>=2.10.0->dask[dataframe]>=2.10.0->swifter) (1.0.0)\n",
      "Requirement already satisfied: six>=1.5 in /opt/homebrew/Caskroom/miniforge/base/envs/nlp/lib/python3.11/site-packages (from python-dateutil>=2.8.2->pandas>=1.0.0->swifter) (1.17.0)\n",
      "Requirement already satisfied: word2number in /opt/homebrew/Caskroom/miniforge/base/envs/nlp/lib/python3.11/site-packages (1.1)\n"
     ]
    }
   ],
   "source": [
    "!pip install swifter\n",
    "!pip install word2number"
   ]
  },
  {
   "cell_type": "code",
   "execution_count": 2,
   "metadata": {},
   "outputs": [
    {
     "name": "stdout",
     "output_type": "stream",
     "text": [
      "Not running in Colab — skipping Drive mount.\n"
     ]
    }
   ],
   "source": [
    "import sys\n",
    "import os\n",
    "if 'google.colab' in sys.modules:\n",
    "    from google.colab import drive\n",
    "    drive.mount('/content/drive')\n",
    "\n",
    "    project_path = '/content/drive/MyDrive/NLP_Projects/Week_1/sentiment-analysis/'\n",
    "    if os.path.exists(project_path):\n",
    "        os.chdir(project_path)\n",
    "        print(f\"Changed working directory to: {project_path}\")\n",
    "    else:\n",
    "        raise FileNotFoundError(f\"Project path not found: {project_path}\")\n",
    "else:\n",
    "    print(\"Not running in Colab — skipping Drive mount.\")"
   ]
  },
  {
   "cell_type": "code",
   "execution_count": 3,
   "metadata": {},
   "outputs": [
    {
     "name": "stderr",
     "output_type": "stream",
     "text": [
      "[nltk_data] Downloading package stopwords to\n",
      "[nltk_data]     /Users/rmcnamara4/nltk_data...\n",
      "[nltk_data]   Package stopwords is already up-to-date!\n",
      "[nltk_data] Downloading package wordnet to\n",
      "[nltk_data]     /Users/rmcnamara4/nltk_data...\n",
      "[nltk_data]   Package wordnet is already up-to-date!\n",
      "[nltk_data] Downloading package punkt to\n",
      "[nltk_data]     /Users/rmcnamara4/nltk_data...\n",
      "[nltk_data]   Package punkt is already up-to-date!\n",
      "[nltk_data] Downloading package omw-1.4 to\n",
      "[nltk_data]     /Users/rmcnamara4/nltk_data...\n",
      "[nltk_data]   Package omw-1.4 is already up-to-date!\n",
      "[nltk_data] Downloading package punkt_tab to\n",
      "[nltk_data]     /Users/rmcnamara4/nltk_data...\n",
      "[nltk_data]   Package punkt_tab is already up-to-date!\n",
      "/opt/homebrew/Caskroom/miniforge/base/envs/nlp/lib/python3.11/site-packages/tqdm/auto.py:21: TqdmWarning: IProgress not found. Please update jupyter and ipywidgets. See https://ipywidgets.readthedocs.io/en/stable/user_install.html\n",
      "  from .autonotebook import tqdm as notebook_tqdm\n"
     ]
    }
   ],
   "source": [
    "# import libraries\n",
    "import numpy as np\n",
    "import pandas as pd\n",
    "\n",
    "import matplotlib.pyplot as plt\n",
    "import seaborn as sns\n",
    "\n",
    "import nltk\n",
    "nltk.download('stopwords')\n",
    "nltk.download('wordnet')\n",
    "nltk.download('punkt')\n",
    "nltk.download('omw-1.4')\n",
    "nltk.download('punkt_tab')\n",
    "\n",
    "from nltk.corpus import stopwords\n",
    "from nltk.stem import WordNetLemmatizer\n",
    "from nltk.tokenize import word_tokenize\n",
    "\n",
    "import spacy\n",
    "nlp = spacy.load('en_core_web_sm', disable = ['ner', 'parser'])\n",
    "\n",
    "from sklearn.feature_extraction.text import TfidfVectorizer\n",
    "from sklearn.model_selection import train_test_split\n",
    "\n",
    "import re\n",
    "import swifter\n",
    "\n",
    "from word2number import w2n"
   ]
  },
  {
   "cell_type": "markdown",
   "metadata": {
    "id": "J0dmfGMp1Mxo"
   },
   "source": [
    "## Loading and Splitting the Dataset\n",
    "\n",
    "We begin by loading the Amazon Reviews sentiment dataset, which includes columns for sentiment labels, titles, and review text. Since the review title is not necessary for our task, we drop it and focus on the sentiment and full review content.\n",
    "\n",
    "We then perform the following splits:\n",
    "- Use 700,000 examples from the training set to reduce processing time.\n",
    "- Perform an 80/20 stratified split to create training and validation sets with balanced sentiment classes.\n",
    "\n",
    "These subsets will be saved and used for preprocessing and model training in subsequent steps."
   ]
  },
  {
   "cell_type": "code",
   "execution_count": 5,
   "metadata": {},
   "outputs": [],
   "source": [
    "train_temp = pd.read_csv('../data/train.csv', header = None)\n",
    "test = pd.read_csv('../data/test.csv', header = None)\n",
    "\n",
    "train_temp.columns = ['sentiment', 'title', 'review']\n",
    "test.columns = ['sentiment', 'title', 'review']\n",
    "\n",
    "train_temp = train_temp.drop(columns = 'title')\n",
    "test = test.drop(columns = 'title')"
   ]
  },
  {
   "cell_type": "code",
   "execution_count": 6,
   "metadata": {},
   "outputs": [],
   "source": [
    "train, _ = train_test_split(train_temp, train_size = 700_000, random_state = 432, stratify = train_temp.sentiment)\n",
    "train, val = train_test_split(train, train_size = 0.8, random_state = 432, stratify = train.sentiment)"
   ]
  },
  {
   "cell_type": "markdown",
   "metadata": {
    "id": "19WtU8QP1KuD"
   },
   "source": [
    "## EDA"
   ]
  },
  {
   "cell_type": "markdown",
   "metadata": {
    "id": "36nKQ5lk3k82"
   },
   "source": [
    "### Descriptive Statistics\n",
    "\n",
    "Before diving into text preprocessing, we inspect the basic structure of the dataset:\n",
    "\n",
    "- **Shape** of each split (train, validation, test) to confirm sizes.\n",
    "- **Missing values** in each split to ensure data completeness.\n",
    "- **Class distribution** of the `sentiment` labels to verify class balance across splits.\n",
    "\n",
    "This helps us validate that the dataset was split correctly and that no data cleaning is needed for missing entries or label imbalances."
   ]
  },
  {
   "cell_type": "code",
   "execution_count": null,
   "metadata": {},
   "outputs": [
    {
     "name": "stdout",
     "output_type": "stream",
     "text": [
      "train shape: (560000, 2)\n",
      "val shape: (140000, 2)\n",
      "test shape: (400000, 2)\n"
     ]
    }
   ],
   "source": [
    "print('train shape:', train.shape)\n",
    "print('val shape:', val.shape)\n",
    "print('test shape:', test.shape)"
   ]
  },
  {
   "cell_type": "code",
   "execution_count": null,
   "metadata": {},
   "outputs": [
    {
     "name": "stdout",
     "output_type": "stream",
     "text": [
      "train missing values:\n",
      "sentiment    0\n",
      "review       0\n",
      "dtype: int64\n",
      "\n",
      "val missing values:\n",
      "sentiment    0\n",
      "review       0\n",
      "dtype: int64\n",
      "\n",
      "test missing values:\n",
      "sentiment    0\n",
      "review       0\n",
      "dtype: int64\n"
     ]
    }
   ],
   "source": [
    "print('train missing values:')\n",
    "print(train.isna().sum())\n",
    "print()\n",
    "print('val missing values:')\n",
    "print(val.isna().sum())\n",
    "print()\n",
    "print('test missing values:')\n",
    "print(test.isna().sum())"
   ]
  },
  {
   "cell_type": "code",
   "execution_count": null,
   "metadata": {},
   "outputs": [
    {
     "name": "stdout",
     "output_type": "stream",
     "text": [
      "Train label counts:\n",
      "sentiment\n",
      "2    0.5\n",
      "1    0.5\n",
      "Name: proportion, dtype: float64\n",
      "\n",
      "Val label counts:\n",
      "sentiment\n",
      "2    0.5\n",
      "1    0.5\n",
      "Name: proportion, dtype: float64\n",
      "\n",
      "Test label counts:\n",
      "sentiment\n",
      "2    0.5\n",
      "1    0.5\n",
      "Name: proportion, dtype: float64\n"
     ]
    }
   ],
   "source": [
    "print('Train label counts:')\n",
    "print(train.sentiment.value_counts(normalize = True))\n",
    "print()\n",
    "print('Val label counts:')\n",
    "print(val.sentiment.value_counts(normalize = True))\n",
    "print()\n",
    "print('Test label counts:')\n",
    "print(test.sentiment.value_counts(normalize = True))"
   ]
  },
  {
   "cell_type": "markdown",
   "metadata": {
    "id": "f8Uwc5RVfvkd"
   },
   "source": [
    "We have perfectly balanced classes in this dataset, so there is no need to worry about resampling or minority class weighting."
   ]
  },
  {
   "cell_type": "markdown",
   "metadata": {
    "id": "hMhTbEIg3zF1"
   },
   "source": [
    "### Visualizations\n",
    "\n",
    "To better understand the structure and variability in the dataset, we visualize the distribution of review lengths:\n",
    "\n",
    "- **Character Lengths**: We compute and plot the character length distribution of reviews in the train, validation, and test sets. This helps identify outliers and informs potential max length thresholds for modeling.\n",
    "- **Token Lengths**: We also calculate and visualize the number of tokens (words) per review across all splits. These insights guide preprocessing choices like padding, truncation, and sequence length limits in downstream modeling.\n",
    "\n",
    "All histograms show percentage distributions for better comparability across dataset splits."
   ]
  },
  {
   "cell_type": "code",
   "execution_count": null,
   "metadata": {},
   "outputs": [
    {
     "name": "stdout",
     "output_type": "stream",
     "text": [
      "train review character lengths:\n",
      "count    560000.000000\n",
      "mean        404.677050\n",
      "std         234.119224\n",
      "min          12.000000\n",
      "25%         207.000000\n",
      "50%         356.000000\n",
      "75%         566.000000\n",
      "max        1008.000000\n",
      "Name: review, dtype: float64\n",
      "\n",
      "val review character lengths:\n",
      "count    140000.000000\n",
      "mean        405.328307\n",
      "std         234.325974\n",
      "min          25.000000\n",
      "25%         207.000000\n",
      "50%         356.000000\n",
      "75%         567.000000\n",
      "max        1008.000000\n",
      "Name: review, dtype: float64\n",
      "\n",
      "test review character lengths:\n",
      "count    400000.000000\n",
      "mean        404.900197\n",
      "std         234.109867\n",
      "min          15.000000\n",
      "25%         207.000000\n",
      "50%         356.000000\n",
      "75%         565.000000\n",
      "max        1009.000000\n",
      "Name: review, dtype: float64\n"
     ]
    },
    {
     "data": {
      "image/png": "[encoded data removed]",
      "text/plain": [
       "<Figure size 2000x1000 with 3 Axes>"
      ]
     },
     "metadata": {},
     "output_type": "display_data"
    }
   ],
   "source": [
    "train_character_lens = train['review'].apply(len)\n",
    "print('train review character lengths:')\n",
    "print(train_character_lens.describe())\n",
    "print()\n",
    "val_character_lens = val['review'].apply(len)\n",
    "print('val review character lengths:')\n",
    "print(val_character_lens.describe())\n",
    "print()\n",
    "test_character_lens = test['review'].apply(len)\n",
    "print('test review character lengths:')\n",
    "print(test_character_lens.describe())\n",
    "\n",
    "fig, axes = plt.subplots(ncols = 3, nrows = 1, figsize = (20, 10), sharey = True)\n",
    "sns.histplot(x = train_character_lens, bins = 50, color = 'lightblue', edgecolor = 'black', ax = axes[0], stat = 'percent')\n",
    "sns.histplot(x = val_character_lens, bins = 50, color = 'lightblue', edgecolor = 'black', ax = axes[1], stat = 'percent')\n",
    "sns.histplot(x = test_character_lens, bins = 50, color = 'lightblue', edgecolor = 'black', ax = axes[2], stat = 'percent')\n",
    "\n",
    "axes[0].set_title('Train Review Character Lengths')\n",
    "axes[1].set_title('Val Review Character Lengths')\n",
    "axes[2].set_title('Test Review Character Lengths')\n",
    "\n",
    "axes[0].set_xlabel('Character Length')\n",
    "axes[1].set_xlabel('Character Length')\n",
    "axes[2].set_xlabel('Character Length')\n",
    "\n",
    "axes[0].set_ylabel('Percentage')\n",
    "\n",
    "plt.tight_layout()\n",
    "\n",
    "plt.show()"
   ]
  },
  {
   "cell_type": "code",
   "execution_count": null,
   "metadata": {},
   "outputs": [
    {
     "data": {
      "application/vnd.jupyter.widget-view+json": {
       "model_id": "354b0f3c78d14dae896641d5bdeccf85",
       "version_major": 2,
       "version_minor": 0
      },
      "text/plain": [
       "Pandas Apply:   0%|          | 0/560000 [00:00<?, ?it/s]"
      ]
     },
     "metadata": {},
     "output_type": "display_data"
    },
    {
     "name": "stdout",
     "output_type": "stream",
     "text": [
      "train review token lengths:\n",
      "count    560000.000000\n",
      "mean         74.090934\n",
      "std          42.286954\n",
      "min           1.000000\n",
      "25%          38.000000\n",
      "50%          66.000000\n",
      "75%         103.000000\n",
      "max         240.000000\n",
      "Name: review, dtype: float64\n",
      "\n"
     ]
    },
    {
     "data": {
      "application/vnd.jupyter.widget-view+json": {
       "model_id": "2fe68f94433b4e50a818489da0c1b973",
       "version_major": 2,
       "version_minor": 0
      },
      "text/plain": [
       "Pandas Apply:   0%|          | 0/140000 [00:00<?, ?it/s]"
      ]
     },
     "metadata": {},
     "output_type": "display_data"
    },
    {
     "name": "stdout",
     "output_type": "stream",
     "text": [
      "val review token lengths:\n",
      "count    140000.000000\n",
      "mean         74.193771\n",
      "std          42.317276\n",
      "min           4.000000\n",
      "25%          39.000000\n",
      "50%          66.000000\n",
      "75%         103.000000\n",
      "max         209.000000\n",
      "Name: review, dtype: float64\n",
      "\n"
     ]
    },
    {
     "data": {
      "application/vnd.jupyter.widget-view+json": {
       "model_id": "2745687fc1014ed58e7f89f823558913",
       "version_major": 2,
       "version_minor": 0
      },
      "text/plain": [
       "Pandas Apply:   0%|          | 0/400000 [00:00<?, ?it/s]"
      ]
     },
     "metadata": {},
     "output_type": "display_data"
    },
    {
     "name": "stdout",
     "output_type": "stream",
     "text": [
      "test review token lengths:\n",
      "count    400000.000000\n",
      "mean         74.106647\n",
      "std          42.257943\n",
      "min           2.000000\n",
      "25%          39.000000\n",
      "50%          66.000000\n",
      "75%         103.000000\n",
      "max         217.000000\n",
      "Name: review, dtype: float64\n"
     ]
    },
    {
     "data": {
      "image/png": "[encoded data removed]",
      "text/plain": [
       "<Figure size 2000x1000 with 3 Axes>"
      ]
     },
     "metadata": {},
     "output_type": "display_data"
    }
   ],
   "source": [
    "train_token_lens = train['review'].swifter.apply(lambda x: len(x.split()))\n",
    "print('train review token lengths:')\n",
    "print(train_token_lens.describe())\n",
    "print()\n",
    "val_token_lens = val['review'].swifter.apply(lambda x: len(x.split()))\n",
    "print('val review token lengths:')\n",
    "print(val_token_lens.describe())\n",
    "print()\n",
    "test_token_lens = test['review'].swifter.apply(lambda x: len(x.split()))\n",
    "print('test review token lengths:')\n",
    "print(test_token_lens.describe())\n",
    "\n",
    "fig, axes = plt.subplots(ncols = 3, nrows = 1, figsize = (20, 10), sharey = True)\n",
    "sns.histplot(x = train_token_lens, bins = 50, color = 'lightblue', edgecolor = 'black', ax = axes[0], stat = 'percent')\n",
    "sns.histplot(x = val_token_lens, bins = 50, color = 'lightblue', edgecolor = 'black', ax = axes[1], stat = 'percent')\n",
    "sns.histplot(x = test_token_lens, bins = 50, color = 'lightblue', edgecolor = 'black', ax = axes[2], stat = 'percent')\n",
    "\n",
    "axes[0].set_title('Train Review Token Lengths')\n",
    "axes[1].set_title('Val Review Token Lengths')\n",
    "axes[2].set_title('Test Review Token Lengths')\n",
    "\n",
    "axes[0].set_xlabel('Token Length')\n",
    "axes[1].set_xlabel('Token Length')\n",
    "axes[2].set_xlabel('Token Length')\n",
    "\n",
    "axes[0].set_ylabel('Percentage')\n",
    "\n",
    "plt.tight_layout()\n"
   ]
  },
  {
   "cell_type": "markdown",
   "metadata": {
    "id": "C94uMoJf6vLI"
   },
   "source": [
    "## Preprocessing\n",
    "\n",
    "This section prepares the dataset for modeling by applying text normalization, token-level cleaning, and exporting processed datasets for both NLTK and spaCy pipelines."
   ]
  },
  {
   "cell_type": "markdown",
   "metadata": {
    "id": "BNM7VLQXffVE"
   },
   "source": [
    "### Key Preprocessing Steps:\n",
    "- **Number Replacement**: All numbers—both digit-based (e.g. `123`) and written (e.g. `twelve`)—are replaced with a placeholder token `<NUM>` to reduce vocabulary sparsity while preserving numeric context.\n",
    "- **NLTK Preprocessing**:\n",
    "  - Lowercase all text.\n",
    "  - Remove punctuation using regex.\n",
    "  - Tokenize with `word_tokenize`.\n",
    "  - Remove English stopwords.\n",
    "  - Lemmatize each token using WordNet.\n",
    "- **spaCy Preprocessing**:\n",
    "  - Uses `nlp.pipe` for efficient batch processing.\n",
    "  - Filters out stopwords and non-alphabetic tokens.\n",
    "  - Applies lemmatization using spaCy’s pipeline."
   ]
  },
  {
   "cell_type": "code",
   "execution_count": null,
   "metadata": {},
   "outputs": [],
   "source": [
    "def replace_numbers(text):\n",
    "  \"\"\"\n",
    "  Replaces all numeric digits and written numbers in a text string with the <NUM> token.\n",
    "\n",
    "  Args:\n",
    "      text (str): A string of text to process.\n",
    "\n",
    "  Returns:\n",
    "      str: The input text with standalone digits and number words replaced by <NUM>.\n",
    "\n",
    "  Notes:\n",
    "      - Uses regex to detect digit-based numbers (e.g., \"123\").\n",
    "      - Uses `word2number` to identify written numbers (e.g., \"twenty\").\n",
    "      - Any word that fails both checks remains unchanged.\n",
    "  \"\"\"\n",
    "  words = text.split()\n",
    "  converted_words = []\n",
    "  for word in words:\n",
    "    if re.match(r'\\b\\d+\\b', word):\n",
    "      converted_words.append('<NUM>')\n",
    "    else:\n",
    "      try:\n",
    "        _ = w2n.word_to_num(word)\n",
    "        converted_words.append('<NUM>')\n",
    "      except:\n",
    "        converted_words.append(word)\n",
    "  return ' '.join(converted_words)\n",
    "\n",
    "\n",
    "def replace_numbers_batch(texts):\n",
    "    \"\"\"\n",
    "    Replaces all numeric digits and written numbers with the <NUM> token in a batch of text strings.\n",
    "\n",
    "    Args:\n",
    "        texts (List[str]): A list of text strings to process.\n",
    "\n",
    "    Returns:\n",
    "        List[str]: A list of processed text strings with numbers replaced by <NUM>.\n",
    "\n",
    "    Notes:\n",
    "        - Applies lowercase transformation before processing.\n",
    "        - Matches digit-based numbers using regex.\n",
    "        - Converts written numbers (e.g., \"five\", \"twenty\") using `word2number`.\n",
    "        - If conversion fails, retains the original word.\n",
    "        - Handles unexpected cases by printing the problematic word (for debugging).\n",
    "    \"\"\"\n",
    "    processed_texts = []\n",
    "\n",
    "    for text in texts:\n",
    "        words = text.lower().split()\n",
    "        converted_words = []\n",
    "        for word in words:\n",
    "            if re.match(r\"\\b\\d+\\b\", word):  # Match numeric digits\n",
    "                converted_words.append(\"<NUM>\")\n",
    "            else:\n",
    "                try:\n",
    "                    _ = w2n.word_to_num(word)  # Convert written number\n",
    "                    converted_words.append(\"<NUM>\")\n",
    "                except ValueError:\n",
    "                    converted_words.append(word)\n",
    "                except IndexError:\n",
    "                    print(f'Problematic word: {word}')\n",
    "                    converted_words.append(word)\n",
    "        processed_texts.append(\" \".join(converted_words))\n",
    "\n",
    "    return processed_texts\n"
   ]
  },
  {
   "cell_type": "code",
   "execution_count": null,
   "metadata": {},
   "outputs": [],
   "source": [
    "stop_words = set(stopwords.words('english'))\n",
    "\n",
    "def preprocess_nltk(text):\n",
    "  \"\"\"\n",
    "  Applies standard NLP preprocessing steps using NLTK for a single text string.\n",
    "\n",
    "  Args:\n",
    "      text (str): The raw input text to preprocess.\n",
    "\n",
    "  Returns:\n",
    "      str: The preprocessed text with normalized tokens.\n",
    "\n",
    "  Steps:\n",
    "      - Replaces all numeric digits and written numbers with the <NUM> token.\n",
    "      - Converts text to lowercase for uniformity.\n",
    "      - Removes punctuation and non-word characters.\n",
    "      - Tokenizes the text into individual words using NLTK's tokenizer.\n",
    "      - Removes stopwords from the token list.\n",
    "      - Applies lemmatization to reduce words to their base form.\n",
    "      - Returns the cleaned text as a single space-joined string.\n",
    "  \"\"\"\n",
    "  lemmatizer = WordNetLemmatizer()\n",
    "  text = replace_numbers(text)\n",
    "  text = text.lower()\n",
    "  text = re.sub(r\"[^\\w\\s]\", \"\", text)\n",
    "  tokens = word_tokenize(text)\n",
    "  tokens = [lemmatizer.lemmatize(word) for word in tokens if word not in stop_words]\n",
    "  return ' '.join(tokens)\n",
    "\n",
    "def preprocess_spacy(texts):\n",
    "  \"\"\"\n",
    "  Applies NLP preprocessing to a batch of text documents using spaCy.\n",
    "\n",
    "  Args:\n",
    "      texts (List[str]): A list of raw text strings to preprocess.\n",
    "\n",
    "  Returns:\n",
    "      List[str]: A list of cleaned and lemmatized text strings.\n",
    "\n",
    "  Steps:\n",
    "      - Replaces numeric digits and written numbers with the <NUM> token.\n",
    "      - Processes texts in parallel using spaCy's pipeline.\n",
    "      - For each document:\n",
    "          - Removes stopwords.\n",
    "          - Keeps only alphabetic tokens (filters out punctuation/numbers).\n",
    "          - Applies lemmatization to each remaining token.\n",
    "      - Returns a list of preprocessed strings, one for each input text.\n",
    "\n",
    "  Notes:\n",
    "      - Uses spaCy's efficient `nlp.pipe()` for batching and parallel processing.\n",
    "      - The `replace_numbers_batch` function should handle both digit and written numbers.\n",
    "  \"\"\"\n",
    "  texts = replace_numbers_batch(texts)\n",
    "  processed_texts = [\n",
    "      ' '.join([token.lemma_ for token in doc if not token.is_stop and token.is_alpha]) for doc in nlp.pipe(texts, batch_size = 1000, n_process = -1)\n",
    "  ]\n",
    "  return processed_texts"
   ]
  },
  {
   "cell_type": "code",
   "execution_count": null,
   "metadata": {},
   "outputs": [
    {
     "data": {
      "application/vnd.jupyter.widget-view+json": {
       "model_id": "5518b19b62164ecb8196f945b29bfdbd",
       "version_major": 2,
       "version_minor": 0
      },
      "text/plain": [
       "Pandas Apply:   0%|          | 0/560000 [00:00<?, ?it/s]"
      ]
     },
     "metadata": {},
     "output_type": "display_data"
    },
    {
     "name": "stdout",
     "output_type": "stream",
     "text": [
      "Problematic word: million-to-one\n",
      "Problematic word: thousand-and-one\n",
      "Problematic word: million-and-one\n"
     ]
    },
    {
     "data": {
      "application/vnd.jupyter.widget-view+json": {
       "model_id": "41d6ad8c6adb48c887653adb23deb3b3",
       "version_major": 2,
       "version_minor": 0
      },
      "text/plain": [
       "Pandas Apply:   0%|          | 0/140000 [00:00<?, ?it/s]"
      ]
     },
     "metadata": {},
     "output_type": "display_data"
    },
    {
     "data": {
      "application/vnd.jupyter.widget-view+json": {
       "model_id": "7f250111c2bd45a4b03ddd357a20e413",
       "version_major": 2,
       "version_minor": 0
      },
      "text/plain": [
       "Pandas Apply:   0%|          | 0/400000 [00:00<?, ?it/s]"
      ]
     },
     "metadata": {},
     "output_type": "display_data"
    }
   ],
   "source": [
    "X_train_nltk = train.review.swifter.apply(preprocess_nltk)\n",
    "X_train_spacy = preprocess_spacy(train.review.tolist())\n",
    "\n",
    "X_val_nltk = val.review.swifter.apply(preprocess_nltk)\n",
    "X_val_spacy = preprocess_spacy(val.review.tolist())\n",
    "\n",
    "X_test_nltk = test.review.swifter.apply(preprocess_nltk)\n",
    "X_test_spacy = preprocess_spacy(test.review.tolist())\n",
    "\n",
    "y_train = train.sentiment\n",
    "y_val = val.sentiment\n",
    "y_test = test.sentiment"
   ]
  },
  {
   "cell_type": "markdown",
   "metadata": {
    "id": "Nq7CtPkUfo7P"
   },
   "source": [
    "### Output:\n",
    "Two versions of the cleaned dataset are produced:\n",
    "- **NLTK-based cleaned text** (`X_train_nltk`, `X_val_nltk`, `X_test_nltk`)\n",
    "- **spaCy-based cleaned text** (`X_train_spacy`, `X_val_spacy`, `X_test_spacy`)\n",
    "\n",
    "The labels (`y_train`, `y_val`, `y_test`) are also processed and saved, with sentiment values remapped from `{1, 2}` to binary values `{0, 1}`."
   ]
  },
  {
   "cell_type": "code",
   "execution_count": null,
   "metadata": {},
   "outputs": [],
   "source": [
    "replace_dict = {1: 0, 2: 1}\n",
    "\n",
    "X_train_nltk.to_csv('../data/X_train_nltk.csv', header = True, index = False)\n",
    "pd.Series(X_train_spacy).to_csv('../data/X_train_spacy.csv', header = True, index = False)\n",
    "y_train.replace(replace_dict).to_csv('../data/y_train.csv', header = True, index = False)\n",
    "\n",
    "X_val_nltk.to_csv('../data/X_val_nltk.csv', header = True, index = False)\n",
    "pd.Series(X_val_spacy).to_csv('../data/X_val_spacy.csv', header = True, index = False)\n",
    "y_val.replace(replace_dict).to_csv('../data/y_val.csv', header = True, index = False)\n",
    "\n",
    "X_test_nltk.to_csv('../data/X_test_nltk.csv', header = True, index = False)\n",
    "pd.Series(X_test_spacy).to_csv('../data/X_test_spacy.csv', header = True, index = False)\n",
    "y_test.replace(replace_dict).to_csv('../data/y_test.csv', header = True, index = False)"
   ]
  },
  {
   "cell_type": "code",
   "execution_count": null,
   "metadata": {},
   "outputs": [],
   "source": []
  }
 ],
 "metadata": {
  "kernelspec": {
   "display_name": "nlp",
   "language": "python",
   "name": "python3"
  },
  "language_info": {
   "codemirror_mode": {
    "name": "ipython",
    "version": 3
   },
   "file_extension": ".py",
   "mimetype": "text/x-python",
   "name": "python",
   "nbconvert_exporter": "python",
   "pygments_lexer": "ipython3",
   "version": "3.11.12"
  }
 },
 "nbformat": 4,
 "nbformat_minor": 0
}
