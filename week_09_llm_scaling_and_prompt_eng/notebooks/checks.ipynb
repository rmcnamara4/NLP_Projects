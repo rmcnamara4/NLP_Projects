{
 "cells": [
  {
   "cell_type": "code",
   "execution_count": 12,
   "id": "0f7282c3",
   "metadata": {},
   "outputs": [],
   "source": [
    "import pandas as pd \n",
    "import numpy as np\n",
    "\n",
    "import os"
   ]
  },
  {
   "cell_type": "code",
   "execution_count": 19,
   "id": "f455ab88",
   "metadata": {},
   "outputs": [],
   "source": [
    "import re\n",
    "\n",
    "def extract_final_answer(text):\n",
    "    # Remove any artifacts like <<...>>\n",
    "    text = re.sub(r'<<.*?>>', '', text)\n",
    "\n",
    "    # Improved regex to catch full numbers like 1000, 105,000.00, etc.\n",
    "    matches = re.findall(r'\\b\\d[\\d,]*\\.?\\d*\\b', text)\n",
    "\n",
    "    if matches:\n",
    "        cleaned = matches[-1].replace(',', '')\n",
    "        try:\n",
    "            return float(cleaned)\n",
    "        except:\n",
    "            return None\n",
    "    \n",
    "    return None"
   ]
  },
  {
   "cell_type": "code",
   "execution_count": 20,
   "id": "4e6df587",
   "metadata": {},
   "outputs": [],
   "source": [
    "from datasets import load_dataset"
   ]
  },
  {
   "cell_type": "code",
   "execution_count": 23,
   "id": "cb945323",
   "metadata": {},
   "outputs": [],
   "source": [
    "dataset = load_dataset('gsm8k', 'main')"
   ]
  },
  {
   "cell_type": "code",
   "execution_count": 24,
   "id": "bd76e2d8",
   "metadata": {},
   "outputs": [],
   "source": [
    "dataset = dataset['test']\n",
    "dataset = dataset.shuffle(seed = 24).select(range(250))"
   ]
  },
  {
   "cell_type": "code",
   "execution_count": 35,
   "id": "b6dcc694",
   "metadata": {},
   "outputs": [],
   "source": [
    "correct_ans = pd.Series(dataset['answer']).apply(extract_final_answer)\n",
    "correct_ans = [float(p) for p in correct_ans]"
   ]
  },
  {
   "cell_type": "code",
   "execution_count": 159,
   "id": "6f0d5925",
   "metadata": {},
   "outputs": [],
   "source": [
    "path = '../outputs/chatgpt-3.5-turbo/few_shot_cot_v1/results.csv'"
   ]
  },
  {
   "cell_type": "code",
   "execution_count": 160,
   "id": "49897333",
   "metadata": {},
   "outputs": [],
   "source": [
    "results = pd.read_csv(path)"
   ]
  },
  {
   "cell_type": "code",
   "execution_count": 161,
   "id": "a91e68ff",
   "metadata": {},
   "outputs": [
    {
     "data": {
      "text/plain": [
       "0.748"
      ]
     },
     "execution_count": 161,
     "metadata": {},
     "output_type": "execute_result"
    }
   ],
   "source": [
    "results['is_correct'].mean()"
   ]
  },
  {
   "cell_type": "code",
   "execution_count": 162,
   "id": "356f32f1",
   "metadata": {},
   "outputs": [],
   "source": [
    "results['expected_answer'] = correct_ans\n",
    "results['is_correct'] = (results['expected_answer'] == results['model_prediction']).astype(int)"
   ]
  },
  {
   "cell_type": "code",
   "execution_count": 163,
   "id": "2d117fd7",
   "metadata": {},
   "outputs": [
    {
     "data": {
      "text/plain": [
       "0.82"
      ]
     },
     "execution_count": 163,
     "metadata": {},
     "output_type": "execute_result"
    }
   ],
   "source": [
    "results['is_correct'].mean()"
   ]
  },
  {
   "cell_type": "code",
   "execution_count": 164,
   "id": "dc237e13",
   "metadata": {},
   "outputs": [],
   "source": [
    "results.to_csv(path, header = True, index = False)"
   ]
  },
  {
   "cell_type": "code",
   "execution_count": null,
   "id": "3d343595",
   "metadata": {},
   "outputs": [],
   "source": []
  }
 ],
 "metadata": {
  "kernelspec": {
   "display_name": "transformer-env",
   "language": "python",
   "name": "python3"
  },
  "language_info": {
   "codemirror_mode": {
    "name": "ipython",
    "version": 3
   },
   "file_extension": ".py",
   "mimetype": "text/x-python",
   "name": "python",
   "nbconvert_exporter": "python",
   "pygments_lexer": "ipython3",
   "version": "3.10.18"
  }
 },
 "nbformat": 4,
 "nbformat_minor": 5
}
