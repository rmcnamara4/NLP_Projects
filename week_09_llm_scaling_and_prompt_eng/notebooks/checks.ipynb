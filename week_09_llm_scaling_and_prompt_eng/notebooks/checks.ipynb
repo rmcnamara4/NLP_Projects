{
 "cells": [
  {
   "cell_type": "code",
   "execution_count": 1,
   "id": "0f7282c3",
   "metadata": {},
   "outputs": [],
   "source": [
    "import pandas as pd \n",
    "import numpy as np\n",
    "\n",
    "import os"
   ]
  },
  {
   "cell_type": "code",
   "execution_count": 190,
   "id": "e5fe2b8d",
   "metadata": {},
   "outputs": [],
   "source": [
    "path = '../outputs/chatgpt-3.5-turbo/few_shot_v1/results.csv'"
   ]
  },
  {
   "cell_type": "code",
   "execution_count": 191,
   "id": "e653c67c",
   "metadata": {},
   "outputs": [],
   "source": [
    "results = pd.read_csv(path)"
   ]
  },
  {
   "cell_type": "code",
   "execution_count": 192,
   "id": "612bd26c",
   "metadata": {},
   "outputs": [
    {
     "data": {
      "text/plain": [
       "np.float64(0.26)"
      ]
     },
     "execution_count": 192,
     "metadata": {},
     "output_type": "execute_result"
    }
   ],
   "source": [
    "results['is_correct'].mean()"
   ]
  },
  {
   "cell_type": "code",
   "execution_count": 193,
   "id": "d44695ea",
   "metadata": {},
   "outputs": [],
   "source": [
    "import re\n",
    "\n",
    "def extract_final_answer(text):\n",
    "    # Remove any artifacts like <<...>>\n",
    "    text = re.sub(r'<<.*?>>', '', text)\n",
    "\n",
    "    # Improved regex to catch full numbers like 1000, 105,000.00, etc.\n",
    "    matches = re.findall(r'\\b\\d[\\d,]*\\.?\\d*\\b', text)\n",
    "\n",
    "    if matches:\n",
    "        cleaned = matches[-1].replace(',', '')\n",
    "        try:\n",
    "            return float(cleaned)\n",
    "        except:\n",
    "            return None\n",
    "    \n",
    "    return None"
   ]
  },
  {
   "cell_type": "code",
   "execution_count": 194,
   "id": "092fcf8d",
   "metadata": {},
   "outputs": [],
   "source": [
    "check = results['generated_text'].apply(extract_final_answer)\n",
    "results['model_prediction'] = [float(p) if p is not None else None for p in check]"
   ]
  },
  {
   "cell_type": "code",
   "execution_count": 195,
   "id": "37bad564",
   "metadata": {},
   "outputs": [],
   "source": [
    "results['is_correct'] = (results['expected_answer'] == results['model_prediction']).astype(int)"
   ]
  },
  {
   "cell_type": "code",
   "execution_count": 196,
   "id": "d259a3cd",
   "metadata": {},
   "outputs": [
    {
     "data": {
      "text/plain": [
       "np.float64(0.252)"
      ]
     },
     "execution_count": 196,
     "metadata": {},
     "output_type": "execute_result"
    }
   ],
   "source": [
    "results['is_correct'].mean()"
   ]
  },
  {
   "cell_type": "code",
   "execution_count": 197,
   "id": "37156c9d",
   "metadata": {},
   "outputs": [],
   "source": [
    "results.to_csv(path, header = True, index = False)"
   ]
  },
  {
   "cell_type": "code",
   "execution_count": null,
   "id": "06899e18",
   "metadata": {},
   "outputs": [],
   "source": []
  }
 ],
 "metadata": {
  "kernelspec": {
   "display_name": "llm-env",
   "language": "python",
   "name": "python3"
  },
  "language_info": {
   "codemirror_mode": {
    "name": "ipython",
    "version": 3
   },
   "file_extension": ".py",
   "mimetype": "text/x-python",
   "name": "python",
   "nbconvert_exporter": "python",
   "pygments_lexer": "ipython3",
   "version": "3.10.18"
  }
 },
 "nbformat": 4,
 "nbformat_minor": 5
}
