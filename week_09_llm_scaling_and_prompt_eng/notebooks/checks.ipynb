{
 "cells": [
  {
   "cell_type": "code",
   "execution_count": 1,
   "id": "0f7282c3",
   "metadata": {},
   "outputs": [],
   "source": [
    "import pandas as pd \n",
    "import numpy as np\n",
    "\n",
    "import os"
   ]
  },
  {
   "cell_type": "code",
   "execution_count": 2,
   "id": "d485a289",
   "metadata": {},
   "outputs": [
    {
     "ename": "NotADirectoryError",
     "evalue": "[Errno 20] Not a directory: '../outputs/mistral-7B/zero_shot_v1/results.csv'",
     "output_type": "error",
     "traceback": [
      "\u001b[0;31m---------------------------------------------------------------------------\u001b[0m",
      "\u001b[0;31mNotADirectoryError\u001b[0m                        Traceback (most recent call last)",
      "Cell \u001b[0;32mIn[2], line 1\u001b[0m\n\u001b[0;32m----> 1\u001b[0m \u001b[43mos\u001b[49m\u001b[38;5;241;43m.\u001b[39;49m\u001b[43mlistdir\u001b[49m\u001b[43m(\u001b[49m\u001b[38;5;124;43m'\u001b[39;49m\u001b[38;5;124;43m../outputs/mistral-7B/zero_shot_v1/results.csv\u001b[39;49m\u001b[38;5;124;43m'\u001b[39;49m\u001b[43m)\u001b[49m\n",
      "\u001b[0;31mNotADirectoryError\u001b[0m: [Errno 20] Not a directory: '../outputs/mistral-7B/zero_shot_v1/results.csv'"
     ]
    }
   ],
   "source": [
    "os.listdir('../outputs/mistral-7B/zero_shot_v1/results.csv')"
   ]
  },
  {
   "cell_type": "code",
   "execution_count": 3,
   "id": "e653c67c",
   "metadata": {},
   "outputs": [],
   "source": [
    "results = pd.read_csv('../outputs/mistral-7B/zero_shot_v1/results.csv')"
   ]
  },
  {
   "cell_type": "code",
   "execution_count": null,
   "id": "092fcf8d",
   "metadata": {},
   "outputs": [
    {
     "data": {
      "text/html": [
       "<div>\n",
       "<style scoped>\n",
       "    .dataframe tbody tr th:only-of-type {\n",
       "        vertical-align: middle;\n",
       "    }\n",
       "\n",
       "    .dataframe tbody tr th {\n",
       "        vertical-align: top;\n",
       "    }\n",
       "\n",
       "    .dataframe thead th {\n",
       "        text-align: right;\n",
       "    }\n",
       "</style>\n",
       "<table border=\"1\" class=\"dataframe\">\n",
       "  <thead>\n",
       "    <tr style=\"text-align: right;\">\n",
       "      <th></th>\n",
       "      <th>example_id</th>\n",
       "      <th>question</th>\n",
       "      <th>expected_answer</th>\n",
       "      <th>generated_text</th>\n",
       "      <th>model_prediction</th>\n",
       "      <th>is_correct</th>\n",
       "      <th>model_name</th>\n",
       "      <th>prompt_version</th>\n",
       "      <th>timestamp</th>\n",
       "    </tr>\n",
       "  </thead>\n",
       "  <tbody>\n",
       "    <tr>\n",
       "      <th>0</th>\n",
       "      <td>0</td>\n",
       "      <td>James gets a job selling used cars.  He sold 1...</td>\n",
       "      <td>17500.0</td>\n",
       "      <td>1000</td>\n",
       "      <td>1000.0</td>\n",
       "      <td>0</td>\n",
       "      <td>mistralai/Mistral-7B-Instruct-v0.1</td>\n",
       "      <td>zero_shot_v1</td>\n",
       "      <td>2025-08-02T18:12:30.134226</td>\n",
       "    </tr>\n",
       "    <tr>\n",
       "      <th>1</th>\n",
       "      <td>1</td>\n",
       "      <td>Matteo traveled at 55 miles per hour for 4 hou...</td>\n",
       "      <td>230.0</td>\n",
       "      <td>150</td>\n",
       "      <td>150.0</td>\n",
       "      <td>0</td>\n",
       "      <td>mistralai/Mistral-7B-Instruct-v0.1</td>\n",
       "      <td>zero_shot_v1</td>\n",
       "      <td>2025-08-02T18:12:30.134226</td>\n",
       "    </tr>\n",
       "    <tr>\n",
       "      <th>2</th>\n",
       "      <td>2</td>\n",
       "      <td>Sam sells bread. He has a target of selling 12...</td>\n",
       "      <td>55.0</td>\n",
       "      <td>10</td>\n",
       "      <td>10.0</td>\n",
       "      <td>0</td>\n",
       "      <td>mistralai/Mistral-7B-Instruct-v0.1</td>\n",
       "      <td>zero_shot_v1</td>\n",
       "      <td>2025-08-02T18:12:30.134226</td>\n",
       "    </tr>\n",
       "    <tr>\n",
       "      <th>3</th>\n",
       "      <td>3</td>\n",
       "      <td>A herd consists of camels and dromedaries. The...</td>\n",
       "      <td>56.0</td>\n",
       "      <td>48</td>\n",
       "      <td>48.0</td>\n",
       "      <td>0</td>\n",
       "      <td>mistralai/Mistral-7B-Instruct-v0.1</td>\n",
       "      <td>zero_shot_v1</td>\n",
       "      <td>2025-08-02T18:12:30.134226</td>\n",
       "    </tr>\n",
       "    <tr>\n",
       "      <th>4</th>\n",
       "      <td>4</td>\n",
       "      <td>Ellen decided to play a prank on her friend. S...</td>\n",
       "      <td>25.0</td>\n",
       "      <td>11%</td>\n",
       "      <td>11.0</td>\n",
       "      <td>0</td>\n",
       "      <td>mistralai/Mistral-7B-Instruct-v0.1</td>\n",
       "      <td>zero_shot_v1</td>\n",
       "      <td>2025-08-02T18:12:30.134226</td>\n",
       "    </tr>\n",
       "  </tbody>\n",
       "</table>\n",
       "</div>"
      ],
      "text/plain": [
       "   example_id                                           question  \\\n",
       "0           0  James gets a job selling used cars.  He sold 1...   \n",
       "1           1  Matteo traveled at 55 miles per hour for 4 hou...   \n",
       "2           2  Sam sells bread. He has a target of selling 12...   \n",
       "3           3  A herd consists of camels and dromedaries. The...   \n",
       "4           4  Ellen decided to play a prank on her friend. S...   \n",
       "\n",
       "   expected_answer generated_text  model_prediction  is_correct  \\\n",
       "0          17500.0           1000            1000.0           0   \n",
       "1            230.0            150             150.0           0   \n",
       "2             55.0             10              10.0           0   \n",
       "3             56.0             48              48.0           0   \n",
       "4             25.0            11%              11.0           0   \n",
       "\n",
       "                           model_name prompt_version  \\\n",
       "0  mistralai/Mistral-7B-Instruct-v0.1   zero_shot_v1   \n",
       "1  mistralai/Mistral-7B-Instruct-v0.1   zero_shot_v1   \n",
       "2  mistralai/Mistral-7B-Instruct-v0.1   zero_shot_v1   \n",
       "3  mistralai/Mistral-7B-Instruct-v0.1   zero_shot_v1   \n",
       "4  mistralai/Mistral-7B-Instruct-v0.1   zero_shot_v1   \n",
       "\n",
       "                    timestamp  \n",
       "0  2025-08-02T18:12:30.134226  \n",
       "1  2025-08-02T18:12:30.134226  \n",
       "2  2025-08-02T18:12:30.134226  \n",
       "3  2025-08-02T18:12:30.134226  \n",
       "4  2025-08-02T18:12:30.134226  "
      ]
     },
     "execution_count": 4,
     "metadata": {},
     "output_type": "execute_result"
    }
   ],
   "source": [
    "results.iloc"
   ]
  },
  {
   "cell_type": "code",
   "execution_count": 28,
   "id": "8258afc8",
   "metadata": {},
   "outputs": [
    {
     "data": {
      "text/plain": [
       "'The answer is X.'"
      ]
     },
     "execution_count": 28,
     "metadata": {},
     "output_type": "execute_result"
    }
   ],
   "source": [
    "results.iloc[97].generated_text"
   ]
  },
  {
   "cell_type": "code",
   "execution_count": 27,
   "id": "304f3709",
   "metadata": {},
   "outputs": [
    {
     "data": {
      "text/plain": [
       "np.float64(nan)"
      ]
     },
     "execution_count": 27,
     "metadata": {},
     "output_type": "execute_result"
    }
   ],
   "source": [
    "results.iloc[97].model_prediction"
   ]
  },
  {
   "cell_type": "code",
   "execution_count": null,
   "id": "d259a3cd",
   "metadata": {},
   "outputs": [],
   "source": []
  }
 ],
 "metadata": {
  "kernelspec": {
   "display_name": "transformer-env",
   "language": "python",
   "name": "python3"
  },
  "language_info": {
   "codemirror_mode": {
    "name": "ipython",
    "version": 3
   },
   "file_extension": ".py",
   "mimetype": "text/x-python",
   "name": "python",
   "nbconvert_exporter": "python",
   "pygments_lexer": "ipython3",
   "version": "3.10.18"
  }
 },
 "nbformat": 4,
 "nbformat_minor": 5
}
