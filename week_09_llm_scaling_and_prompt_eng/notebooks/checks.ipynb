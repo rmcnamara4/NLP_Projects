{
 "cells": [
  {
   "cell_type": "code",
   "execution_count": 1,
   "id": "0f7282c3",
   "metadata": {},
   "outputs": [],
   "source": [
    "import pandas as pd \n",
    "import numpy as np\n",
    "\n",
    "import os"
   ]
  },
  {
   "cell_type": "code",
   "execution_count": 4,
   "id": "d485a289",
   "metadata": {},
   "outputs": [
    {
     "ename": "NotADirectoryError",
     "evalue": "[Errno 20] Not a directory: '../outputs/mistral-7B/few_shot_cot_v1/results.csv'",
     "output_type": "error",
     "traceback": [
      "\u001b[0;31m---------------------------------------------------------------------------\u001b[0m",
      "\u001b[0;31mNotADirectoryError\u001b[0m                        Traceback (most recent call last)",
      "Cell \u001b[0;32mIn[4], line 1\u001b[0m\n\u001b[0;32m----> 1\u001b[0m \u001b[43mos\u001b[49m\u001b[38;5;241;43m.\u001b[39;49m\u001b[43mlistdir\u001b[49m\u001b[43m(\u001b[49m\u001b[38;5;124;43m'\u001b[39;49m\u001b[38;5;124;43m../outputs/mistral-7B/few_shot_cot_v1/results.csv\u001b[39;49m\u001b[38;5;124;43m'\u001b[39;49m\u001b[43m)\u001b[49m\n",
      "\u001b[0;31mNotADirectoryError\u001b[0m: [Errno 20] Not a directory: '../outputs/mistral-7B/few_shot_cot_v1/results.csv'"
     ]
    }
   ],
   "source": [
    "os.listdir('../outputs/mistral-7B/few_shot_cot_v1/results.csv')"
   ]
  },
  {
   "cell_type": "code",
   "execution_count": 18,
   "id": "e653c67c",
   "metadata": {},
   "outputs": [],
   "source": [
    "results = pd.read_csv('../outputs/mistral-7B/one_shot_cot_v1_longer_output/results.csv')"
   ]
  },
  {
   "cell_type": "code",
   "execution_count": 32,
   "id": "092fcf8d",
   "metadata": {},
   "outputs": [
    {
     "data": {
      "text/plain": [
       "np.int64(45)"
      ]
     },
     "execution_count": 32,
     "metadata": {},
     "output_type": "execute_result"
    }
   ],
   "source": [
    "(results['generated_text'] == 'The answer is X.').sum()"
   ]
  },
  {
   "cell_type": "code",
   "execution_count": 28,
   "id": "8258afc8",
   "metadata": {},
   "outputs": [
    {
     "data": {
      "text/plain": [
       "'The answer is X.'"
      ]
     },
     "execution_count": 28,
     "metadata": {},
     "output_type": "execute_result"
    }
   ],
   "source": [
    "results.iloc[97].generated_text"
   ]
  },
  {
   "cell_type": "code",
   "execution_count": 27,
   "id": "304f3709",
   "metadata": {},
   "outputs": [
    {
     "data": {
      "text/plain": [
       "np.float64(nan)"
      ]
     },
     "execution_count": 27,
     "metadata": {},
     "output_type": "execute_result"
    }
   ],
   "source": [
    "results.iloc[97].model_prediction"
   ]
  },
  {
   "cell_type": "code",
   "execution_count": null,
   "id": "d259a3cd",
   "metadata": {},
   "outputs": [],
   "source": []
  }
 ],
 "metadata": {
  "kernelspec": {
   "display_name": "llm-env",
   "language": "python",
   "name": "python3"
  },
  "language_info": {
   "codemirror_mode": {
    "name": "ipython",
    "version": 3
   },
   "file_extension": ".py",
   "mimetype": "text/x-python",
   "name": "python",
   "nbconvert_exporter": "python",
   "pygments_lexer": "ipython3",
   "version": "3.10.18"
  }
 },
 "nbformat": 4,
 "nbformat_minor": 5
}
